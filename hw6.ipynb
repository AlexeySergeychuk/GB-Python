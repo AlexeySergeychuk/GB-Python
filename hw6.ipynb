{
  "nbformat": 4,
  "nbformat_minor": 0,
  "metadata": {
    "colab": {
      "name": "hw6.ipynb",
      "provenance": [],
      "collapsed_sections": [],
      "authorship_tag": "ABX9TyPzQA8TyoKlYFf2dZK/HUOX",
      "include_colab_link": true
    },
    "kernelspec": {
      "name": "python3",
      "display_name": "Python 3"
    },
    "language_info": {
      "name": "python"
    }
  },
  "cells": [
    {
      "cell_type": "markdown",
      "metadata": {
        "id": "view-in-github",
        "colab_type": "text"
      },
      "source": [
        "<a href=\"https://colab.research.google.com/github/AlexeySergeychuk/GB-Python/blob/lesson6/hw6.ipynb\" target=\"_parent\"><img src=\"https://colab.research.google.com/assets/colab-badge.svg\" alt=\"Open In Colab\"/></a>"
      ]
    },
    {
      "cell_type": "markdown",
      "metadata": {
        "id": "EW3c6Ke9Mzhv"
      },
      "source": [
        "**Задание 1**\n",
        "Импортируйте библиотеки pandas и numpy.\n",
        "Загрузите \"Boston House Prices dataset\" из встроенных наборов данных библиотеки sklearn. Создайте датафреймы X и y из этих данных.\n",
        "Разбейте эти датафреймы на тренировочные (X_train, y_train) и тестовые (X_test, y_test) с помощью функции train_test_split так, чтобы размер тестовой выборки\n",
        "составлял 30% от всех данных, при этом аргумент random_state должен быть равен 42.\n",
        "Создайте модель линейной регрессии под названием lr с помощью класса LinearRegression из модуля sklearn.linear_model.\n",
        "Обучите модель на тренировочных данных (используйте все признаки) и сделайте предсказание на тестовых.\n",
        "Вычислите R2 полученных предказаний с помощью r2_score из модуля sklearn.metrics.\n"
      ]
    },
    {
      "cell_type": "code",
      "metadata": {
        "id": "_mCPpIoOMl4J"
      },
      "source": [
        "import pandas as pd\n",
        "import numpy as np\n",
        "from sklearn.datasets import load_boston\n",
        "from sklearn.model_selection import train_test_split\n",
        "from sklearn.linear_model import LinearRegression"
      ],
      "execution_count": 31,
      "outputs": []
    },
    {
      "cell_type": "code",
      "metadata": {
        "id": "Eu7jeWu5M1rM"
      },
      "source": [
        "boston = load_boston()"
      ],
      "execution_count": 11,
      "outputs": []
    },
    {
      "cell_type": "code",
      "metadata": {
        "id": "-HF7yGyNPDPu"
      },
      "source": [
        "data = boston.data"
      ],
      "execution_count": 13,
      "outputs": []
    },
    {
      "cell_type": "code",
      "metadata": {
        "id": "f8MVBoLyPNly"
      },
      "source": [
        "target = boston.target"
      ],
      "execution_count": 14,
      "outputs": []
    },
    {
      "cell_type": "code",
      "metadata": {
        "colab": {
          "base_uri": "https://localhost:8080/"
        },
        "id": "6CYn1nbnPVVM",
        "outputId": "93ba4355-7c1e-4c82-d028-ac358cd42c66"
      },
      "source": [
        "feature_names = boston.feature_names\n",
        "feature_names"
      ],
      "execution_count": 17,
      "outputs": [
        {
          "output_type": "execute_result",
          "data": {
            "text/plain": [
              "array(['CRIM', 'ZN', 'INDUS', 'CHAS', 'NOX', 'RM', 'AGE', 'DIS', 'RAD',\n",
              "       'TAX', 'PTRATIO', 'B', 'LSTAT'], dtype='<U7')"
            ]
          },
          "metadata": {
            "tags": []
          },
          "execution_count": 17
        }
      ]
    },
    {
      "cell_type": "code",
      "metadata": {
        "colab": {
          "base_uri": "https://localhost:8080/"
        },
        "id": "kXsYiJ7LPgJ1",
        "outputId": "b613bfbd-22f0-47cb-bde3-402232154716"
      },
      "source": [
        "for line in boston.DESCR.split('\\n'):\n",
        "  print(line)"
      ],
      "execution_count": 18,
      "outputs": [
        {
          "output_type": "stream",
          "text": [
            ".. _boston_dataset:\n",
            "\n",
            "Boston house prices dataset\n",
            "---------------------------\n",
            "\n",
            "**Data Set Characteristics:**  \n",
            "\n",
            "    :Number of Instances: 506 \n",
            "\n",
            "    :Number of Attributes: 13 numeric/categorical predictive. Median Value (attribute 14) is usually the target.\n",
            "\n",
            "    :Attribute Information (in order):\n",
            "        - CRIM     per capita crime rate by town\n",
            "        - ZN       proportion of residential land zoned for lots over 25,000 sq.ft.\n",
            "        - INDUS    proportion of non-retail business acres per town\n",
            "        - CHAS     Charles River dummy variable (= 1 if tract bounds river; 0 otherwise)\n",
            "        - NOX      nitric oxides concentration (parts per 10 million)\n",
            "        - RM       average number of rooms per dwelling\n",
            "        - AGE      proportion of owner-occupied units built prior to 1940\n",
            "        - DIS      weighted distances to five Boston employment centres\n",
            "        - RAD      index of accessibility to radial highways\n",
            "        - TAX      full-value property-tax rate per $10,000\n",
            "        - PTRATIO  pupil-teacher ratio by town\n",
            "        - B        1000(Bk - 0.63)^2 where Bk is the proportion of blacks by town\n",
            "        - LSTAT    % lower status of the population\n",
            "        - MEDV     Median value of owner-occupied homes in $1000's\n",
            "\n",
            "    :Missing Attribute Values: None\n",
            "\n",
            "    :Creator: Harrison, D. and Rubinfeld, D.L.\n",
            "\n",
            "This is a copy of UCI ML housing dataset.\n",
            "https://archive.ics.uci.edu/ml/machine-learning-databases/housing/\n",
            "\n",
            "\n",
            "This dataset was taken from the StatLib library which is maintained at Carnegie Mellon University.\n",
            "\n",
            "The Boston house-price data of Harrison, D. and Rubinfeld, D.L. 'Hedonic\n",
            "prices and the demand for clean air', J. Environ. Economics & Management,\n",
            "vol.5, 81-102, 1978.   Used in Belsley, Kuh & Welsch, 'Regression diagnostics\n",
            "...', Wiley, 1980.   N.B. Various transformations are used in the table on\n",
            "pages 244-261 of the latter.\n",
            "\n",
            "The Boston house-price data has been used in many machine learning papers that address regression\n",
            "problems.   \n",
            "     \n",
            ".. topic:: References\n",
            "\n",
            "   - Belsley, Kuh & Welsch, 'Regression diagnostics: Identifying Influential Data and Sources of Collinearity', Wiley, 1980. 244-261.\n",
            "   - Quinlan,R. (1993). Combining Instance-Based and Model-Based Learning. In Proceedings on the Tenth International Conference of Machine Learning, 236-243, University of Massachusetts, Amherst. Morgan Kaufmann.\n",
            "\n"
          ],
          "name": "stdout"
        }
      ]
    },
    {
      "cell_type": "code",
      "metadata": {
        "colab": {
          "base_uri": "https://localhost:8080/"
        },
        "id": "mQYlgfVzNfwH",
        "outputId": "e72f20e5-b9a0-40b4-bdfe-c6822dd9aa4b"
      },
      "source": [
        "boston.keys()"
      ],
      "execution_count": 12,
      "outputs": [
        {
          "output_type": "execute_result",
          "data": {
            "text/plain": [
              "dict_keys(['data', 'target', 'feature_names', 'DESCR', 'filename'])"
            ]
          },
          "metadata": {
            "tags": []
          },
          "execution_count": 12
        }
      ]
    },
    {
      "cell_type": "markdown",
      "metadata": {
        "id": "BjjQhsv5P6MZ"
      },
      "source": [
        "создаем два датафрейма\n"
      ]
    },
    {
      "cell_type": "code",
      "metadata": {
        "colab": {
          "base_uri": "https://localhost:8080/",
          "height": 204
        },
        "id": "aa3j9elDP-WI",
        "outputId": "d90c4227-9cde-426f-aa4f-77e9c384153f"
      },
      "source": [
        "X = pd.DataFrame(data, columns=feature_names)\n",
        "X.head()"
      ],
      "execution_count": 20,
      "outputs": [
        {
          "output_type": "execute_result",
          "data": {
            "text/html": [
              "<div>\n",
              "<style scoped>\n",
              "    .dataframe tbody tr th:only-of-type {\n",
              "        vertical-align: middle;\n",
              "    }\n",
              "\n",
              "    .dataframe tbody tr th {\n",
              "        vertical-align: top;\n",
              "    }\n",
              "\n",
              "    .dataframe thead th {\n",
              "        text-align: right;\n",
              "    }\n",
              "</style>\n",
              "<table border=\"1\" class=\"dataframe\">\n",
              "  <thead>\n",
              "    <tr style=\"text-align: right;\">\n",
              "      <th></th>\n",
              "      <th>CRIM</th>\n",
              "      <th>ZN</th>\n",
              "      <th>INDUS</th>\n",
              "      <th>CHAS</th>\n",
              "      <th>NOX</th>\n",
              "      <th>RM</th>\n",
              "      <th>AGE</th>\n",
              "      <th>DIS</th>\n",
              "      <th>RAD</th>\n",
              "      <th>TAX</th>\n",
              "      <th>PTRATIO</th>\n",
              "      <th>B</th>\n",
              "      <th>LSTAT</th>\n",
              "    </tr>\n",
              "  </thead>\n",
              "  <tbody>\n",
              "    <tr>\n",
              "      <th>0</th>\n",
              "      <td>0.00632</td>\n",
              "      <td>18.0</td>\n",
              "      <td>2.31</td>\n",
              "      <td>0.0</td>\n",
              "      <td>0.538</td>\n",
              "      <td>6.575</td>\n",
              "      <td>65.2</td>\n",
              "      <td>4.0900</td>\n",
              "      <td>1.0</td>\n",
              "      <td>296.0</td>\n",
              "      <td>15.3</td>\n",
              "      <td>396.90</td>\n",
              "      <td>4.98</td>\n",
              "    </tr>\n",
              "    <tr>\n",
              "      <th>1</th>\n",
              "      <td>0.02731</td>\n",
              "      <td>0.0</td>\n",
              "      <td>7.07</td>\n",
              "      <td>0.0</td>\n",
              "      <td>0.469</td>\n",
              "      <td>6.421</td>\n",
              "      <td>78.9</td>\n",
              "      <td>4.9671</td>\n",
              "      <td>2.0</td>\n",
              "      <td>242.0</td>\n",
              "      <td>17.8</td>\n",
              "      <td>396.90</td>\n",
              "      <td>9.14</td>\n",
              "    </tr>\n",
              "    <tr>\n",
              "      <th>2</th>\n",
              "      <td>0.02729</td>\n",
              "      <td>0.0</td>\n",
              "      <td>7.07</td>\n",
              "      <td>0.0</td>\n",
              "      <td>0.469</td>\n",
              "      <td>7.185</td>\n",
              "      <td>61.1</td>\n",
              "      <td>4.9671</td>\n",
              "      <td>2.0</td>\n",
              "      <td>242.0</td>\n",
              "      <td>17.8</td>\n",
              "      <td>392.83</td>\n",
              "      <td>4.03</td>\n",
              "    </tr>\n",
              "    <tr>\n",
              "      <th>3</th>\n",
              "      <td>0.03237</td>\n",
              "      <td>0.0</td>\n",
              "      <td>2.18</td>\n",
              "      <td>0.0</td>\n",
              "      <td>0.458</td>\n",
              "      <td>6.998</td>\n",
              "      <td>45.8</td>\n",
              "      <td>6.0622</td>\n",
              "      <td>3.0</td>\n",
              "      <td>222.0</td>\n",
              "      <td>18.7</td>\n",
              "      <td>394.63</td>\n",
              "      <td>2.94</td>\n",
              "    </tr>\n",
              "    <tr>\n",
              "      <th>4</th>\n",
              "      <td>0.06905</td>\n",
              "      <td>0.0</td>\n",
              "      <td>2.18</td>\n",
              "      <td>0.0</td>\n",
              "      <td>0.458</td>\n",
              "      <td>7.147</td>\n",
              "      <td>54.2</td>\n",
              "      <td>6.0622</td>\n",
              "      <td>3.0</td>\n",
              "      <td>222.0</td>\n",
              "      <td>18.7</td>\n",
              "      <td>396.90</td>\n",
              "      <td>5.33</td>\n",
              "    </tr>\n",
              "  </tbody>\n",
              "</table>\n",
              "</div>"
            ],
            "text/plain": [
              "      CRIM    ZN  INDUS  CHAS    NOX  ...  RAD    TAX  PTRATIO       B  LSTAT\n",
              "0  0.00632  18.0   2.31   0.0  0.538  ...  1.0  296.0     15.3  396.90   4.98\n",
              "1  0.02731   0.0   7.07   0.0  0.469  ...  2.0  242.0     17.8  396.90   9.14\n",
              "2  0.02729   0.0   7.07   0.0  0.469  ...  2.0  242.0     17.8  392.83   4.03\n",
              "3  0.03237   0.0   2.18   0.0  0.458  ...  3.0  222.0     18.7  394.63   2.94\n",
              "4  0.06905   0.0   2.18   0.0  0.458  ...  3.0  222.0     18.7  396.90   5.33\n",
              "\n",
              "[5 rows x 13 columns]"
            ]
          },
          "metadata": {
            "tags": []
          },
          "execution_count": 20
        }
      ]
    },
    {
      "cell_type": "code",
      "metadata": {
        "id": "_8JA2m1oQKGi",
        "colab": {
          "base_uri": "https://localhost:8080/"
        },
        "outputId": "556467ff-3ef3-4861-8ae1-666a31192f50"
      },
      "source": [
        "X.shape"
      ],
      "execution_count": 23,
      "outputs": [
        {
          "output_type": "execute_result",
          "data": {
            "text/plain": [
              "(506, 13)"
            ]
          },
          "metadata": {
            "tags": []
          },
          "execution_count": 23
        }
      ]
    },
    {
      "cell_type": "code",
      "metadata": {
        "colab": {
          "base_uri": "https://localhost:8080/"
        },
        "id": "55TwPZ_nQbA1",
        "outputId": "a0fc9253-82b0-4f1d-c3a0-0ffd1e4f179f"
      },
      "source": [
        "X.info()"
      ],
      "execution_count": 24,
      "outputs": [
        {
          "output_type": "stream",
          "text": [
            "<class 'pandas.core.frame.DataFrame'>\n",
            "RangeIndex: 506 entries, 0 to 505\n",
            "Data columns (total 13 columns):\n",
            " #   Column   Non-Null Count  Dtype  \n",
            "---  ------   --------------  -----  \n",
            " 0   CRIM     506 non-null    float64\n",
            " 1   ZN       506 non-null    float64\n",
            " 2   INDUS    506 non-null    float64\n",
            " 3   CHAS     506 non-null    float64\n",
            " 4   NOX      506 non-null    float64\n",
            " 5   RM       506 non-null    float64\n",
            " 6   AGE      506 non-null    float64\n",
            " 7   DIS      506 non-null    float64\n",
            " 8   RAD      506 non-null    float64\n",
            " 9   TAX      506 non-null    float64\n",
            " 10  PTRATIO  506 non-null    float64\n",
            " 11  B        506 non-null    float64\n",
            " 12  LSTAT    506 non-null    float64\n",
            "dtypes: float64(13)\n",
            "memory usage: 51.5 KB\n"
          ],
          "name": "stdout"
        }
      ]
    },
    {
      "cell_type": "code",
      "metadata": {
        "colab": {
          "base_uri": "https://localhost:8080/",
          "height": 204
        },
        "id": "CDpgUiZzQguc",
        "outputId": "7e1e6376-5c48-40e3-d897-f25d2a80a067"
      },
      "source": [
        "y = pd.DataFrame(target, columns=['Price'])\n",
        "y.head()"
      ],
      "execution_count": 27,
      "outputs": [
        {
          "output_type": "execute_result",
          "data": {
            "text/html": [
              "<div>\n",
              "<style scoped>\n",
              "    .dataframe tbody tr th:only-of-type {\n",
              "        vertical-align: middle;\n",
              "    }\n",
              "\n",
              "    .dataframe tbody tr th {\n",
              "        vertical-align: top;\n",
              "    }\n",
              "\n",
              "    .dataframe thead th {\n",
              "        text-align: right;\n",
              "    }\n",
              "</style>\n",
              "<table border=\"1\" class=\"dataframe\">\n",
              "  <thead>\n",
              "    <tr style=\"text-align: right;\">\n",
              "      <th></th>\n",
              "      <th>Price</th>\n",
              "    </tr>\n",
              "  </thead>\n",
              "  <tbody>\n",
              "    <tr>\n",
              "      <th>0</th>\n",
              "      <td>24.0</td>\n",
              "    </tr>\n",
              "    <tr>\n",
              "      <th>1</th>\n",
              "      <td>21.6</td>\n",
              "    </tr>\n",
              "    <tr>\n",
              "      <th>2</th>\n",
              "      <td>34.7</td>\n",
              "    </tr>\n",
              "    <tr>\n",
              "      <th>3</th>\n",
              "      <td>33.4</td>\n",
              "    </tr>\n",
              "    <tr>\n",
              "      <th>4</th>\n",
              "      <td>36.2</td>\n",
              "    </tr>\n",
              "  </tbody>\n",
              "</table>\n",
              "</div>"
            ],
            "text/plain": [
              "   Price\n",
              "0   24.0\n",
              "1   21.6\n",
              "2   34.7\n",
              "3   33.4\n",
              "4   36.2"
            ]
          },
          "metadata": {
            "tags": []
          },
          "execution_count": 27
        }
      ]
    },
    {
      "cell_type": "code",
      "metadata": {
        "colab": {
          "base_uri": "https://localhost:8080/"
        },
        "id": "r76QXkNAQw8o",
        "outputId": "c2f8c705-ee3e-44f0-dfaa-25d26fedb56b"
      },
      "source": [
        "y.info()"
      ],
      "execution_count": 30,
      "outputs": [
        {
          "output_type": "stream",
          "text": [
            "<class 'pandas.core.frame.DataFrame'>\n",
            "RangeIndex: 506 entries, 0 to 505\n",
            "Data columns (total 1 columns):\n",
            " #   Column  Non-Null Count  Dtype  \n",
            "---  ------  --------------  -----  \n",
            " 0   Price   506 non-null    float64\n",
            "dtypes: float64(1)\n",
            "memory usage: 4.1 KB\n"
          ],
          "name": "stdout"
        }
      ]
    },
    {
      "cell_type": "markdown",
      "metadata": {
        "id": "u5RBqNgpRNwn"
      },
      "source": [
        "Разбиваем данные на тестовый и проверочный датасеты"
      ]
    },
    {
      "cell_type": "code",
      "metadata": {
        "id": "l_yYiuk9Nii-"
      },
      "source": [
        "X_train, X_test, y_train, y_test = train_test_split(X, y, test_size= 0.3, random_state=42)"
      ],
      "execution_count": 28,
      "outputs": []
    },
    {
      "cell_type": "code",
      "metadata": {
        "id": "__L4PKQyPUR5"
      },
      "source": [
        "lr = LinearRegression()"
      ],
      "execution_count": 32,
      "outputs": []
    },
    {
      "cell_type": "code",
      "metadata": {
        "colab": {
          "base_uri": "https://localhost:8080/"
        },
        "id": "b2X5gT_3QaG7",
        "outputId": "1bc8cb9c-47ce-435b-d11c-ae529cdd2f11"
      },
      "source": [
        "lr.fit(X_train, y_train)"
      ],
      "execution_count": 34,
      "outputs": [
        {
          "output_type": "execute_result",
          "data": {
            "text/plain": [
              "LinearRegression(copy_X=True, fit_intercept=True, n_jobs=None, normalize=False)"
            ]
          },
          "metadata": {
            "tags": []
          },
          "execution_count": 34
        }
      ]
    },
    {
      "cell_type": "code",
      "metadata": {
        "id": "MhOKQrv8SKjd"
      },
      "source": [
        "y_pred = lr.predict(X_test)"
      ],
      "execution_count": 37,
      "outputs": []
    },
    {
      "cell_type": "code",
      "metadata": {
        "id": "NH4ZzhGpSQRf"
      },
      "source": [
        "chek_test = pd.DataFrame({'y_test': y_test['Price'],\n",
        "                          'y_pred': y_pred.flatten()},\n",
        "                         columns=['y_test', 'y_pred'])"
      ],
      "execution_count": 40,
      "outputs": []
    },
    {
      "cell_type": "code",
      "metadata": {
        "colab": {
          "base_uri": "https://localhost:8080/",
          "height": 359
        },
        "id": "3npd0JW7SwGh",
        "outputId": "6fd1c4fb-fce8-4011-8e31-9c8417298eaf"
      },
      "source": [
        "chek_test.head(10)"
      ],
      "execution_count": 41,
      "outputs": [
        {
          "output_type": "execute_result",
          "data": {
            "text/html": [
              "<div>\n",
              "<style scoped>\n",
              "    .dataframe tbody tr th:only-of-type {\n",
              "        vertical-align: middle;\n",
              "    }\n",
              "\n",
              "    .dataframe tbody tr th {\n",
              "        vertical-align: top;\n",
              "    }\n",
              "\n",
              "    .dataframe thead th {\n",
              "        text-align: right;\n",
              "    }\n",
              "</style>\n",
              "<table border=\"1\" class=\"dataframe\">\n",
              "  <thead>\n",
              "    <tr style=\"text-align: right;\">\n",
              "      <th></th>\n",
              "      <th>y_test</th>\n",
              "      <th>y_pred</th>\n",
              "    </tr>\n",
              "  </thead>\n",
              "  <tbody>\n",
              "    <tr>\n",
              "      <th>173</th>\n",
              "      <td>23.6</td>\n",
              "      <td>28.648960</td>\n",
              "    </tr>\n",
              "    <tr>\n",
              "      <th>274</th>\n",
              "      <td>32.4</td>\n",
              "      <td>36.495014</td>\n",
              "    </tr>\n",
              "    <tr>\n",
              "      <th>491</th>\n",
              "      <td>13.6</td>\n",
              "      <td>15.411193</td>\n",
              "    </tr>\n",
              "    <tr>\n",
              "      <th>72</th>\n",
              "      <td>22.8</td>\n",
              "      <td>25.403213</td>\n",
              "    </tr>\n",
              "    <tr>\n",
              "      <th>452</th>\n",
              "      <td>16.1</td>\n",
              "      <td>18.855280</td>\n",
              "    </tr>\n",
              "    <tr>\n",
              "      <th>76</th>\n",
              "      <td>20.0</td>\n",
              "      <td>23.146689</td>\n",
              "    </tr>\n",
              "    <tr>\n",
              "      <th>316</th>\n",
              "      <td>17.8</td>\n",
              "      <td>17.392124</td>\n",
              "    </tr>\n",
              "    <tr>\n",
              "      <th>140</th>\n",
              "      <td>14.0</td>\n",
              "      <td>14.078599</td>\n",
              "    </tr>\n",
              "    <tr>\n",
              "      <th>471</th>\n",
              "      <td>19.6</td>\n",
              "      <td>23.036927</td>\n",
              "    </tr>\n",
              "    <tr>\n",
              "      <th>500</th>\n",
              "      <td>16.8</td>\n",
              "      <td>20.599433</td>\n",
              "    </tr>\n",
              "  </tbody>\n",
              "</table>\n",
              "</div>"
            ],
            "text/plain": [
              "     y_test     y_pred\n",
              "173    23.6  28.648960\n",
              "274    32.4  36.495014\n",
              "491    13.6  15.411193\n",
              "72     22.8  25.403213\n",
              "452    16.1  18.855280\n",
              "76     20.0  23.146689\n",
              "316    17.8  17.392124\n",
              "140    14.0  14.078599\n",
              "471    19.6  23.036927\n",
              "500    16.8  20.599433"
            ]
          },
          "metadata": {
            "tags": []
          },
          "execution_count": 41
        }
      ]
    },
    {
      "cell_type": "code",
      "metadata": {
        "id": "RIGyUdMYTMk9"
      },
      "source": [
        "from sklearn.metrics import r2_score"
      ],
      "execution_count": 42,
      "outputs": []
    },
    {
      "cell_type": "code",
      "metadata": {
        "colab": {
          "base_uri": "https://localhost:8080/"
        },
        "id": "tg2aI-UtT-Ij",
        "outputId": "d33f3f6b-aed9-4cbd-f868-b6b26a533175"
      },
      "source": [
        "r2_score(y_test, y_pred)"
      ],
      "execution_count": 43,
      "outputs": [
        {
          "output_type": "execute_result",
          "data": {
            "text/plain": [
              "0.7112260057484974"
            ]
          },
          "metadata": {
            "tags": []
          },
          "execution_count": 43
        }
      ]
    },
    {
      "cell_type": "markdown",
      "metadata": {
        "id": "j04Pj2JwUDYV"
      },
      "source": [
        "#Задание 2\n",
        "Создайте модель под названием model с помощью RandomForestRegressor из модуля sklearn.ensemble.\n",
        "Сделайте агрумент n_estimators равным 1000,\n",
        "max_depth должен быть равен 12 и random_state сделайте равным 42.\n",
        "Обучите модель на тренировочных данных аналогично тому, как вы обучали модель LinearRegression,\n",
        "но при этом в метод fit вместо датафрейма y_train поставьте y_train.values[:, 0],\n",
        "чтобы получить из датафрейма одномерный массив Numpy,\n",
        "так как для класса RandomForestRegressor в данном методе для аргумента y предпочтительно применение массивов вместо датафрейма.\n",
        "Сделайте предсказание на тестовых данных и посчитайте R2. Сравните с результатом из предыдущего задания.\n",
        "Напишите в комментариях к коду, какая модель в данном случае работает лучше.\n"
      ]
    },
    {
      "cell_type": "code",
      "metadata": {
        "id": "V3hZBBWSUT50"
      },
      "source": [
        "from sklearn.ensemble import RandomForestRegressor\n",
        "from sklearn.model_selection import GridSearchCV\n"
      ],
      "execution_count": 50,
      "outputs": []
    },
    {
      "cell_type": "code",
      "metadata": {
        "id": "KpKjXDxxVZDX"
      },
      "source": [
        "parameters = [{'n_estimators': [1000], \n",
        "               'max_features': np.arange(5,9),\n",
        "               'max_depth': np.arange(5,12)}]"
      ],
      "execution_count": 73,
      "outputs": []
    },
    {
      "cell_type": "code",
      "metadata": {
        "id": "x_pCXs0bV3hD"
      },
      "source": [
        "model = GridSearchCV(estimator=RandomForestRegressor(random_state=42),\n",
        "                     param_grid=parameters,\n",
        "                     scoring='r2',\n",
        "                     cv=5)"
      ],
      "execution_count": 74,
      "outputs": []
    },
    {
      "cell_type": "code",
      "metadata": {
        "colab": {
          "base_uri": "https://localhost:8080/"
        },
        "id": "qKmoodRGXz0q",
        "outputId": "b6c4494b-58c3-4226-cb24-092365ff4f17"
      },
      "source": [
        "model.fit(X_train, y_train.values[:,0])"
      ],
      "execution_count": 75,
      "outputs": [
        {
          "output_type": "execute_result",
          "data": {
            "text/plain": [
              "GridSearchCV(cv=5, error_score=nan,\n",
              "             estimator=RandomForestRegressor(bootstrap=True, ccp_alpha=0.0,\n",
              "                                             criterion='mse', max_depth=None,\n",
              "                                             max_features='auto',\n",
              "                                             max_leaf_nodes=None,\n",
              "                                             max_samples=None,\n",
              "                                             min_impurity_decrease=0.0,\n",
              "                                             min_impurity_split=None,\n",
              "                                             min_samples_leaf=1,\n",
              "                                             min_samples_split=2,\n",
              "                                             min_weight_fraction_leaf=0.0,\n",
              "                                             n_estimators=100, n_jobs=None,\n",
              "                                             oob_score=False, random_state=42,\n",
              "                                             verbose=0, warm_start=False),\n",
              "             iid='deprecated', n_jobs=None,\n",
              "             param_grid=[{'max_depth': array([ 5,  6,  7,  8,  9, 10, 11]),\n",
              "                          'max_features': array([5, 6, 7, 8]),\n",
              "                          'n_estimators': [1000]}],\n",
              "             pre_dispatch='2*n_jobs', refit=True, return_train_score=False,\n",
              "             scoring='r2', verbose=0)"
            ]
          },
          "metadata": {
            "tags": []
          },
          "execution_count": 75
        }
      ]
    },
    {
      "cell_type": "code",
      "metadata": {
        "colab": {
          "base_uri": "https://localhost:8080/"
        },
        "id": "4_AGBvwda5Un",
        "outputId": "f5d1417a-d338-4582-a305-2236d08a736b"
      },
      "source": [
        "model.best_params_"
      ],
      "execution_count": 76,
      "outputs": [
        {
          "output_type": "execute_result",
          "data": {
            "text/plain": [
              "{'max_depth': 11, 'max_features': 5, 'n_estimators': 1000}"
            ]
          },
          "metadata": {
            "tags": []
          },
          "execution_count": 76
        }
      ]
    },
    {
      "cell_type": "code",
      "metadata": {
        "colab": {
          "base_uri": "https://localhost:8080/"
        },
        "id": "_8NnYw9idbsX",
        "outputId": "90e8302b-e56d-45e4-b4c8-549304849219"
      },
      "source": [
        "means = model.cv_results_['mean_test_score']\n",
        "stds = model.cv_results_['std_test_score']\n",
        "for means, stds, params in zip(means, stds, model.cv_results_['params']):\n",
        "  print('%0.3f (+/-%0.03f) for %r' % (means, stds * 2, params))"
      ],
      "execution_count": 80,
      "outputs": [
        {
          "output_type": "stream",
          "text": [
            "0.822 (+/-0.131) for {'max_depth': 5, 'max_features': 5, 'n_estimators': 1000}\n",
            "0.825 (+/-0.137) for {'max_depth': 5, 'max_features': 6, 'n_estimators': 1000}\n",
            "0.824 (+/-0.145) for {'max_depth': 5, 'max_features': 7, 'n_estimators': 1000}\n",
            "0.821 (+/-0.156) for {'max_depth': 5, 'max_features': 8, 'n_estimators': 1000}\n",
            "0.832 (+/-0.126) for {'max_depth': 6, 'max_features': 5, 'n_estimators': 1000}\n",
            "0.831 (+/-0.137) for {'max_depth': 6, 'max_features': 6, 'n_estimators': 1000}\n",
            "0.828 (+/-0.146) for {'max_depth': 6, 'max_features': 7, 'n_estimators': 1000}\n",
            "0.828 (+/-0.149) for {'max_depth': 6, 'max_features': 8, 'n_estimators': 1000}\n",
            "0.833 (+/-0.131) for {'max_depth': 7, 'max_features': 5, 'n_estimators': 1000}\n",
            "0.834 (+/-0.133) for {'max_depth': 7, 'max_features': 6, 'n_estimators': 1000}\n",
            "0.830 (+/-0.144) for {'max_depth': 7, 'max_features': 7, 'n_estimators': 1000}\n",
            "0.830 (+/-0.148) for {'max_depth': 7, 'max_features': 8, 'n_estimators': 1000}\n",
            "0.837 (+/-0.128) for {'max_depth': 8, 'max_features': 5, 'n_estimators': 1000}\n",
            "0.836 (+/-0.134) for {'max_depth': 8, 'max_features': 6, 'n_estimators': 1000}\n",
            "0.835 (+/-0.141) for {'max_depth': 8, 'max_features': 7, 'n_estimators': 1000}\n",
            "0.830 (+/-0.149) for {'max_depth': 8, 'max_features': 8, 'n_estimators': 1000}\n",
            "0.838 (+/-0.131) for {'max_depth': 9, 'max_features': 5, 'n_estimators': 1000}\n",
            "0.836 (+/-0.138) for {'max_depth': 9, 'max_features': 6, 'n_estimators': 1000}\n",
            "0.834 (+/-0.145) for {'max_depth': 9, 'max_features': 7, 'n_estimators': 1000}\n",
            "0.832 (+/-0.149) for {'max_depth': 9, 'max_features': 8, 'n_estimators': 1000}\n",
            "0.837 (+/-0.133) for {'max_depth': 10, 'max_features': 5, 'n_estimators': 1000}\n",
            "0.837 (+/-0.138) for {'max_depth': 10, 'max_features': 6, 'n_estimators': 1000}\n",
            "0.834 (+/-0.144) for {'max_depth': 10, 'max_features': 7, 'n_estimators': 1000}\n",
            "0.831 (+/-0.155) for {'max_depth': 10, 'max_features': 8, 'n_estimators': 1000}\n",
            "0.839 (+/-0.131) for {'max_depth': 11, 'max_features': 5, 'n_estimators': 1000}\n",
            "0.836 (+/-0.136) for {'max_depth': 11, 'max_features': 6, 'n_estimators': 1000}\n",
            "0.835 (+/-0.145) for {'max_depth': 11, 'max_features': 7, 'n_estimators': 1000}\n",
            "0.833 (+/-0.149) for {'max_depth': 11, 'max_features': 8, 'n_estimators': 1000}\n"
          ],
          "name": "stdout"
        }
      ]
    },
    {
      "cell_type": "code",
      "metadata": {
        "colab": {
          "base_uri": "https://localhost:8080/"
        },
        "id": "8EY9lMpke20z",
        "outputId": "cbf08972-38dd-49a1-d198-b39b045ac434"
      },
      "source": [
        "y_pred = model.predict(X_test)\n",
        "r2_score(y_test, y_pred)"
      ],
      "execution_count": 87,
      "outputs": [
        {
          "output_type": "execute_result",
          "data": {
            "text/plain": [
              "0.8715881666822094"
            ]
          },
          "metadata": {
            "tags": []
          },
          "execution_count": 87
        }
      ]
    },
    {
      "cell_type": "markdown",
      "metadata": {
        "id": "Wm-ATzJwi3j1"
      },
      "source": [
        "**Рандом форест** показал результат **намного лучше** чем линейная регрессия.\n"
      ]
    },
    {
      "cell_type": "markdown",
      "metadata": {
        "id": "ERl7T3ntjJVN"
      },
      "source": [
        "#Задание 3\n",
        "Вызовите документацию для класса RandomForestRegressor,\n",
        "найдите информацию об атрибуте feature_importances_.\n",
        "С помощью этого атрибута найдите сумму всех показателей важности,\n",
        "установите, какие два признака показывают наибольшую важность.\n"
      ]
    },
    {
      "cell_type": "code",
      "metadata": {
        "id": "W3ujuhwijOTw"
      },
      "source": [
        "?RandomForestRegressor"
      ],
      "execution_count": 89,
      "outputs": []
    },
    {
      "cell_type": "code",
      "metadata": {
        "colab": {
          "base_uri": "https://localhost:8080/",
          "height": 282
        },
        "id": "8BjTJ57LlTmd",
        "outputId": "59fc8000-bfe4-4ceb-c5be-93de611fb231"
      },
      "source": [
        "X, y = train_test_split(n_features=4, n_informative=2, random_state=0, shuffle=False)"
      ],
      "execution_count": 103,
      "outputs": [
        {
          "output_type": "error",
          "ename": "ValueError",
          "evalue": "ignored",
          "traceback": [
            "\u001b[0;31m---------------------------------------------------------------------------\u001b[0m",
            "\u001b[0;31mValueError\u001b[0m                                Traceback (most recent call last)",
            "\u001b[0;32m<ipython-input-103-cb818d011729>\u001b[0m in \u001b[0;36m<module>\u001b[0;34m()\u001b[0m\n\u001b[0;32m----> 1\u001b[0;31m \u001b[0mX\u001b[0m\u001b[0;34m,\u001b[0m \u001b[0my\u001b[0m \u001b[0;34m=\u001b[0m \u001b[0mtrain_test_split\u001b[0m\u001b[0;34m(\u001b[0m\u001b[0mn_features\u001b[0m\u001b[0;34m=\u001b[0m\u001b[0;36m4\u001b[0m\u001b[0;34m,\u001b[0m \u001b[0mn_informative\u001b[0m\u001b[0;34m=\u001b[0m\u001b[0;36m2\u001b[0m\u001b[0;34m,\u001b[0m \u001b[0mrandom_state\u001b[0m\u001b[0;34m=\u001b[0m\u001b[0;36m0\u001b[0m\u001b[0;34m,\u001b[0m \u001b[0mshuffle\u001b[0m\u001b[0;34m=\u001b[0m\u001b[0;32mFalse\u001b[0m\u001b[0;34m)\u001b[0m\u001b[0;34m\u001b[0m\u001b[0;34m\u001b[0m\u001b[0m\n\u001b[0m",
            "\u001b[0;32m/usr/local/lib/python3.7/dist-packages/sklearn/model_selection/_split.py\u001b[0m in \u001b[0;36mtrain_test_split\u001b[0;34m(*arrays, **options)\u001b[0m\n\u001b[1;32m   2106\u001b[0m     \u001b[0mn_arrays\u001b[0m \u001b[0;34m=\u001b[0m \u001b[0mlen\u001b[0m\u001b[0;34m(\u001b[0m\u001b[0marrays\u001b[0m\u001b[0;34m)\u001b[0m\u001b[0;34m\u001b[0m\u001b[0;34m\u001b[0m\u001b[0m\n\u001b[1;32m   2107\u001b[0m     \u001b[0;32mif\u001b[0m \u001b[0mn_arrays\u001b[0m \u001b[0;34m==\u001b[0m \u001b[0;36m0\u001b[0m\u001b[0;34m:\u001b[0m\u001b[0;34m\u001b[0m\u001b[0;34m\u001b[0m\u001b[0m\n\u001b[0;32m-> 2108\u001b[0;31m         \u001b[0;32mraise\u001b[0m \u001b[0mValueError\u001b[0m\u001b[0;34m(\u001b[0m\u001b[0;34m\"At least one array required as input\"\u001b[0m\u001b[0;34m)\u001b[0m\u001b[0;34m\u001b[0m\u001b[0;34m\u001b[0m\u001b[0m\n\u001b[0m\u001b[1;32m   2109\u001b[0m     \u001b[0mtest_size\u001b[0m \u001b[0;34m=\u001b[0m \u001b[0moptions\u001b[0m\u001b[0;34m.\u001b[0m\u001b[0mpop\u001b[0m\u001b[0;34m(\u001b[0m\u001b[0;34m'test_size'\u001b[0m\u001b[0;34m,\u001b[0m \u001b[0;32mNone\u001b[0m\u001b[0;34m)\u001b[0m\u001b[0;34m\u001b[0m\u001b[0;34m\u001b[0m\u001b[0m\n\u001b[1;32m   2110\u001b[0m     \u001b[0mtrain_size\u001b[0m \u001b[0;34m=\u001b[0m \u001b[0moptions\u001b[0m\u001b[0;34m.\u001b[0m\u001b[0mpop\u001b[0m\u001b[0;34m(\u001b[0m\u001b[0;34m'train_size'\u001b[0m\u001b[0;34m,\u001b[0m \u001b[0;32mNone\u001b[0m\u001b[0;34m)\u001b[0m\u001b[0;34m\u001b[0m\u001b[0;34m\u001b[0m\u001b[0m\n",
            "\u001b[0;31mValueError\u001b[0m: At least one array required as input"
          ]
        }
      ]
    },
    {
      "cell_type": "code",
      "metadata": {
        "id": "9QOBkQMcjkPw"
      },
      "source": [
        "\n",
        "regr = RandomForestRegressor()\n"
      ],
      "execution_count": 104,
      "outputs": []
    },
    {
      "cell_type": "markdown",
      "metadata": {
        "id": "qlvo_2HkmCw-"
      },
      "source": [
        "Не смог сделать задание :("
      ]
    },
    {
      "cell_type": "markdown",
      "metadata": {
        "id": "DGqwQ2AumFoz"
      },
      "source": [
        "#Дополнительные задания:\n",
        "##1). \n",
        "Загрузите датасет Wine из встроенных датасетов sklearn.datasets с помощью функции load_wine в переменную data.\n"
      ]
    },
    {
      "cell_type": "code",
      "metadata": {
        "id": "uZ6uCSe0mXVK"
      },
      "source": [
        "from sklearn.datasets import load_wine "
      ],
      "execution_count": 108,
      "outputs": []
    },
    {
      "cell_type": "code",
      "metadata": {
        "id": "wmGBMWT1mq5k"
      },
      "source": [
        "data = load_wine()\n"
      ],
      "execution_count": 115,
      "outputs": []
    },
    {
      "cell_type": "markdown",
      "metadata": {
        "id": "Ec_tJSvkm6ba"
      },
      "source": [
        "**2).** Полученный датасет не является датафреймом. Это структура данных, имеющая ключи аналогично словарю. Просмотрите тип данных этой структуры данных и создайте список data_keys, содержащий ее ключи.\n"
      ]
    },
    {
      "cell_type": "code",
      "metadata": {
        "colab": {
          "base_uri": "https://localhost:8080/"
        },
        "id": "vZ9fwY4NnNO_",
        "outputId": "6fb345f8-6578-44c5-a49e-92d7774583f1"
      },
      "source": [
        "type(data)"
      ],
      "execution_count": 116,
      "outputs": [
        {
          "output_type": "execute_result",
          "data": {
            "text/plain": [
              "sklearn.utils.Bunch"
            ]
          },
          "metadata": {
            "tags": []
          },
          "execution_count": 116
        }
      ]
    },
    {
      "cell_type": "code",
      "metadata": {
        "colab": {
          "base_uri": "https://localhost:8080/"
        },
        "id": "g4AdU6ifnVp5",
        "outputId": "ee164174-1fec-4b64-dc1e-2d89c3e7e1f2"
      },
      "source": [
        "data_keys = data.keys()\n",
        "data_keys"
      ],
      "execution_count": 121,
      "outputs": [
        {
          "output_type": "execute_result",
          "data": {
            "text/plain": [
              "dict_keys(['data', 'target', 'target_names', 'DESCR', 'feature_names'])"
            ]
          },
          "metadata": {
            "tags": []
          },
          "execution_count": 121
        }
      ]
    },
    {
      "cell_type": "markdown",
      "metadata": {
        "id": "y62DBytcncdj"
      },
      "source": [
        "**3).** Просмотрите данные, описание и названия признаков в датасете. Описание нужно вывести в виде привычного, аккуратно оформленного текста, без обозначений переноса строки, но с самими переносами и т.д.4). Сколько классов содержит целевая переменная датасета? Выве\n",
        "дите названия классов.\n"
      ]
    },
    {
      "cell_type": "code",
      "metadata": {
        "colab": {
          "base_uri": "https://localhost:8080/"
        },
        "id": "bC02EA8EnmW8",
        "outputId": "b146388e-0ed3-47b5-ceff-c710a49d2d8c"
      },
      "source": [
        "for i in data.DESCR:\n",
        "  print(i, end='')"
      ],
      "execution_count": 131,
      "outputs": [
        {
          "output_type": "stream",
          "text": [
            ".. _wine_dataset:\n",
            "\n",
            "Wine recognition dataset\n",
            "------------------------\n",
            "\n",
            "**Data Set Characteristics:**\n",
            "\n",
            "    :Number of Instances: 178 (50 in each of three classes)\n",
            "    :Number of Attributes: 13 numeric, predictive attributes and the class\n",
            "    :Attribute Information:\n",
            " \t\t- Alcohol\n",
            " \t\t- Malic acid\n",
            " \t\t- Ash\n",
            "\t\t- Alcalinity of ash  \n",
            " \t\t- Magnesium\n",
            "\t\t- Total phenols\n",
            " \t\t- Flavanoids\n",
            " \t\t- Nonflavanoid phenols\n",
            " \t\t- Proanthocyanins\n",
            "\t\t- Color intensity\n",
            " \t\t- Hue\n",
            " \t\t- OD280/OD315 of diluted wines\n",
            " \t\t- Proline\n",
            "\n",
            "    - class:\n",
            "            - class_0\n",
            "            - class_1\n",
            "            - class_2\n",
            "\t\t\n",
            "    :Summary Statistics:\n",
            "    \n",
            "    ============================= ==== ===== ======= =====\n",
            "                                   Min   Max   Mean     SD\n",
            "    ============================= ==== ===== ======= =====\n",
            "    Alcohol:                      11.0  14.8    13.0   0.8\n",
            "    Malic Acid:                   0.74  5.80    2.34  1.12\n",
            "    Ash:                          1.36  3.23    2.36  0.27\n",
            "    Alcalinity of Ash:            10.6  30.0    19.5   3.3\n",
            "    Magnesium:                    70.0 162.0    99.7  14.3\n",
            "    Total Phenols:                0.98  3.88    2.29  0.63\n",
            "    Flavanoids:                   0.34  5.08    2.03  1.00\n",
            "    Nonflavanoid Phenols:         0.13  0.66    0.36  0.12\n",
            "    Proanthocyanins:              0.41  3.58    1.59  0.57\n",
            "    Colour Intensity:              1.3  13.0     5.1   2.3\n",
            "    Hue:                          0.48  1.71    0.96  0.23\n",
            "    OD280/OD315 of diluted wines: 1.27  4.00    2.61  0.71\n",
            "    Proline:                       278  1680     746   315\n",
            "    ============================= ==== ===== ======= =====\n",
            "\n",
            "    :Missing Attribute Values: None\n",
            "    :Class Distribution: class_0 (59), class_1 (71), class_2 (48)\n",
            "    :Creator: R.A. Fisher\n",
            "    :Donor: Michael Marshall (MARSHALL%PLU@io.arc.nasa.gov)\n",
            "    :Date: July, 1988\n",
            "\n",
            "This is a copy of UCI ML Wine recognition datasets.\n",
            "https://archive.ics.uci.edu/ml/machine-learning-databases/wine/wine.data\n",
            "\n",
            "The data is the results of a chemical analysis of wines grown in the same\n",
            "region in Italy by three different cultivators. There are thirteen different\n",
            "measurements taken for different constituents found in the three types of\n",
            "wine.\n",
            "\n",
            "Original Owners: \n",
            "\n",
            "Forina, M. et al, PARVUS - \n",
            "An Extendible Package for Data Exploration, Classification and Correlation. \n",
            "Institute of Pharmaceutical and Food Analysis and Technologies,\n",
            "Via Brigata Salerno, 16147 Genoa, Italy.\n",
            "\n",
            "Citation:\n",
            "\n",
            "Lichman, M. (2013). UCI Machine Learning Repository\n",
            "[https://archive.ics.uci.edu/ml]. Irvine, CA: University of California,\n",
            "School of Information and Computer Science. \n",
            "\n",
            ".. topic:: References\n",
            "\n",
            "  (1) S. Aeberhard, D. Coomans and O. de Vel, \n",
            "  Comparison of Classifiers in High Dimensional Settings, \n",
            "  Tech. Rep. no. 92-02, (1992), Dept. of Computer Science and Dept. of  \n",
            "  Mathematics and Statistics, James Cook University of North Queensland. \n",
            "  (Also submitted to Technometrics). \n",
            "\n",
            "  The data was used with many others for comparing various \n",
            "  classifiers. The classes are separable, though only RDA \n",
            "  has achieved 100% correct classification. \n",
            "  (RDA : 100%, QDA 99.4%, LDA 98.9%, 1NN 96.1% (z-transformed data)) \n",
            "  (All results using the leave-one-out technique) \n",
            "\n",
            "  (2) S. Aeberhard, D. Coomans and O. de Vel, \n",
            "  \"THE CLASSIFICATION PERFORMANCE OF RDA\" \n",
            "  Tech. Rep. no. 92-01, (1992), Dept. of Computer Science and Dept. of \n",
            "  Mathematics and Statistics, James Cook University of North Queensland. \n",
            "  (Also submitted to Journal of Chemometrics).\n"
          ],
          "name": "stdout"
        }
      ]
    },
    {
      "cell_type": "markdown",
      "metadata": {
        "id": "IzOaDCA3nvu3"
      },
      "source": [
        "**5)**. На основе данных датасета (они содержатся в двумерном массиве Numpy) и названий признаков создайте датафрейм под названием X."
      ]
    },
    {
      "cell_type": "code",
      "metadata": {
        "colab": {
          "base_uri": "https://localhost:8080/",
          "height": 419
        },
        "id": "bgq22eA2oyUT",
        "outputId": "5a215aaf-12dc-4ba4-8ed1-ec384e752c88"
      },
      "source": [
        "X = pd.DataFrame(data=data.data, columns=feature_names)\n",
        "X"
      ],
      "execution_count": 135,
      "outputs": [
        {
          "output_type": "execute_result",
          "data": {
            "text/html": [
              "<div>\n",
              "<style scoped>\n",
              "    .dataframe tbody tr th:only-of-type {\n",
              "        vertical-align: middle;\n",
              "    }\n",
              "\n",
              "    .dataframe tbody tr th {\n",
              "        vertical-align: top;\n",
              "    }\n",
              "\n",
              "    .dataframe thead th {\n",
              "        text-align: right;\n",
              "    }\n",
              "</style>\n",
              "<table border=\"1\" class=\"dataframe\">\n",
              "  <thead>\n",
              "    <tr style=\"text-align: right;\">\n",
              "      <th></th>\n",
              "      <th>CRIM</th>\n",
              "      <th>ZN</th>\n",
              "      <th>INDUS</th>\n",
              "      <th>CHAS</th>\n",
              "      <th>NOX</th>\n",
              "      <th>RM</th>\n",
              "      <th>AGE</th>\n",
              "      <th>DIS</th>\n",
              "      <th>RAD</th>\n",
              "      <th>TAX</th>\n",
              "      <th>PTRATIO</th>\n",
              "      <th>B</th>\n",
              "      <th>LSTAT</th>\n",
              "    </tr>\n",
              "  </thead>\n",
              "  <tbody>\n",
              "    <tr>\n",
              "      <th>0</th>\n",
              "      <td>14.23</td>\n",
              "      <td>1.71</td>\n",
              "      <td>2.43</td>\n",
              "      <td>15.6</td>\n",
              "      <td>127.0</td>\n",
              "      <td>2.80</td>\n",
              "      <td>3.06</td>\n",
              "      <td>0.28</td>\n",
              "      <td>2.29</td>\n",
              "      <td>5.64</td>\n",
              "      <td>1.04</td>\n",
              "      <td>3.92</td>\n",
              "      <td>1065.0</td>\n",
              "    </tr>\n",
              "    <tr>\n",
              "      <th>1</th>\n",
              "      <td>13.20</td>\n",
              "      <td>1.78</td>\n",
              "      <td>2.14</td>\n",
              "      <td>11.2</td>\n",
              "      <td>100.0</td>\n",
              "      <td>2.65</td>\n",
              "      <td>2.76</td>\n",
              "      <td>0.26</td>\n",
              "      <td>1.28</td>\n",
              "      <td>4.38</td>\n",
              "      <td>1.05</td>\n",
              "      <td>3.40</td>\n",
              "      <td>1050.0</td>\n",
              "    </tr>\n",
              "    <tr>\n",
              "      <th>2</th>\n",
              "      <td>13.16</td>\n",
              "      <td>2.36</td>\n",
              "      <td>2.67</td>\n",
              "      <td>18.6</td>\n",
              "      <td>101.0</td>\n",
              "      <td>2.80</td>\n",
              "      <td>3.24</td>\n",
              "      <td>0.30</td>\n",
              "      <td>2.81</td>\n",
              "      <td>5.68</td>\n",
              "      <td>1.03</td>\n",
              "      <td>3.17</td>\n",
              "      <td>1185.0</td>\n",
              "    </tr>\n",
              "    <tr>\n",
              "      <th>3</th>\n",
              "      <td>14.37</td>\n",
              "      <td>1.95</td>\n",
              "      <td>2.50</td>\n",
              "      <td>16.8</td>\n",
              "      <td>113.0</td>\n",
              "      <td>3.85</td>\n",
              "      <td>3.49</td>\n",
              "      <td>0.24</td>\n",
              "      <td>2.18</td>\n",
              "      <td>7.80</td>\n",
              "      <td>0.86</td>\n",
              "      <td>3.45</td>\n",
              "      <td>1480.0</td>\n",
              "    </tr>\n",
              "    <tr>\n",
              "      <th>4</th>\n",
              "      <td>13.24</td>\n",
              "      <td>2.59</td>\n",
              "      <td>2.87</td>\n",
              "      <td>21.0</td>\n",
              "      <td>118.0</td>\n",
              "      <td>2.80</td>\n",
              "      <td>2.69</td>\n",
              "      <td>0.39</td>\n",
              "      <td>1.82</td>\n",
              "      <td>4.32</td>\n",
              "      <td>1.04</td>\n",
              "      <td>2.93</td>\n",
              "      <td>735.0</td>\n",
              "    </tr>\n",
              "    <tr>\n",
              "      <th>...</th>\n",
              "      <td>...</td>\n",
              "      <td>...</td>\n",
              "      <td>...</td>\n",
              "      <td>...</td>\n",
              "      <td>...</td>\n",
              "      <td>...</td>\n",
              "      <td>...</td>\n",
              "      <td>...</td>\n",
              "      <td>...</td>\n",
              "      <td>...</td>\n",
              "      <td>...</td>\n",
              "      <td>...</td>\n",
              "      <td>...</td>\n",
              "    </tr>\n",
              "    <tr>\n",
              "      <th>173</th>\n",
              "      <td>13.71</td>\n",
              "      <td>5.65</td>\n",
              "      <td>2.45</td>\n",
              "      <td>20.5</td>\n",
              "      <td>95.0</td>\n",
              "      <td>1.68</td>\n",
              "      <td>0.61</td>\n",
              "      <td>0.52</td>\n",
              "      <td>1.06</td>\n",
              "      <td>7.70</td>\n",
              "      <td>0.64</td>\n",
              "      <td>1.74</td>\n",
              "      <td>740.0</td>\n",
              "    </tr>\n",
              "    <tr>\n",
              "      <th>174</th>\n",
              "      <td>13.40</td>\n",
              "      <td>3.91</td>\n",
              "      <td>2.48</td>\n",
              "      <td>23.0</td>\n",
              "      <td>102.0</td>\n",
              "      <td>1.80</td>\n",
              "      <td>0.75</td>\n",
              "      <td>0.43</td>\n",
              "      <td>1.41</td>\n",
              "      <td>7.30</td>\n",
              "      <td>0.70</td>\n",
              "      <td>1.56</td>\n",
              "      <td>750.0</td>\n",
              "    </tr>\n",
              "    <tr>\n",
              "      <th>175</th>\n",
              "      <td>13.27</td>\n",
              "      <td>4.28</td>\n",
              "      <td>2.26</td>\n",
              "      <td>20.0</td>\n",
              "      <td>120.0</td>\n",
              "      <td>1.59</td>\n",
              "      <td>0.69</td>\n",
              "      <td>0.43</td>\n",
              "      <td>1.35</td>\n",
              "      <td>10.20</td>\n",
              "      <td>0.59</td>\n",
              "      <td>1.56</td>\n",
              "      <td>835.0</td>\n",
              "    </tr>\n",
              "    <tr>\n",
              "      <th>176</th>\n",
              "      <td>13.17</td>\n",
              "      <td>2.59</td>\n",
              "      <td>2.37</td>\n",
              "      <td>20.0</td>\n",
              "      <td>120.0</td>\n",
              "      <td>1.65</td>\n",
              "      <td>0.68</td>\n",
              "      <td>0.53</td>\n",
              "      <td>1.46</td>\n",
              "      <td>9.30</td>\n",
              "      <td>0.60</td>\n",
              "      <td>1.62</td>\n",
              "      <td>840.0</td>\n",
              "    </tr>\n",
              "    <tr>\n",
              "      <th>177</th>\n",
              "      <td>14.13</td>\n",
              "      <td>4.10</td>\n",
              "      <td>2.74</td>\n",
              "      <td>24.5</td>\n",
              "      <td>96.0</td>\n",
              "      <td>2.05</td>\n",
              "      <td>0.76</td>\n",
              "      <td>0.56</td>\n",
              "      <td>1.35</td>\n",
              "      <td>9.20</td>\n",
              "      <td>0.61</td>\n",
              "      <td>1.60</td>\n",
              "      <td>560.0</td>\n",
              "    </tr>\n",
              "  </tbody>\n",
              "</table>\n",
              "<p>178 rows × 13 columns</p>\n",
              "</div>"
            ],
            "text/plain": [
              "      CRIM    ZN  INDUS  CHAS    NOX  ...   RAD    TAX  PTRATIO     B   LSTAT\n",
              "0    14.23  1.71   2.43  15.6  127.0  ...  2.29   5.64     1.04  3.92  1065.0\n",
              "1    13.20  1.78   2.14  11.2  100.0  ...  1.28   4.38     1.05  3.40  1050.0\n",
              "2    13.16  2.36   2.67  18.6  101.0  ...  2.81   5.68     1.03  3.17  1185.0\n",
              "3    14.37  1.95   2.50  16.8  113.0  ...  2.18   7.80     0.86  3.45  1480.0\n",
              "4    13.24  2.59   2.87  21.0  118.0  ...  1.82   4.32     1.04  2.93   735.0\n",
              "..     ...   ...    ...   ...    ...  ...   ...    ...      ...   ...     ...\n",
              "173  13.71  5.65   2.45  20.5   95.0  ...  1.06   7.70     0.64  1.74   740.0\n",
              "174  13.40  3.91   2.48  23.0  102.0  ...  1.41   7.30     0.70  1.56   750.0\n",
              "175  13.27  4.28   2.26  20.0  120.0  ...  1.35  10.20     0.59  1.56   835.0\n",
              "176  13.17  2.59   2.37  20.0  120.0  ...  1.46   9.30     0.60  1.62   840.0\n",
              "177  14.13  4.10   2.74  24.5   96.0  ...  1.35   9.20     0.61  1.60   560.0\n",
              "\n",
              "[178 rows x 13 columns]"
            ]
          },
          "metadata": {
            "tags": []
          },
          "execution_count": 135
        }
      ]
    },
    {
      "cell_type": "markdown",
      "metadata": {
        "id": "9qhVHBtPpaXg"
      },
      "source": [
        "**6).** Выясните размер датафрейма X и установите, имеются ли в нем пропущенные значения."
      ]
    },
    {
      "cell_type": "code",
      "metadata": {
        "colab": {
          "base_uri": "https://localhost:8080/"
        },
        "id": "QRxbl-scpcqJ",
        "outputId": "a5057340-d1cd-40ae-ad9a-7f52dfd9b7fb"
      },
      "source": [
        "X.size"
      ],
      "execution_count": 136,
      "outputs": [
        {
          "output_type": "execute_result",
          "data": {
            "text/plain": [
              "2314"
            ]
          },
          "metadata": {
            "tags": []
          },
          "execution_count": 136
        }
      ]
    },
    {
      "cell_type": "code",
      "metadata": {
        "colab": {
          "base_uri": "https://localhost:8080/"
        },
        "id": "dyqorsjtpjTZ",
        "outputId": "a0e41de8-b5b9-47a0-9a4b-498aa719707a"
      },
      "source": [
        "X.shape"
      ],
      "execution_count": 137,
      "outputs": [
        {
          "output_type": "execute_result",
          "data": {
            "text/plain": [
              "(178, 13)"
            ]
          },
          "metadata": {
            "tags": []
          },
          "execution_count": 137
        }
      ]
    },
    {
      "cell_type": "code",
      "metadata": {
        "colab": {
          "base_uri": "https://localhost:8080/"
        },
        "id": "Pq8Ci7popk8H",
        "outputId": "9c410a1c-2a73-496e-d00e-0743322fc0b5"
      },
      "source": [
        "X.isna().sum()"
      ],
      "execution_count": 140,
      "outputs": [
        {
          "output_type": "execute_result",
          "data": {
            "text/plain": [
              "CRIM       0\n",
              "ZN         0\n",
              "INDUS      0\n",
              "CHAS       0\n",
              "NOX        0\n",
              "RM         0\n",
              "AGE        0\n",
              "DIS        0\n",
              "RAD        0\n",
              "TAX        0\n",
              "PTRATIO    0\n",
              "B          0\n",
              "LSTAT      0\n",
              "dtype: int64"
            ]
          },
          "metadata": {
            "tags": []
          },
          "execution_count": 140
        }
      ]
    },
    {
      "cell_type": "markdown",
      "metadata": {
        "id": "MKDk4rekpoyq"
      },
      "source": [
        "**7).** Добавьте в датафрейм поле с классами вин в виде чисел, имеющих тип данных numpy.int64. Название поля - 'target'."
      ]
    },
    {
      "cell_type": "code",
      "metadata": {
        "colab": {
          "base_uri": "https://localhost:8080/",
          "height": 204
        },
        "id": "-vnLbwCDp6BE",
        "outputId": "97fc22c0-b28a-4253-ee21-81c597ca16f8"
      },
      "source": [
        "X['target'] = data['target']\n",
        "X.head()"
      ],
      "execution_count": 146,
      "outputs": [
        {
          "output_type": "execute_result",
          "data": {
            "text/html": [
              "<div>\n",
              "<style scoped>\n",
              "    .dataframe tbody tr th:only-of-type {\n",
              "        vertical-align: middle;\n",
              "    }\n",
              "\n",
              "    .dataframe tbody tr th {\n",
              "        vertical-align: top;\n",
              "    }\n",
              "\n",
              "    .dataframe thead th {\n",
              "        text-align: right;\n",
              "    }\n",
              "</style>\n",
              "<table border=\"1\" class=\"dataframe\">\n",
              "  <thead>\n",
              "    <tr style=\"text-align: right;\">\n",
              "      <th></th>\n",
              "      <th>CRIM</th>\n",
              "      <th>ZN</th>\n",
              "      <th>INDUS</th>\n",
              "      <th>CHAS</th>\n",
              "      <th>NOX</th>\n",
              "      <th>RM</th>\n",
              "      <th>AGE</th>\n",
              "      <th>DIS</th>\n",
              "      <th>RAD</th>\n",
              "      <th>TAX</th>\n",
              "      <th>PTRATIO</th>\n",
              "      <th>B</th>\n",
              "      <th>LSTAT</th>\n",
              "      <th>target</th>\n",
              "    </tr>\n",
              "  </thead>\n",
              "  <tbody>\n",
              "    <tr>\n",
              "      <th>0</th>\n",
              "      <td>14.23</td>\n",
              "      <td>1.71</td>\n",
              "      <td>2.43</td>\n",
              "      <td>15.6</td>\n",
              "      <td>127.0</td>\n",
              "      <td>2.80</td>\n",
              "      <td>3.06</td>\n",
              "      <td>0.28</td>\n",
              "      <td>2.29</td>\n",
              "      <td>5.64</td>\n",
              "      <td>1.04</td>\n",
              "      <td>3.92</td>\n",
              "      <td>1065.0</td>\n",
              "      <td>0</td>\n",
              "    </tr>\n",
              "    <tr>\n",
              "      <th>1</th>\n",
              "      <td>13.20</td>\n",
              "      <td>1.78</td>\n",
              "      <td>2.14</td>\n",
              "      <td>11.2</td>\n",
              "      <td>100.0</td>\n",
              "      <td>2.65</td>\n",
              "      <td>2.76</td>\n",
              "      <td>0.26</td>\n",
              "      <td>1.28</td>\n",
              "      <td>4.38</td>\n",
              "      <td>1.05</td>\n",
              "      <td>3.40</td>\n",
              "      <td>1050.0</td>\n",
              "      <td>0</td>\n",
              "    </tr>\n",
              "    <tr>\n",
              "      <th>2</th>\n",
              "      <td>13.16</td>\n",
              "      <td>2.36</td>\n",
              "      <td>2.67</td>\n",
              "      <td>18.6</td>\n",
              "      <td>101.0</td>\n",
              "      <td>2.80</td>\n",
              "      <td>3.24</td>\n",
              "      <td>0.30</td>\n",
              "      <td>2.81</td>\n",
              "      <td>5.68</td>\n",
              "      <td>1.03</td>\n",
              "      <td>3.17</td>\n",
              "      <td>1185.0</td>\n",
              "      <td>0</td>\n",
              "    </tr>\n",
              "    <tr>\n",
              "      <th>3</th>\n",
              "      <td>14.37</td>\n",
              "      <td>1.95</td>\n",
              "      <td>2.50</td>\n",
              "      <td>16.8</td>\n",
              "      <td>113.0</td>\n",
              "      <td>3.85</td>\n",
              "      <td>3.49</td>\n",
              "      <td>0.24</td>\n",
              "      <td>2.18</td>\n",
              "      <td>7.80</td>\n",
              "      <td>0.86</td>\n",
              "      <td>3.45</td>\n",
              "      <td>1480.0</td>\n",
              "      <td>0</td>\n",
              "    </tr>\n",
              "    <tr>\n",
              "      <th>4</th>\n",
              "      <td>13.24</td>\n",
              "      <td>2.59</td>\n",
              "      <td>2.87</td>\n",
              "      <td>21.0</td>\n",
              "      <td>118.0</td>\n",
              "      <td>2.80</td>\n",
              "      <td>2.69</td>\n",
              "      <td>0.39</td>\n",
              "      <td>1.82</td>\n",
              "      <td>4.32</td>\n",
              "      <td>1.04</td>\n",
              "      <td>2.93</td>\n",
              "      <td>735.0</td>\n",
              "      <td>0</td>\n",
              "    </tr>\n",
              "  </tbody>\n",
              "</table>\n",
              "</div>"
            ],
            "text/plain": [
              "    CRIM    ZN  INDUS  CHAS    NOX  ...   TAX  PTRATIO     B   LSTAT  target\n",
              "0  14.23  1.71   2.43  15.6  127.0  ...  5.64     1.04  3.92  1065.0       0\n",
              "1  13.20  1.78   2.14  11.2  100.0  ...  4.38     1.05  3.40  1050.0       0\n",
              "2  13.16  2.36   2.67  18.6  101.0  ...  5.68     1.03  3.17  1185.0       0\n",
              "3  14.37  1.95   2.50  16.8  113.0  ...  7.80     0.86  3.45  1480.0       0\n",
              "4  13.24  2.59   2.87  21.0  118.0  ...  4.32     1.04  2.93   735.0       0\n",
              "\n",
              "[5 rows x 14 columns]"
            ]
          },
          "metadata": {
            "tags": []
          },
          "execution_count": 146
        }
      ]
    },
    {
      "cell_type": "code",
      "metadata": {
        "colab": {
          "base_uri": "https://localhost:8080/"
        },
        "id": "-c_zFqB7qIUE",
        "outputId": "a7af1f60-b61b-46ae-ba51-e6be5e0ed78c"
      },
      "source": [
        "X['target'].astype(np.int64)"
      ],
      "execution_count": 147,
      "outputs": [
        {
          "output_type": "execute_result",
          "data": {
            "text/plain": [
              "0      0\n",
              "1      0\n",
              "2      0\n",
              "3      0\n",
              "4      0\n",
              "      ..\n",
              "173    2\n",
              "174    2\n",
              "175    2\n",
              "176    2\n",
              "177    2\n",
              "Name: target, Length: 178, dtype: int64"
            ]
          },
          "metadata": {
            "tags": []
          },
          "execution_count": 147
        }
      ]
    },
    {
      "cell_type": "code",
      "metadata": {
        "colab": {
          "base_uri": "https://localhost:8080/"
        },
        "id": "lUYeflI-q3VD",
        "outputId": "99d74ba2-59e8-4dd8-c3ec-7edfd6dddcc4"
      },
      "source": [
        "X['target'].value_counts()"
      ],
      "execution_count": 148,
      "outputs": [
        {
          "output_type": "execute_result",
          "data": {
            "text/plain": [
              "1    71\n",
              "0    59\n",
              "2    48\n",
              "Name: target, dtype: int64"
            ]
          },
          "metadata": {
            "tags": []
          },
          "execution_count": 148
        }
      ]
    },
    {
      "cell_type": "markdown",
      "metadata": {
        "id": "JMlK8dhOq9Rd"
      },
      "source": [
        "**8).** Постройте матрицу корреляций для всех полей X. Дайте полученному датафрейму название X_corr."
      ]
    },
    {
      "cell_type": "code",
      "metadata": {
        "id": "B4dZdX7krZnP"
      },
      "source": [
        "from matplotlib import pyplot as plt\n",
        "import matplotlib.image as img\n",
        "import seaborn as sns\n",
        "from scipy import stats\n",
        "%matplotlib inline\n",
        "%config InlineBackend.figure_format = 'svg'\n",
        "import warnings\n",
        "warnings.filterwarnings('ignore')\n"
      ],
      "execution_count": 152,
      "outputs": []
    },
    {
      "cell_type": "code",
      "metadata": {
        "colab": {
          "base_uri": "https://localhost:8080/",
          "height": 823
        },
        "id": "xRfvIO5OrCND",
        "outputId": "f9d45ec1-073b-4767-908d-dc436cc1c5ce"
      },
      "source": [
        "plt.figure(figsize = (15,10))\n",
        "\n",
        "sns.set(font_scale=1.4)\n",
        "\n",
        "X_corr = X.corr()\n",
        "X_corr = np.round(X_corr, 2)\n",
        "X_corr[np.abs(X_corr) < 0.3] = 0\n",
        "\n",
        "sns.heatmap(X_corr, annot=True, linewidths=.5, cmap='coolwarm')\n",
        "\n",
        "plt.title('Correlation matrix')\n",
        "plt.show()"
      ],
      "execution_count": 154,
      "outputs": [
        {
          "output_type": "display_data",
          "data": {
            "text/plain": [
              "<Figure size 1080x720 with 2 Axes>"
            ],
            "image/svg+xml": "<?xml version=\"1.0\" encoding=\"utf-8\" standalone=\"no\"?>\n<!DOCTYPE svg PUBLIC \"-//W3C//DTD SVG 1.1//EN\"\n  \"http://www.w3.org/Graphics/SVG/1.1/DTD/svg11.dtd\">\n<!-- Created with matplotlib (https://matplotlib.org/) -->\n<svg height=\"601.169688pt\" version=\"1.1\" viewBox=\"0 0 883.412906 601.169688\" width=\"883.412906pt\" xmlns=\"http://www.w3.org/2000/svg\" xmlns:xlink=\"http://www.w3.org/1999/xlink\">\n <defs>\n  <style type=\"text/css\">\n*{stroke-linecap:butt;stroke-linejoin:round;}\n  </style>\n </defs>\n <g id=\"figure_1\">\n  <g id=\"patch_1\">\n   <path d=\"M 0 601.169688 \nL 883.412906 601.169688 \nL 883.412906 0 \nL 0 0 \nz\n\" style=\"fill:#ffffff;\"/>\n  </g>\n  <g id=\"axes_1\">\n   <g id=\"patch_2\">\n    <path d=\"M 80.889125 569.565375 \nL 750.489125 569.565375 \nL 750.489125 25.965375 \nL 80.889125 25.965375 \nz\n\" style=\"fill:#eaeaf2;\"/>\n   </g>\n   <g id=\"matplotlib.axis_1\">\n    <g id=\"xtick_1\">\n     <g id=\"text_1\">\n      <!-- CRIM -->\n      <defs>\n       <path d=\"M 64.40625 67.28125 \nL 64.40625 56.890625 \nQ 59.421875 61.53125 53.78125 63.8125 \nQ 48.140625 66.109375 41.796875 66.109375 \nQ 29.296875 66.109375 22.65625 58.46875 \nQ 16.015625 50.828125 16.015625 36.375 \nQ 16.015625 21.96875 22.65625 14.328125 \nQ 29.296875 6.6875 41.796875 6.6875 \nQ 48.140625 6.6875 53.78125 8.984375 \nQ 59.421875 11.28125 64.40625 15.921875 \nL 64.40625 5.609375 \nQ 59.234375 2.09375 53.4375 0.328125 \nQ 47.65625 -1.421875 41.21875 -1.421875 \nQ 24.65625 -1.421875 15.125 8.703125 \nQ 5.609375 18.84375 5.609375 36.375 \nQ 5.609375 53.953125 15.125 64.078125 \nQ 24.65625 74.21875 41.21875 74.21875 \nQ 47.75 74.21875 53.53125 72.484375 \nQ 59.328125 70.75 64.40625 67.28125 \nz\n\" id=\"DejaVuSans-67\"/>\n       <path d=\"M 44.390625 34.1875 \nQ 47.5625 33.109375 50.5625 29.59375 \nQ 53.5625 26.078125 56.59375 19.921875 \nL 66.609375 0 \nL 56 0 \nL 46.6875 18.703125 \nQ 43.0625 26.03125 39.671875 28.421875 \nQ 36.28125 30.8125 30.421875 30.8125 \nL 19.671875 30.8125 \nL 19.671875 0 \nL 9.8125 0 \nL 9.8125 72.90625 \nL 32.078125 72.90625 \nQ 44.578125 72.90625 50.734375 67.671875 \nQ 56.890625 62.453125 56.890625 51.90625 \nQ 56.890625 45.015625 53.6875 40.46875 \nQ 50.484375 35.9375 44.390625 34.1875 \nz\nM 19.671875 64.796875 \nL 19.671875 38.921875 \nL 32.078125 38.921875 \nQ 39.203125 38.921875 42.84375 42.21875 \nQ 46.484375 45.515625 46.484375 51.90625 \nQ 46.484375 58.296875 42.84375 61.546875 \nQ 39.203125 64.796875 32.078125 64.796875 \nz\n\" id=\"DejaVuSans-82\"/>\n       <path d=\"M 9.8125 72.90625 \nL 19.671875 72.90625 \nL 19.671875 0 \nL 9.8125 0 \nz\n\" id=\"DejaVuSans-73\"/>\n       <path d=\"M 9.8125 72.90625 \nL 24.515625 72.90625 \nL 43.109375 23.296875 \nL 61.8125 72.90625 \nL 76.515625 72.90625 \nL 76.515625 0 \nL 66.890625 0 \nL 66.890625 64.015625 \nL 48.09375 14.015625 \nL 38.1875 14.015625 \nL 19.390625 64.015625 \nL 19.390625 0 \nL 9.8125 0 \nz\n\" id=\"DejaVuSans-77\"/>\n      </defs>\n      <g style=\"fill:#262626;\" transform=\"translate(85.161192 590.766969)scale(0.154 -0.154)\">\n       <use xlink:href=\"#DejaVuSans-67\"/>\n       <use x=\"69.824219\" xlink:href=\"#DejaVuSans-82\"/>\n       <use x=\"139.306641\" xlink:href=\"#DejaVuSans-73\"/>\n       <use x=\"168.798828\" xlink:href=\"#DejaVuSans-77\"/>\n      </g>\n     </g>\n    </g>\n    <g id=\"xtick_2\">\n     <g id=\"text_2\">\n      <!-- ZN -->\n      <defs>\n       <path d=\"M 5.609375 72.90625 \nL 62.890625 72.90625 \nL 62.890625 65.375 \nL 16.796875 8.296875 \nL 64.015625 8.296875 \nL 64.015625 0 \nL 4.5 0 \nL 4.5 7.515625 \nL 50.59375 64.59375 \nL 5.609375 64.59375 \nz\n\" id=\"DejaVuSans-90\"/>\n       <path d=\"M 9.8125 72.90625 \nL 23.09375 72.90625 \nL 55.421875 11.921875 \nL 55.421875 72.90625 \nL 64.984375 72.90625 \nL 64.984375 0 \nL 51.703125 0 \nL 19.390625 60.984375 \nL 19.390625 0 \nL 9.8125 0 \nz\n\" id=\"DejaVuSans-78\"/>\n      </defs>\n      <g style=\"fill:#262626;\" transform=\"translate(141.59692 590.766969)scale(0.154 -0.154)\">\n       <use xlink:href=\"#DejaVuSans-90\"/>\n       <use x=\"68.505859\" xlink:href=\"#DejaVuSans-78\"/>\n      </g>\n     </g>\n    </g>\n    <g id=\"xtick_3\">\n     <g id=\"text_3\">\n      <!-- INDUS -->\n      <defs>\n       <path d=\"M 19.671875 64.796875 \nL 19.671875 8.109375 \nL 31.59375 8.109375 \nQ 46.6875 8.109375 53.6875 14.9375 \nQ 60.6875 21.78125 60.6875 36.53125 \nQ 60.6875 51.171875 53.6875 57.984375 \nQ 46.6875 64.796875 31.59375 64.796875 \nz\nM 9.8125 72.90625 \nL 30.078125 72.90625 \nQ 51.265625 72.90625 61.171875 64.09375 \nQ 71.09375 55.28125 71.09375 36.53125 \nQ 71.09375 17.671875 61.125 8.828125 \nQ 51.171875 0 30.078125 0 \nL 9.8125 0 \nz\n\" id=\"DejaVuSans-68\"/>\n       <path d=\"M 8.6875 72.90625 \nL 18.609375 72.90625 \nL 18.609375 28.609375 \nQ 18.609375 16.890625 22.84375 11.734375 \nQ 27.09375 6.59375 36.625 6.59375 \nQ 46.09375 6.59375 50.34375 11.734375 \nQ 54.59375 16.890625 54.59375 28.609375 \nL 54.59375 72.90625 \nL 64.5 72.90625 \nL 64.5 27.390625 \nQ 64.5 13.140625 57.4375 5.859375 \nQ 50.390625 -1.421875 36.625 -1.421875 \nQ 22.796875 -1.421875 15.734375 5.859375 \nQ 8.6875 13.140625 8.6875 27.390625 \nz\n\" id=\"DejaVuSans-85\"/>\n       <path d=\"M 53.515625 70.515625 \nL 53.515625 60.890625 \nQ 47.90625 63.578125 42.921875 64.890625 \nQ 37.9375 66.21875 33.296875 66.21875 \nQ 25.25 66.21875 20.875 63.09375 \nQ 16.5 59.96875 16.5 54.203125 \nQ 16.5 49.359375 19.40625 46.890625 \nQ 22.3125 44.4375 30.421875 42.921875 \nL 36.375 41.703125 \nQ 47.40625 39.59375 52.65625 34.296875 \nQ 57.90625 29 57.90625 20.125 \nQ 57.90625 9.515625 50.796875 4.046875 \nQ 43.703125 -1.421875 29.984375 -1.421875 \nQ 24.8125 -1.421875 18.96875 -0.25 \nQ 13.140625 0.921875 6.890625 3.21875 \nL 6.890625 13.375 \nQ 12.890625 10.015625 18.65625 8.296875 \nQ 24.421875 6.59375 29.984375 6.59375 \nQ 38.421875 6.59375 43.015625 9.90625 \nQ 47.609375 13.234375 47.609375 19.390625 \nQ 47.609375 24.75 44.3125 27.78125 \nQ 41.015625 30.8125 33.5 32.328125 \nL 27.484375 33.5 \nQ 16.453125 35.6875 11.515625 40.375 \nQ 6.59375 45.0625 6.59375 53.421875 \nQ 6.59375 63.09375 13.40625 68.65625 \nQ 20.21875 74.21875 32.171875 74.21875 \nQ 37.3125 74.21875 42.625 73.28125 \nQ 47.953125 72.359375 53.515625 70.515625 \nz\n\" id=\"DejaVuSans-83\"/>\n      </defs>\n      <g style=\"fill:#262626;\" transform=\"translate(175.975757 590.766969)scale(0.154 -0.154)\">\n       <use xlink:href=\"#DejaVuSans-73\"/>\n       <use x=\"29.492188\" xlink:href=\"#DejaVuSans-78\"/>\n       <use x=\"104.296875\" xlink:href=\"#DejaVuSans-68\"/>\n       <use x=\"181.298828\" xlink:href=\"#DejaVuSans-85\"/>\n       <use x=\"254.492188\" xlink:href=\"#DejaVuSans-83\"/>\n      </g>\n     </g>\n    </g>\n    <g id=\"xtick_4\">\n     <g id=\"text_4\">\n      <!-- CHAS -->\n      <defs>\n       <path d=\"M 9.8125 72.90625 \nL 19.671875 72.90625 \nL 19.671875 43.015625 \nL 55.515625 43.015625 \nL 55.515625 72.90625 \nL 65.375 72.90625 \nL 65.375 0 \nL 55.515625 0 \nL 55.515625 34.71875 \nL 19.671875 34.71875 \nL 19.671875 0 \nL 9.8125 0 \nz\n\" id=\"DejaVuSans-72\"/>\n       <path d=\"M 34.1875 63.1875 \nL 20.796875 26.90625 \nL 47.609375 26.90625 \nz\nM 28.609375 72.90625 \nL 39.796875 72.90625 \nL 67.578125 0 \nL 57.328125 0 \nL 50.6875 18.703125 \nL 17.828125 18.703125 \nL 11.1875 0 \nL 0.78125 0 \nz\n\" id=\"DejaVuSans-65\"/>\n      </defs>\n      <g style=\"fill:#262626;\" transform=\"translate(226.966141 590.766969)scale(0.154 -0.154)\">\n       <use xlink:href=\"#DejaVuSans-67\"/>\n       <use x=\"69.824219\" xlink:href=\"#DejaVuSans-72\"/>\n       <use x=\"145.019531\" xlink:href=\"#DejaVuSans-65\"/>\n       <use x=\"213.427734\" xlink:href=\"#DejaVuSans-83\"/>\n      </g>\n     </g>\n    </g>\n    <g id=\"xtick_5\">\n     <g id=\"text_5\">\n      <!-- NOX -->\n      <defs>\n       <path d=\"M 39.40625 66.21875 \nQ 28.65625 66.21875 22.328125 58.203125 \nQ 16.015625 50.203125 16.015625 36.375 \nQ 16.015625 22.609375 22.328125 14.59375 \nQ 28.65625 6.59375 39.40625 6.59375 \nQ 50.140625 6.59375 56.421875 14.59375 \nQ 62.703125 22.609375 62.703125 36.375 \nQ 62.703125 50.203125 56.421875 58.203125 \nQ 50.140625 66.21875 39.40625 66.21875 \nz\nM 39.40625 74.21875 \nQ 54.734375 74.21875 63.90625 63.9375 \nQ 73.09375 53.65625 73.09375 36.375 \nQ 73.09375 19.140625 63.90625 8.859375 \nQ 54.734375 -1.421875 39.40625 -1.421875 \nQ 24.03125 -1.421875 14.8125 8.828125 \nQ 5.609375 19.09375 5.609375 36.375 \nQ 5.609375 53.65625 14.8125 63.9375 \nQ 24.03125 74.21875 39.40625 74.21875 \nz\n\" id=\"DejaVuSans-79\"/>\n       <path d=\"M 6.296875 72.90625 \nL 16.890625 72.90625 \nL 35.015625 45.796875 \nL 53.21875 72.90625 \nL 63.8125 72.90625 \nL 40.375 37.890625 \nL 65.375 0 \nL 54.78125 0 \nL 34.28125 31 \nL 13.625 0 \nL 2.984375 0 \nL 29 38.921875 \nz\n\" id=\"DejaVuSans-88\"/>\n      </defs>\n      <g style=\"fill:#262626;\" transform=\"translate(279.512165 590.766969)scale(0.154 -0.154)\">\n       <use xlink:href=\"#DejaVuSans-78\"/>\n       <use x=\"74.804688\" xlink:href=\"#DejaVuSans-79\"/>\n       <use x=\"147.140625\" xlink:href=\"#DejaVuSans-88\"/>\n      </g>\n     </g>\n    </g>\n    <g id=\"xtick_6\">\n     <g id=\"text_6\">\n      <!-- RM -->\n      <g style=\"fill:#262626;\" transform=\"translate(331.952315 590.766969)scale(0.154 -0.154)\">\n       <use xlink:href=\"#DejaVuSans-82\"/>\n       <use x=\"69.482422\" xlink:href=\"#DejaVuSans-77\"/>\n      </g>\n     </g>\n    </g>\n    <g id=\"xtick_7\">\n     <g id=\"text_7\">\n      <!-- AGE -->\n      <defs>\n       <path d=\"M 59.515625 10.40625 \nL 59.515625 29.984375 \nL 43.40625 29.984375 \nL 43.40625 38.09375 \nL 69.28125 38.09375 \nL 69.28125 6.78125 \nQ 63.578125 2.734375 56.6875 0.65625 \nQ 49.8125 -1.421875 42 -1.421875 \nQ 24.90625 -1.421875 15.25 8.5625 \nQ 5.609375 18.5625 5.609375 36.375 \nQ 5.609375 54.25 15.25 64.234375 \nQ 24.90625 74.21875 42 74.21875 \nQ 49.125 74.21875 55.546875 72.453125 \nQ 61.96875 70.703125 67.390625 67.28125 \nL 67.390625 56.78125 \nQ 61.921875 61.421875 55.765625 63.765625 \nQ 49.609375 66.109375 42.828125 66.109375 \nQ 29.4375 66.109375 22.71875 58.640625 \nQ 16.015625 51.171875 16.015625 36.375 \nQ 16.015625 21.625 22.71875 14.15625 \nQ 29.4375 6.6875 42.828125 6.6875 \nQ 48.046875 6.6875 52.140625 7.59375 \nQ 56.25 8.5 59.515625 10.40625 \nz\n\" id=\"DejaVuSans-71\"/>\n       <path d=\"M 9.8125 72.90625 \nL 55.90625 72.90625 \nL 55.90625 64.59375 \nL 19.671875 64.59375 \nL 19.671875 43.015625 \nL 54.390625 43.015625 \nL 54.390625 34.71875 \nL 19.671875 34.71875 \nL 19.671875 8.296875 \nL 56.78125 8.296875 \nL 56.78125 0 \nL 9.8125 0 \nz\n\" id=\"DejaVuSans-69\"/>\n      </defs>\n      <g style=\"fill:#262626;\" transform=\"translate(375.810574 590.766969)scale(0.154 -0.154)\">\n       <use xlink:href=\"#DejaVuSans-65\"/>\n       <use x=\"66.658203\" xlink:href=\"#DejaVuSans-71\"/>\n       <use x=\"144.148438\" xlink:href=\"#DejaVuSans-69\"/>\n      </g>\n     </g>\n    </g>\n    <g id=\"xtick_8\">\n     <g id=\"text_8\">\n      <!-- DIS -->\n      <g style=\"fill:#262626;\" transform=\"translate(426.514614 590.766969)scale(0.154 -0.154)\">\n       <use xlink:href=\"#DejaVuSans-68\"/>\n       <use x=\"77.001953\" xlink:href=\"#DejaVuSans-73\"/>\n       <use x=\"106.494141\" xlink:href=\"#DejaVuSans-83\"/>\n      </g>\n     </g>\n    </g>\n    <g id=\"xtick_9\">\n     <g id=\"text_9\">\n      <!-- RAD -->\n      <g style=\"fill:#262626;\" transform=\"translate(471.193404 590.766969)scale(0.154 -0.154)\">\n       <use xlink:href=\"#DejaVuSans-82\"/>\n       <use x=\"65.482422\" xlink:href=\"#DejaVuSans-65\"/>\n       <use x=\"133.890625\" xlink:href=\"#DejaVuSans-68\"/>\n      </g>\n     </g>\n    </g>\n    <g id=\"xtick_10\">\n     <g id=\"text_10\">\n      <!-- TAX -->\n      <defs>\n       <path d=\"M -0.296875 72.90625 \nL 61.375 72.90625 \nL 61.375 64.59375 \nL 35.5 64.59375 \nL 35.5 0 \nL 25.59375 0 \nL 25.59375 64.59375 \nL -0.296875 64.59375 \nz\n\" id=\"DejaVuSans-84\"/>\n      </defs>\n      <g style=\"fill:#262626;\" transform=\"translate(520.612507 590.766969)scale(0.154 -0.154)\">\n       <use xlink:href=\"#DejaVuSans-84\"/>\n       <use x=\"53.333984\" xlink:href=\"#DejaVuSans-65\"/>\n       <use x=\"121.742188\" xlink:href=\"#DejaVuSans-88\"/>\n      </g>\n     </g>\n    </g>\n    <g id=\"xtick_11\">\n     <g id=\"text_11\">\n      <!-- PTRATIO -->\n      <defs>\n       <path d=\"M 19.671875 64.796875 \nL 19.671875 37.40625 \nL 32.078125 37.40625 \nQ 38.96875 37.40625 42.71875 40.96875 \nQ 46.484375 44.53125 46.484375 51.125 \nQ 46.484375 57.671875 42.71875 61.234375 \nQ 38.96875 64.796875 32.078125 64.796875 \nz\nM 9.8125 72.90625 \nL 32.078125 72.90625 \nQ 44.34375 72.90625 50.609375 67.359375 \nQ 56.890625 61.8125 56.890625 51.125 \nQ 56.890625 40.328125 50.609375 34.8125 \nQ 44.34375 29.296875 32.078125 29.296875 \nL 19.671875 29.296875 \nL 19.671875 0 \nL 9.8125 0 \nz\n\" id=\"DejaVuSans-80\"/>\n      </defs>\n      <g style=\"fill:#262626;\" transform=\"translate(550.994563 590.766969)scale(0.154 -0.154)\">\n       <use xlink:href=\"#DejaVuSans-80\"/>\n       <use x=\"60.302734\" xlink:href=\"#DejaVuSans-84\"/>\n       <use x=\"121.386719\" xlink:href=\"#DejaVuSans-82\"/>\n       <use x=\"186.869141\" xlink:href=\"#DejaVuSans-65\"/>\n       <use x=\"247.527344\" xlink:href=\"#DejaVuSans-84\"/>\n       <use x=\"308.611328\" xlink:href=\"#DejaVuSans-73\"/>\n       <use x=\"338.103516\" xlink:href=\"#DejaVuSans-79\"/>\n      </g>\n     </g>\n    </g>\n    <g id=\"xtick_12\">\n     <g id=\"text_12\">\n      <!-- B -->\n      <defs>\n       <path d=\"M 19.671875 34.8125 \nL 19.671875 8.109375 \nL 35.5 8.109375 \nQ 43.453125 8.109375 47.28125 11.40625 \nQ 51.125 14.703125 51.125 21.484375 \nQ 51.125 28.328125 47.28125 31.5625 \nQ 43.453125 34.8125 35.5 34.8125 \nz\nM 19.671875 64.796875 \nL 19.671875 42.828125 \nL 34.28125 42.828125 \nQ 41.5 42.828125 45.03125 45.53125 \nQ 48.578125 48.25 48.578125 53.8125 \nQ 48.578125 59.328125 45.03125 62.0625 \nQ 41.5 64.796875 34.28125 64.796875 \nz\nM 9.8125 72.90625 \nL 35.015625 72.90625 \nQ 46.296875 72.90625 52.390625 68.21875 \nQ 58.5 63.53125 58.5 54.890625 \nQ 58.5 48.1875 55.375 44.234375 \nQ 52.25 40.28125 46.1875 39.3125 \nQ 53.46875 37.75 57.5 32.78125 \nQ 61.53125 27.828125 61.53125 20.40625 \nQ 61.53125 10.640625 54.890625 5.3125 \nQ 48.25 0 35.984375 0 \nL 9.8125 0 \nz\n\" id=\"DejaVuSans-66\"/>\n      </defs>\n      <g style=\"fill:#262626;\" transform=\"translate(625.634775 590.766969)scale(0.154 -0.154)\">\n       <use xlink:href=\"#DejaVuSans-66\"/>\n      </g>\n     </g>\n    </g>\n    <g id=\"xtick_13\">\n     <g id=\"text_13\">\n      <!-- LSTAT -->\n      <defs>\n       <path d=\"M 9.8125 72.90625 \nL 19.671875 72.90625 \nL 19.671875 8.296875 \nL 55.171875 8.296875 \nL 55.171875 0 \nL 9.8125 0 \nz\n\" id=\"DejaVuSans-76\"/>\n      </defs>\n      <g style=\"fill:#262626;\" transform=\"translate(656.087815 590.766969)scale(0.154 -0.154)\">\n       <use xlink:href=\"#DejaVuSans-76\"/>\n       <use x=\"55.712891\" xlink:href=\"#DejaVuSans-83\"/>\n       <use x=\"119.189453\" xlink:href=\"#DejaVuSans-84\"/>\n       <use x=\"172.523438\" xlink:href=\"#DejaVuSans-65\"/>\n       <use x=\"233.181641\" xlink:href=\"#DejaVuSans-84\"/>\n      </g>\n     </g>\n    </g>\n    <g id=\"xtick_14\">\n     <g id=\"text_14\">\n      <!-- target -->\n      <defs>\n       <path d=\"M 18.3125 70.21875 \nL 18.3125 54.6875 \nL 36.8125 54.6875 \nL 36.8125 47.703125 \nL 18.3125 47.703125 \nL 18.3125 18.015625 \nQ 18.3125 11.328125 20.140625 9.421875 \nQ 21.96875 7.515625 27.59375 7.515625 \nL 36.8125 7.515625 \nL 36.8125 0 \nL 27.59375 0 \nQ 17.1875 0 13.234375 3.875 \nQ 9.28125 7.765625 9.28125 18.015625 \nL 9.28125 47.703125 \nL 2.6875 47.703125 \nL 2.6875 54.6875 \nL 9.28125 54.6875 \nL 9.28125 70.21875 \nz\n\" id=\"DejaVuSans-116\"/>\n       <path d=\"M 34.28125 27.484375 \nQ 23.390625 27.484375 19.1875 25 \nQ 14.984375 22.515625 14.984375 16.5 \nQ 14.984375 11.71875 18.140625 8.90625 \nQ 21.296875 6.109375 26.703125 6.109375 \nQ 34.1875 6.109375 38.703125 11.40625 \nQ 43.21875 16.703125 43.21875 25.484375 \nL 43.21875 27.484375 \nz\nM 52.203125 31.203125 \nL 52.203125 0 \nL 43.21875 0 \nL 43.21875 8.296875 \nQ 40.140625 3.328125 35.546875 0.953125 \nQ 30.953125 -1.421875 24.3125 -1.421875 \nQ 15.921875 -1.421875 10.953125 3.296875 \nQ 6 8.015625 6 15.921875 \nQ 6 25.140625 12.171875 29.828125 \nQ 18.359375 34.515625 30.609375 34.515625 \nL 43.21875 34.515625 \nL 43.21875 35.40625 \nQ 43.21875 41.609375 39.140625 45 \nQ 35.0625 48.390625 27.6875 48.390625 \nQ 23 48.390625 18.546875 47.265625 \nQ 14.109375 46.140625 10.015625 43.890625 \nL 10.015625 52.203125 \nQ 14.9375 54.109375 19.578125 55.046875 \nQ 24.21875 56 28.609375 56 \nQ 40.484375 56 46.34375 49.84375 \nQ 52.203125 43.703125 52.203125 31.203125 \nz\n\" id=\"DejaVuSans-97\"/>\n       <path d=\"M 41.109375 46.296875 \nQ 39.59375 47.171875 37.8125 47.578125 \nQ 36.03125 48 33.890625 48 \nQ 26.265625 48 22.1875 43.046875 \nQ 18.109375 38.09375 18.109375 28.8125 \nL 18.109375 0 \nL 9.078125 0 \nL 9.078125 54.6875 \nL 18.109375 54.6875 \nL 18.109375 46.1875 \nQ 20.953125 51.171875 25.484375 53.578125 \nQ 30.03125 56 36.53125 56 \nQ 37.453125 56 38.578125 55.875 \nQ 39.703125 55.765625 41.0625 55.515625 \nz\n\" id=\"DejaVuSans-114\"/>\n       <path d=\"M 45.40625 27.984375 \nQ 45.40625 37.75 41.375 43.109375 \nQ 37.359375 48.484375 30.078125 48.484375 \nQ 22.859375 48.484375 18.828125 43.109375 \nQ 14.796875 37.75 14.796875 27.984375 \nQ 14.796875 18.265625 18.828125 12.890625 \nQ 22.859375 7.515625 30.078125 7.515625 \nQ 37.359375 7.515625 41.375 12.890625 \nQ 45.40625 18.265625 45.40625 27.984375 \nz\nM 54.390625 6.78125 \nQ 54.390625 -7.171875 48.1875 -13.984375 \nQ 42 -20.796875 29.203125 -20.796875 \nQ 24.46875 -20.796875 20.265625 -20.09375 \nQ 16.0625 -19.390625 12.109375 -17.921875 \nL 12.109375 -9.1875 \nQ 16.0625 -11.328125 19.921875 -12.34375 \nQ 23.78125 -13.375 27.78125 -13.375 \nQ 36.625 -13.375 41.015625 -8.765625 \nQ 45.40625 -4.15625 45.40625 5.171875 \nL 45.40625 9.625 \nQ 42.625 4.78125 38.28125 2.390625 \nQ 33.9375 0 27.875 0 \nQ 17.828125 0 11.671875 7.65625 \nQ 5.515625 15.328125 5.515625 27.984375 \nQ 5.515625 40.671875 11.671875 48.328125 \nQ 17.828125 56 27.875 56 \nQ 33.9375 56 38.28125 53.609375 \nQ 42.625 51.21875 45.40625 46.390625 \nL 45.40625 54.6875 \nL 54.390625 54.6875 \nz\n\" id=\"DejaVuSans-103\"/>\n       <path d=\"M 56.203125 29.59375 \nL 56.203125 25.203125 \nL 14.890625 25.203125 \nQ 15.484375 15.921875 20.484375 11.0625 \nQ 25.484375 6.203125 34.421875 6.203125 \nQ 39.59375 6.203125 44.453125 7.46875 \nQ 49.3125 8.734375 54.109375 11.28125 \nL 54.109375 2.78125 \nQ 49.265625 0.734375 44.1875 -0.34375 \nQ 39.109375 -1.421875 33.890625 -1.421875 \nQ 20.796875 -1.421875 13.15625 6.1875 \nQ 5.515625 13.8125 5.515625 26.8125 \nQ 5.515625 40.234375 12.765625 48.109375 \nQ 20.015625 56 32.328125 56 \nQ 43.359375 56 49.78125 48.890625 \nQ 56.203125 41.796875 56.203125 29.59375 \nz\nM 47.21875 32.234375 \nQ 47.125 39.59375 43.09375 43.984375 \nQ 39.0625 48.390625 32.421875 48.390625 \nQ 24.90625 48.390625 20.390625 44.140625 \nQ 15.875 39.890625 15.1875 32.171875 \nz\n\" id=\"DejaVuSans-101\"/>\n      </defs>\n      <g style=\"fill:#262626;\" transform=\"translate(703.162027 590.766969)scale(0.154 -0.154)\">\n       <use xlink:href=\"#DejaVuSans-116\"/>\n       <use x=\"39.208984\" xlink:href=\"#DejaVuSans-97\"/>\n       <use x=\"100.488281\" xlink:href=\"#DejaVuSans-114\"/>\n       <use x=\"139.851562\" xlink:href=\"#DejaVuSans-103\"/>\n       <use x=\"203.328125\" xlink:href=\"#DejaVuSans-101\"/>\n       <use x=\"264.851562\" xlink:href=\"#DejaVuSans-116\"/>\n      </g>\n     </g>\n    </g>\n   </g>\n   <g id=\"matplotlib.axis_2\">\n    <g id=\"ytick_1\">\n     <g id=\"text_15\">\n      <!-- CRIM -->\n      <g style=\"fill:#262626;\" transform=\"translate(32.104688 51.230458)scale(0.154 -0.154)\">\n       <use xlink:href=\"#DejaVuSans-67\"/>\n       <use x=\"69.824219\" xlink:href=\"#DejaVuSans-82\"/>\n       <use x=\"139.306641\" xlink:href=\"#DejaVuSans-73\"/>\n       <use x=\"168.798828\" xlink:href=\"#DejaVuSans-77\"/>\n      </g>\n     </g>\n    </g>\n    <g id=\"ytick_2\">\n     <g id=\"text_16\">\n      <!-- ZN -->\n      <g style=\"fill:#262626;\" transform=\"translate(49.319 90.059029)scale(0.154 -0.154)\">\n       <use xlink:href=\"#DejaVuSans-90\"/>\n       <use x=\"68.505859\" xlink:href=\"#DejaVuSans-78\"/>\n      </g>\n     </g>\n    </g>\n    <g id=\"ytick_3\">\n     <g id=\"text_17\">\n      <!-- INDUS -->\n      <g style=\"fill:#262626;\" transform=\"translate(22.419531 128.8876)scale(0.154 -0.154)\">\n       <use xlink:href=\"#DejaVuSans-73\"/>\n       <use x=\"29.492188\" xlink:href=\"#DejaVuSans-78\"/>\n       <use x=\"104.296875\" xlink:href=\"#DejaVuSans-68\"/>\n       <use x=\"181.298828\" xlink:href=\"#DejaVuSans-85\"/>\n       <use x=\"254.492188\" xlink:href=\"#DejaVuSans-83\"/>\n      </g>\n     </g>\n    </g>\n    <g id=\"ytick_4\">\n     <g id=\"text_18\">\n      <!-- CHAS -->\n      <g style=\"fill:#262626;\" transform=\"translate(28.743156 167.716172)scale(0.154 -0.154)\">\n       <use xlink:href=\"#DejaVuSans-67\"/>\n       <use x=\"69.824219\" xlink:href=\"#DejaVuSans-72\"/>\n       <use x=\"145.019531\" xlink:href=\"#DejaVuSans-65\"/>\n       <use x=\"213.427734\" xlink:href=\"#DejaVuSans-83\"/>\n      </g>\n     </g>\n    </g>\n    <g id=\"ytick_5\">\n     <g id=\"text_19\">\n      <!-- NOX -->\n      <g style=\"fill:#262626;\" transform=\"translate(38.178063 206.544743)scale(0.154 -0.154)\">\n       <use xlink:href=\"#DejaVuSans-78\"/>\n       <use x=\"74.804688\" xlink:href=\"#DejaVuSans-79\"/>\n       <use x=\"147.140625\" xlink:href=\"#DejaVuSans-88\"/>\n      </g>\n     </g>\n    </g>\n    <g id=\"ytick_6\">\n     <g id=\"text_20\">\n      <!-- RM -->\n      <g style=\"fill:#262626;\" transform=\"translate(47.401219 245.373315)scale(0.154 -0.154)\">\n       <use xlink:href=\"#DejaVuSans-82\"/>\n       <use x=\"69.482422\" xlink:href=\"#DejaVuSans-77\"/>\n      </g>\n     </g>\n    </g>\n    <g id=\"ytick_7\">\n     <g id=\"text_21\">\n      <!-- AGE -->\n      <g style=\"fill:#262626;\" transform=\"translate(39.460594 284.201886)scale(0.154 -0.154)\">\n       <use xlink:href=\"#DejaVuSans-65\"/>\n       <use x=\"66.658203\" xlink:href=\"#DejaVuSans-71\"/>\n       <use x=\"144.148438\" xlink:href=\"#DejaVuSans-69\"/>\n      </g>\n     </g>\n    </g>\n    <g id=\"ytick_8\">\n     <g id=\"text_22\">\n      <!-- DIS -->\n      <g style=\"fill:#262626;\" transform=\"translate(45.211531 323.030458)scale(0.154 -0.154)\">\n       <use xlink:href=\"#DejaVuSans-68\"/>\n       <use x=\"77.001953\" xlink:href=\"#DejaVuSans-73\"/>\n       <use x=\"106.494141\" xlink:href=\"#DejaVuSans-83\"/>\n      </g>\n     </g>\n    </g>\n    <g id=\"ytick_9\">\n     <g id=\"text_23\">\n      <!-- RAD -->\n      <g style=\"fill:#262626;\" transform=\"translate(38.911969 361.859029)scale(0.154 -0.154)\">\n       <use xlink:href=\"#DejaVuSans-82\"/>\n       <use x=\"65.482422\" xlink:href=\"#DejaVuSans-65\"/>\n       <use x=\"133.890625\" xlink:href=\"#DejaVuSans-68\"/>\n      </g>\n     </g>\n    </g>\n    <g id=\"ytick_10\">\n     <g id=\"text_24\">\n      <!-- TAX -->\n      <g style=\"fill:#262626;\" transform=\"translate(42.093031 400.6876)scale(0.154 -0.154)\">\n       <use xlink:href=\"#DejaVuSans-84\"/>\n       <use x=\"53.333984\" xlink:href=\"#DejaVuSans-65\"/>\n       <use x=\"121.742188\" xlink:href=\"#DejaVuSans-88\"/>\n      </g>\n     </g>\n    </g>\n    <g id=\"ytick_11\">\n     <g id=\"text_25\">\n      <!-- PTRATIO -->\n      <g style=\"fill:#262626;\" transform=\"translate(7.2 439.516172)scale(0.154 -0.154)\">\n       <use xlink:href=\"#DejaVuSans-80\"/>\n       <use x=\"60.302734\" xlink:href=\"#DejaVuSans-84\"/>\n       <use x=\"121.386719\" xlink:href=\"#DejaVuSans-82\"/>\n       <use x=\"186.869141\" xlink:href=\"#DejaVuSans-65\"/>\n       <use x=\"247.527344\" xlink:href=\"#DejaVuSans-84\"/>\n       <use x=\"308.611328\" xlink:href=\"#DejaVuSans-73\"/>\n       <use x=\"338.103516\" xlink:href=\"#DejaVuSans-79\"/>\n      </g>\n     </g>\n    </g>\n    <g id=\"ytick_12\">\n     <g id=\"text_26\">\n      <!-- B -->\n      <g style=\"fill:#262626;\" transform=\"translate(60.823281 478.344743)scale(0.154 -0.154)\">\n       <use xlink:href=\"#DejaVuSans-66\"/>\n      </g>\n     </g>\n    </g>\n    <g id=\"ytick_13\">\n     <g id=\"text_27\">\n      <!-- LSTAT -->\n      <g style=\"fill:#262626;\" transform=\"translate(26.072219 517.173315)scale(0.154 -0.154)\">\n       <use xlink:href=\"#DejaVuSans-76\"/>\n       <use x=\"55.712891\" xlink:href=\"#DejaVuSans-83\"/>\n       <use x=\"119.189453\" xlink:href=\"#DejaVuSans-84\"/>\n       <use x=\"172.523438\" xlink:href=\"#DejaVuSans-65\"/>\n       <use x=\"233.181641\" xlink:href=\"#DejaVuSans-84\"/>\n      </g>\n     </g>\n    </g>\n    <g id=\"ytick_14\">\n     <g id=\"text_28\">\n      <!-- target -->\n      <g style=\"fill:#262626;\" transform=\"translate(24.5635 556.001886)scale(0.154 -0.154)\">\n       <use xlink:href=\"#DejaVuSans-116\"/>\n       <use x=\"39.208984\" xlink:href=\"#DejaVuSans-97\"/>\n       <use x=\"100.488281\" xlink:href=\"#DejaVuSans-114\"/>\n       <use x=\"139.851562\" xlink:href=\"#DejaVuSans-103\"/>\n       <use x=\"203.328125\" xlink:href=\"#DejaVuSans-101\"/>\n       <use x=\"264.851562\" xlink:href=\"#DejaVuSans-116\"/>\n      </g>\n     </g>\n    </g>\n   </g>\n   <g id=\"QuadMesh_1\">\n    <path clip-path=\"url(#pc83dab53b2)\" d=\"M 80.889125 25.965375 \nL 128.717696 25.965375 \nL 128.717696 64.793946 \nL 80.889125 64.793946 \nL 80.889125 25.965375 \n\" style=\"fill:#b40426;stroke:#ffffff;stroke-width:0.5;\"/>\n    <path clip-path=\"url(#pc83dab53b2)\" d=\"M 128.717696 25.965375 \nL 176.546268 25.965375 \nL 176.546268 64.793946 \nL 128.717696 64.793946 \nL 128.717696 25.965375 \n\" style=\"fill:#d2dbe8;stroke:#ffffff;stroke-width:0.5;\"/>\n    <path clip-path=\"url(#pc83dab53b2)\" d=\"M 176.546268 25.965375 \nL 224.374839 25.965375 \nL 224.374839 64.793946 \nL 176.546268 64.793946 \nL 176.546268 25.965375 \n\" style=\"fill:#d2dbe8;stroke:#ffffff;stroke-width:0.5;\"/>\n    <path clip-path=\"url(#pc83dab53b2)\" d=\"M 224.374839 25.965375 \nL 272.203411 25.965375 \nL 272.203411 64.793946 \nL 224.374839 64.793946 \nL 224.374839 25.965375 \n\" style=\"fill:#9bbcff;stroke:#ffffff;stroke-width:0.5;\"/>\n    <path clip-path=\"url(#pc83dab53b2)\" d=\"M 272.203411 25.965375 \nL 320.031982 25.965375 \nL 320.031982 64.793946 \nL 272.203411 64.793946 \nL 272.203411 25.965375 \n\" style=\"fill:#d2dbe8;stroke:#ffffff;stroke-width:0.5;\"/>\n    <path clip-path=\"url(#pc83dab53b2)\" d=\"M 320.031982 25.965375 \nL 367.860554 25.965375 \nL 367.860554 64.793946 \nL 320.031982 64.793946 \nL 320.031982 25.965375 \n\" style=\"fill:#d2dbe8;stroke:#ffffff;stroke-width:0.5;\"/>\n    <path clip-path=\"url(#pc83dab53b2)\" d=\"M 367.860554 25.965375 \nL 415.689125 25.965375 \nL 415.689125 64.793946 \nL 367.860554 64.793946 \nL 367.860554 25.965375 \n\" style=\"fill:#d2dbe8;stroke:#ffffff;stroke-width:0.5;\"/>\n    <path clip-path=\"url(#pc83dab53b2)\" d=\"M 415.689125 25.965375 \nL 463.517696 25.965375 \nL 463.517696 64.793946 \nL 415.689125 64.793946 \nL 415.689125 25.965375 \n\" style=\"fill:#d2dbe8;stroke:#ffffff;stroke-width:0.5;\"/>\n    <path clip-path=\"url(#pc83dab53b2)\" d=\"M 463.517696 25.965375 \nL 511.346268 25.965375 \nL 511.346268 64.793946 \nL 463.517696 64.793946 \nL 463.517696 25.965375 \n\" style=\"fill:#d2dbe8;stroke:#ffffff;stroke-width:0.5;\"/>\n    <path clip-path=\"url(#pc83dab53b2)\" d=\"M 511.346268 25.965375 \nL 559.174839 25.965375 \nL 559.174839 64.793946 \nL 511.346268 64.793946 \nL 511.346268 25.965375 \n\" style=\"fill:#f39778;stroke:#ffffff;stroke-width:0.5;\"/>\n    <path clip-path=\"url(#pc83dab53b2)\" d=\"M 559.174839 25.965375 \nL 607.003411 25.965375 \nL 607.003411 64.793946 \nL 559.174839 64.793946 \nL 559.174839 25.965375 \n\" style=\"fill:#d2dbe8;stroke:#ffffff;stroke-width:0.5;\"/>\n    <path clip-path=\"url(#pc83dab53b2)\" d=\"M 607.003411 25.965375 \nL 654.831982 25.965375 \nL 654.831982 64.793946 \nL 607.003411 64.793946 \nL 607.003411 25.965375 \n\" style=\"fill:#d2dbe8;stroke:#ffffff;stroke-width:0.5;\"/>\n    <path clip-path=\"url(#pc83dab53b2)\" d=\"M 654.831982 25.965375 \nL 702.660554 25.965375 \nL 702.660554 64.793946 \nL 654.831982 64.793946 \nL 654.831982 25.965375 \n\" style=\"fill:#ec8165;stroke:#ffffff;stroke-width:0.5;\"/>\n    <path clip-path=\"url(#pc83dab53b2)\" d=\"M 702.660554 25.965375 \nL 750.489125 25.965375 \nL 750.489125 64.793946 \nL 702.660554 64.793946 \nL 702.660554 25.965375 \n\" style=\"fill:#97b8ff;stroke:#ffffff;stroke-width:0.5;\"/>\n    <path clip-path=\"url(#pc83dab53b2)\" d=\"M 80.889125 64.793946 \nL 128.717696 64.793946 \nL 128.717696 103.622518 \nL 80.889125 103.622518 \nL 80.889125 64.793946 \n\" style=\"fill:#d2dbe8;stroke:#ffffff;stroke-width:0.5;\"/>\n    <path clip-path=\"url(#pc83dab53b2)\" d=\"M 128.717696 64.793946 \nL 176.546268 64.793946 \nL 176.546268 103.622518 \nL 128.717696 103.622518 \nL 128.717696 64.793946 \n\" style=\"fill:#b40426;stroke:#ffffff;stroke-width:0.5;\"/>\n    <path clip-path=\"url(#pc83dab53b2)\" d=\"M 176.546268 64.793946 \nL 224.374839 64.793946 \nL 224.374839 103.622518 \nL 176.546268 103.622518 \nL 176.546268 64.793946 \n\" style=\"fill:#d2dbe8;stroke:#ffffff;stroke-width:0.5;\"/>\n    <path clip-path=\"url(#pc83dab53b2)\" d=\"M 224.374839 64.793946 \nL 272.203411 64.793946 \nL 272.203411 103.622518 \nL 224.374839 103.622518 \nL 224.374839 64.793946 \n\" style=\"fill:#d2dbe8;stroke:#ffffff;stroke-width:0.5;\"/>\n    <path clip-path=\"url(#pc83dab53b2)\" d=\"M 272.203411 64.793946 \nL 320.031982 64.793946 \nL 320.031982 103.622518 \nL 272.203411 103.622518 \nL 272.203411 64.793946 \n\" style=\"fill:#d2dbe8;stroke:#ffffff;stroke-width:0.5;\"/>\n    <path clip-path=\"url(#pc83dab53b2)\" d=\"M 320.031982 64.793946 \nL 367.860554 64.793946 \nL 367.860554 103.622518 \nL 320.031982 103.622518 \nL 320.031982 64.793946 \n\" style=\"fill:#96b7ff;stroke:#ffffff;stroke-width:0.5;\"/>\n    <path clip-path=\"url(#pc83dab53b2)\" d=\"M 367.860554 64.793946 \nL 415.689125 64.793946 \nL 415.689125 103.622518 \nL 367.860554 103.622518 \nL 367.860554 64.793946 \n\" style=\"fill:#88abfd;stroke:#ffffff;stroke-width:0.5;\"/>\n    <path clip-path=\"url(#pc83dab53b2)\" d=\"M 415.689125 64.793946 \nL 463.517696 64.793946 \nL 463.517696 103.622518 \nL 415.689125 103.622518 \nL 415.689125 64.793946 \n\" style=\"fill:#d2dbe8;stroke:#ffffff;stroke-width:0.5;\"/>\n    <path clip-path=\"url(#pc83dab53b2)\" d=\"M 463.517696 64.793946 \nL 511.346268 64.793946 \nL 511.346268 103.622518 \nL 463.517696 103.622518 \nL 463.517696 64.793946 \n\" style=\"fill:#d2dbe8;stroke:#ffffff;stroke-width:0.5;\"/>\n    <path clip-path=\"url(#pc83dab53b2)\" d=\"M 511.346268 64.793946 \nL 559.174839 64.793946 \nL 559.174839 103.622518 \nL 511.346268 103.622518 \nL 511.346268 64.793946 \n\" style=\"fill:#d2dbe8;stroke:#ffffff;stroke-width:0.5;\"/>\n    <path clip-path=\"url(#pc83dab53b2)\" d=\"M 559.174839 64.793946 \nL 607.003411 64.793946 \nL 607.003411 103.622518 \nL 559.174839 103.622518 \nL 559.174839 64.793946 \n\" style=\"fill:#6c8ff1;stroke:#ffffff;stroke-width:0.5;\"/>\n    <path clip-path=\"url(#pc83dab53b2)\" d=\"M 607.003411 64.793946 \nL 654.831982 64.793946 \nL 654.831982 103.622518 \nL 607.003411 103.622518 \nL 607.003411 64.793946 \n\" style=\"fill:#90b2fe;stroke:#ffffff;stroke-width:0.5;\"/>\n    <path clip-path=\"url(#pc83dab53b2)\" d=\"M 654.831982 64.793946 \nL 702.660554 64.793946 \nL 702.660554 103.622518 \nL 654.831982 103.622518 \nL 654.831982 64.793946 \n\" style=\"fill:#d2dbe8;stroke:#ffffff;stroke-width:0.5;\"/>\n    <path clip-path=\"url(#pc83dab53b2)\" d=\"M 702.660554 64.793946 \nL 750.489125 64.793946 \nL 750.489125 103.622518 \nL 702.660554 103.622518 \nL 702.660554 64.793946 \n\" style=\"fill:#f7ad90;stroke:#ffffff;stroke-width:0.5;\"/>\n    <path clip-path=\"url(#pc83dab53b2)\" d=\"M 80.889125 103.622518 \nL 128.717696 103.622518 \nL 128.717696 142.451089 \nL 80.889125 142.451089 \nL 80.889125 103.622518 \n\" style=\"fill:#d2dbe8;stroke:#ffffff;stroke-width:0.5;\"/>\n    <path clip-path=\"url(#pc83dab53b2)\" d=\"M 128.717696 103.622518 \nL 176.546268 103.622518 \nL 176.546268 142.451089 \nL 128.717696 142.451089 \nL 128.717696 103.622518 \n\" style=\"fill:#d2dbe8;stroke:#ffffff;stroke-width:0.5;\"/>\n    <path clip-path=\"url(#pc83dab53b2)\" d=\"M 176.546268 103.622518 \nL 224.374839 103.622518 \nL 224.374839 142.451089 \nL 176.546268 142.451089 \nL 176.546268 103.622518 \n\" style=\"fill:#b40426;stroke:#ffffff;stroke-width:0.5;\"/>\n    <path clip-path=\"url(#pc83dab53b2)\" d=\"M 224.374839 103.622518 \nL 272.203411 103.622518 \nL 272.203411 142.451089 \nL 224.374839 142.451089 \nL 224.374839 103.622518 \n\" style=\"fill:#f7ad90;stroke:#ffffff;stroke-width:0.5;\"/>\n    <path clip-path=\"url(#pc83dab53b2)\" d=\"M 272.203411 103.622518 \nL 320.031982 103.622518 \nL 320.031982 142.451089 \nL 272.203411 142.451089 \nL 272.203411 103.622518 \n\" style=\"fill:#d2dbe8;stroke:#ffffff;stroke-width:0.5;\"/>\n    <path clip-path=\"url(#pc83dab53b2)\" d=\"M 320.031982 103.622518 \nL 367.860554 103.622518 \nL 367.860554 142.451089 \nL 320.031982 142.451089 \nL 320.031982 103.622518 \n\" style=\"fill:#d2dbe8;stroke:#ffffff;stroke-width:0.5;\"/>\n    <path clip-path=\"url(#pc83dab53b2)\" d=\"M 367.860554 103.622518 \nL 415.689125 103.622518 \nL 415.689125 142.451089 \nL 367.860554 142.451089 \nL 367.860554 103.622518 \n\" style=\"fill:#d2dbe8;stroke:#ffffff;stroke-width:0.5;\"/>\n    <path clip-path=\"url(#pc83dab53b2)\" d=\"M 415.689125 103.622518 \nL 463.517696 103.622518 \nL 463.517696 142.451089 \nL 415.689125 142.451089 \nL 415.689125 103.622518 \n\" style=\"fill:#d2dbe8;stroke:#ffffff;stroke-width:0.5;\"/>\n    <path clip-path=\"url(#pc83dab53b2)\" d=\"M 463.517696 103.622518 \nL 511.346268 103.622518 \nL 511.346268 142.451089 \nL 463.517696 142.451089 \nL 463.517696 103.622518 \n\" style=\"fill:#d2dbe8;stroke:#ffffff;stroke-width:0.5;\"/>\n    <path clip-path=\"url(#pc83dab53b2)\" d=\"M 511.346268 103.622518 \nL 559.174839 103.622518 \nL 559.174839 142.451089 \nL 511.346268 142.451089 \nL 511.346268 103.622518 \n\" style=\"fill:#d2dbe8;stroke:#ffffff;stroke-width:0.5;\"/>\n    <path clip-path=\"url(#pc83dab53b2)\" d=\"M 559.174839 103.622518 \nL 607.003411 103.622518 \nL 607.003411 142.451089 \nL 559.174839 142.451089 \nL 559.174839 103.622518 \n\" style=\"fill:#d2dbe8;stroke:#ffffff;stroke-width:0.5;\"/>\n    <path clip-path=\"url(#pc83dab53b2)\" d=\"M 607.003411 103.622518 \nL 654.831982 103.622518 \nL 654.831982 142.451089 \nL 607.003411 142.451089 \nL 607.003411 103.622518 \n\" style=\"fill:#d2dbe8;stroke:#ffffff;stroke-width:0.5;\"/>\n    <path clip-path=\"url(#pc83dab53b2)\" d=\"M 654.831982 103.622518 \nL 702.660554 103.622518 \nL 702.660554 142.451089 \nL 654.831982 142.451089 \nL 654.831982 103.622518 \n\" style=\"fill:#d2dbe8;stroke:#ffffff;stroke-width:0.5;\"/>\n    <path clip-path=\"url(#pc83dab53b2)\" d=\"M 702.660554 103.622518 \nL 750.489125 103.622518 \nL 750.489125 142.451089 \nL 702.660554 142.451089 \nL 702.660554 103.622518 \n\" style=\"fill:#d2dbe8;stroke:#ffffff;stroke-width:0.5;\"/>\n    <path clip-path=\"url(#pc83dab53b2)\" d=\"M 80.889125 142.451089 \nL 128.717696 142.451089 \nL 128.717696 181.279661 \nL 80.889125 181.279661 \nL 80.889125 142.451089 \n\" style=\"fill:#9bbcff;stroke:#ffffff;stroke-width:0.5;\"/>\n    <path clip-path=\"url(#pc83dab53b2)\" d=\"M 128.717696 142.451089 \nL 176.546268 142.451089 \nL 176.546268 181.279661 \nL 128.717696 181.279661 \nL 128.717696 142.451089 \n\" style=\"fill:#d2dbe8;stroke:#ffffff;stroke-width:0.5;\"/>\n    <path clip-path=\"url(#pc83dab53b2)\" d=\"M 176.546268 142.451089 \nL 224.374839 142.451089 \nL 224.374839 181.279661 \nL 176.546268 181.279661 \nL 176.546268 142.451089 \n\" style=\"fill:#f7ad90;stroke:#ffffff;stroke-width:0.5;\"/>\n    <path clip-path=\"url(#pc83dab53b2)\" d=\"M 224.374839 142.451089 \nL 272.203411 142.451089 \nL 272.203411 181.279661 \nL 224.374839 181.279661 \nL 224.374839 142.451089 \n\" style=\"fill:#b40426;stroke:#ffffff;stroke-width:0.5;\"/>\n    <path clip-path=\"url(#pc83dab53b2)\" d=\"M 272.203411 142.451089 \nL 320.031982 142.451089 \nL 320.031982 181.279661 \nL 272.203411 181.279661 \nL 272.203411 142.451089 \n\" style=\"fill:#d2dbe8;stroke:#ffffff;stroke-width:0.5;\"/>\n    <path clip-path=\"url(#pc83dab53b2)\" d=\"M 320.031982 142.451089 \nL 367.860554 142.451089 \nL 367.860554 181.279661 \nL 320.031982 181.279661 \nL 320.031982 142.451089 \n\" style=\"fill:#9abbff;stroke:#ffffff;stroke-width:0.5;\"/>\n    <path clip-path=\"url(#pc83dab53b2)\" d=\"M 367.860554 142.451089 \nL 415.689125 142.451089 \nL 415.689125 181.279661 \nL 367.860554 181.279661 \nL 367.860554 142.451089 \n\" style=\"fill:#94b6ff;stroke:#ffffff;stroke-width:0.5;\"/>\n    <path clip-path=\"url(#pc83dab53b2)\" d=\"M 415.689125 142.451089 \nL 463.517696 142.451089 \nL 463.517696 181.279661 \nL 415.689125 181.279661 \nL 415.689125 142.451089 \n\" style=\"fill:#f7bca1;stroke:#ffffff;stroke-width:0.5;\"/>\n    <path clip-path=\"url(#pc83dab53b2)\" d=\"M 463.517696 142.451089 \nL 511.346268 142.451089 \nL 511.346268 181.279661 \nL 463.517696 181.279661 \nL 463.517696 142.451089 \n\" style=\"fill:#d2dbe8;stroke:#ffffff;stroke-width:0.5;\"/>\n    <path clip-path=\"url(#pc83dab53b2)\" d=\"M 511.346268 142.451089 \nL 559.174839 142.451089 \nL 559.174839 181.279661 \nL 511.346268 181.279661 \nL 511.346268 142.451089 \n\" style=\"fill:#d2dbe8;stroke:#ffffff;stroke-width:0.5;\"/>\n    <path clip-path=\"url(#pc83dab53b2)\" d=\"M 559.174839 142.451089 \nL 607.003411 142.451089 \nL 607.003411 181.279661 \nL 559.174839 181.279661 \nL 559.174839 142.451089 \n\" style=\"fill:#d2dbe8;stroke:#ffffff;stroke-width:0.5;\"/>\n    <path clip-path=\"url(#pc83dab53b2)\" d=\"M 607.003411 142.451089 \nL 654.831982 142.451089 \nL 654.831982 181.279661 \nL 607.003411 181.279661 \nL 607.003411 142.451089 \n\" style=\"fill:#d2dbe8;stroke:#ffffff;stroke-width:0.5;\"/>\n    <path clip-path=\"url(#pc83dab53b2)\" d=\"M 654.831982 142.451089 \nL 702.660554 142.451089 \nL 702.660554 181.279661 \nL 654.831982 181.279661 \nL 654.831982 142.451089 \n\" style=\"fill:#82a6fb;stroke:#ffffff;stroke-width:0.5;\"/>\n    <path clip-path=\"url(#pc83dab53b2)\" d=\"M 702.660554 142.451089 \nL 750.489125 142.451089 \nL 750.489125 181.279661 \nL 702.660554 181.279661 \nL 702.660554 142.451089 \n\" style=\"fill:#f59d7e;stroke:#ffffff;stroke-width:0.5;\"/>\n    <path clip-path=\"url(#pc83dab53b2)\" d=\"M 80.889125 181.279661 \nL 128.717696 181.279661 \nL 128.717696 220.108232 \nL 80.889125 220.108232 \nL 80.889125 181.279661 \n\" style=\"fill:#d2dbe8;stroke:#ffffff;stroke-width:0.5;\"/>\n    <path clip-path=\"url(#pc83dab53b2)\" d=\"M 128.717696 181.279661 \nL 176.546268 181.279661 \nL 176.546268 220.108232 \nL 128.717696 220.108232 \nL 128.717696 181.279661 \n\" style=\"fill:#d2dbe8;stroke:#ffffff;stroke-width:0.5;\"/>\n    <path clip-path=\"url(#pc83dab53b2)\" d=\"M 176.546268 181.279661 \nL 224.374839 181.279661 \nL 224.374839 220.108232 \nL 176.546268 220.108232 \nL 176.546268 181.279661 \n\" style=\"fill:#d2dbe8;stroke:#ffffff;stroke-width:0.5;\"/>\n    <path clip-path=\"url(#pc83dab53b2)\" d=\"M 224.374839 181.279661 \nL 272.203411 181.279661 \nL 272.203411 220.108232 \nL 224.374839 220.108232 \nL 224.374839 181.279661 \n\" style=\"fill:#d2dbe8;stroke:#ffffff;stroke-width:0.5;\"/>\n    <path clip-path=\"url(#pc83dab53b2)\" d=\"M 272.203411 181.279661 \nL 320.031982 181.279661 \nL 320.031982 220.108232 \nL 272.203411 220.108232 \nL 272.203411 181.279661 \n\" style=\"fill:#b40426;stroke:#ffffff;stroke-width:0.5;\"/>\n    <path clip-path=\"url(#pc83dab53b2)\" d=\"M 320.031982 181.279661 \nL 367.860554 181.279661 \nL 367.860554 220.108232 \nL 320.031982 220.108232 \nL 320.031982 181.279661 \n\" style=\"fill:#d2dbe8;stroke:#ffffff;stroke-width:0.5;\"/>\n    <path clip-path=\"url(#pc83dab53b2)\" d=\"M 367.860554 181.279661 \nL 415.689125 181.279661 \nL 415.689125 220.108232 \nL 367.860554 220.108232 \nL 367.860554 181.279661 \n\" style=\"fill:#d2dbe8;stroke:#ffffff;stroke-width:0.5;\"/>\n    <path clip-path=\"url(#pc83dab53b2)\" d=\"M 415.689125 181.279661 \nL 463.517696 181.279661 \nL 463.517696 220.108232 \nL 415.689125 220.108232 \nL 415.689125 181.279661 \n\" style=\"fill:#d2dbe8;stroke:#ffffff;stroke-width:0.5;\"/>\n    <path clip-path=\"url(#pc83dab53b2)\" d=\"M 463.517696 181.279661 \nL 511.346268 181.279661 \nL 511.346268 220.108232 \nL 463.517696 220.108232 \nL 463.517696 181.279661 \n\" style=\"fill:#d2dbe8;stroke:#ffffff;stroke-width:0.5;\"/>\n    <path clip-path=\"url(#pc83dab53b2)\" d=\"M 511.346268 181.279661 \nL 559.174839 181.279661 \nL 559.174839 220.108232 \nL 511.346268 220.108232 \nL 511.346268 181.279661 \n\" style=\"fill:#d2dbe8;stroke:#ffffff;stroke-width:0.5;\"/>\n    <path clip-path=\"url(#pc83dab53b2)\" d=\"M 559.174839 181.279661 \nL 607.003411 181.279661 \nL 607.003411 220.108232 \nL 559.174839 220.108232 \nL 559.174839 181.279661 \n\" style=\"fill:#d2dbe8;stroke:#ffffff;stroke-width:0.5;\"/>\n    <path clip-path=\"url(#pc83dab53b2)\" d=\"M 607.003411 181.279661 \nL 654.831982 181.279661 \nL 654.831982 220.108232 \nL 607.003411 220.108232 \nL 607.003411 181.279661 \n\" style=\"fill:#d2dbe8;stroke:#ffffff;stroke-width:0.5;\"/>\n    <path clip-path=\"url(#pc83dab53b2)\" d=\"M 654.831982 181.279661 \nL 702.660554 181.279661 \nL 702.660554 220.108232 \nL 654.831982 220.108232 \nL 654.831982 181.279661 \n\" style=\"fill:#f7b79b;stroke:#ffffff;stroke-width:0.5;\"/>\n    <path clip-path=\"url(#pc83dab53b2)\" d=\"M 702.660554 181.279661 \nL 750.489125 181.279661 \nL 750.489125 220.108232 \nL 702.660554 220.108232 \nL 702.660554 181.279661 \n\" style=\"fill:#d2dbe8;stroke:#ffffff;stroke-width:0.5;\"/>\n    <path clip-path=\"url(#pc83dab53b2)\" d=\"M 80.889125 220.108232 \nL 128.717696 220.108232 \nL 128.717696 258.936804 \nL 80.889125 258.936804 \nL 80.889125 220.108232 \n\" style=\"fill:#d2dbe8;stroke:#ffffff;stroke-width:0.5;\"/>\n    <path clip-path=\"url(#pc83dab53b2)\" d=\"M 128.717696 220.108232 \nL 176.546268 220.108232 \nL 176.546268 258.936804 \nL 128.717696 258.936804 \nL 128.717696 220.108232 \n\" style=\"fill:#96b7ff;stroke:#ffffff;stroke-width:0.5;\"/>\n    <path clip-path=\"url(#pc83dab53b2)\" d=\"M 176.546268 220.108232 \nL 224.374839 220.108232 \nL 224.374839 258.936804 \nL 176.546268 258.936804 \nL 176.546268 220.108232 \n\" style=\"fill:#d2dbe8;stroke:#ffffff;stroke-width:0.5;\"/>\n    <path clip-path=\"url(#pc83dab53b2)\" d=\"M 224.374839 220.108232 \nL 272.203411 220.108232 \nL 272.203411 258.936804 \nL 224.374839 258.936804 \nL 224.374839 220.108232 \n\" style=\"fill:#9abbff;stroke:#ffffff;stroke-width:0.5;\"/>\n    <path clip-path=\"url(#pc83dab53b2)\" d=\"M 272.203411 220.108232 \nL 320.031982 220.108232 \nL 320.031982 258.936804 \nL 272.203411 258.936804 \nL 272.203411 220.108232 \n\" style=\"fill:#d2dbe8;stroke:#ffffff;stroke-width:0.5;\"/>\n    <path clip-path=\"url(#pc83dab53b2)\" d=\"M 320.031982 220.108232 \nL 367.860554 220.108232 \nL 367.860554 258.936804 \nL 320.031982 258.936804 \nL 320.031982 220.108232 \n\" style=\"fill:#b40426;stroke:#ffffff;stroke-width:0.5;\"/>\n    <path clip-path=\"url(#pc83dab53b2)\" d=\"M 367.860554 220.108232 \nL 415.689125 220.108232 \nL 415.689125 258.936804 \nL 367.860554 258.936804 \nL 367.860554 220.108232 \n\" style=\"fill:#cf453c;stroke:#ffffff;stroke-width:0.5;\"/>\n    <path clip-path=\"url(#pc83dab53b2)\" d=\"M 415.689125 220.108232 \nL 463.517696 220.108232 \nL 463.517696 258.936804 \nL 415.689125 258.936804 \nL 415.689125 220.108232 \n\" style=\"fill:#81a4fb;stroke:#ffffff;stroke-width:0.5;\"/>\n    <path clip-path=\"url(#pc83dab53b2)\" d=\"M 463.517696 220.108232 \nL 511.346268 220.108232 \nL 511.346268 258.936804 \nL 463.517696 258.936804 \nL 463.517696 220.108232 \n\" style=\"fill:#ef886b;stroke:#ffffff;stroke-width:0.5;\"/>\n    <path clip-path=\"url(#pc83dab53b2)\" d=\"M 511.346268 220.108232 \nL 559.174839 220.108232 \nL 559.174839 258.936804 \nL 511.346268 258.936804 \nL 511.346268 220.108232 \n\" style=\"fill:#d2dbe8;stroke:#ffffff;stroke-width:0.5;\"/>\n    <path clip-path=\"url(#pc83dab53b2)\" d=\"M 559.174839 220.108232 \nL 607.003411 220.108232 \nL 607.003411 258.936804 \nL 559.174839 258.936804 \nL 559.174839 220.108232 \n\" style=\"fill:#f7af91;stroke:#ffffff;stroke-width:0.5;\"/>\n    <path clip-path=\"url(#pc83dab53b2)\" d=\"M 607.003411 220.108232 \nL 654.831982 220.108232 \nL 654.831982 258.936804 \nL 607.003411 258.936804 \nL 607.003411 220.108232 \n\" style=\"fill:#e67259;stroke:#ffffff;stroke-width:0.5;\"/>\n    <path clip-path=\"url(#pc83dab53b2)\" d=\"M 654.831982 220.108232 \nL 702.660554 220.108232 \nL 702.660554 258.936804 \nL 654.831982 258.936804 \nL 654.831982 220.108232 \n\" style=\"fill:#f6a283;stroke:#ffffff;stroke-width:0.5;\"/>\n    <path clip-path=\"url(#pc83dab53b2)\" d=\"M 702.660554 220.108232 \nL 750.489125 220.108232 \nL 750.489125 258.936804 \nL 702.660554 258.936804 \nL 702.660554 220.108232 \n\" style=\"fill:#4f69d9;stroke:#ffffff;stroke-width:0.5;\"/>\n    <path clip-path=\"url(#pc83dab53b2)\" d=\"M 80.889125 258.936804 \nL 128.717696 258.936804 \nL 128.717696 297.765375 \nL 80.889125 297.765375 \nL 80.889125 258.936804 \n\" style=\"fill:#d2dbe8;stroke:#ffffff;stroke-width:0.5;\"/>\n    <path clip-path=\"url(#pc83dab53b2)\" d=\"M 128.717696 258.936804 \nL 176.546268 258.936804 \nL 176.546268 297.765375 \nL 128.717696 297.765375 \nL 128.717696 258.936804 \n\" style=\"fill:#88abfd;stroke:#ffffff;stroke-width:0.5;\"/>\n    <path clip-path=\"url(#pc83dab53b2)\" d=\"M 176.546268 258.936804 \nL 224.374839 258.936804 \nL 224.374839 297.765375 \nL 176.546268 297.765375 \nL 176.546268 258.936804 \n\" style=\"fill:#d2dbe8;stroke:#ffffff;stroke-width:0.5;\"/>\n    <path clip-path=\"url(#pc83dab53b2)\" d=\"M 224.374839 258.936804 \nL 272.203411 258.936804 \nL 272.203411 297.765375 \nL 224.374839 297.765375 \nL 224.374839 258.936804 \n\" style=\"fill:#94b6ff;stroke:#ffffff;stroke-width:0.5;\"/>\n    <path clip-path=\"url(#pc83dab53b2)\" d=\"M 272.203411 258.936804 \nL 320.031982 258.936804 \nL 320.031982 297.765375 \nL 272.203411 297.765375 \nL 272.203411 258.936804 \n\" style=\"fill:#d2dbe8;stroke:#ffffff;stroke-width:0.5;\"/>\n    <path clip-path=\"url(#pc83dab53b2)\" d=\"M 320.031982 258.936804 \nL 367.860554 258.936804 \nL 367.860554 297.765375 \nL 320.031982 297.765375 \nL 320.031982 258.936804 \n\" style=\"fill:#cf453c;stroke:#ffffff;stroke-width:0.5;\"/>\n    <path clip-path=\"url(#pc83dab53b2)\" d=\"M 367.860554 258.936804 \nL 415.689125 258.936804 \nL 415.689125 297.765375 \nL 367.860554 297.765375 \nL 367.860554 258.936804 \n\" style=\"fill:#b40426;stroke:#ffffff;stroke-width:0.5;\"/>\n    <path clip-path=\"url(#pc83dab53b2)\" d=\"M 415.689125 258.936804 \nL 463.517696 258.936804 \nL 463.517696 297.765375 \nL 415.689125 297.765375 \nL 415.689125 258.936804 \n\" style=\"fill:#6f92f3;stroke:#ffffff;stroke-width:0.5;\"/>\n    <path clip-path=\"url(#pc83dab53b2)\" d=\"M 463.517696 258.936804 \nL 511.346268 258.936804 \nL 511.346268 297.765375 \nL 463.517696 297.765375 \nL 463.517696 258.936804 \n\" style=\"fill:#ec7f63;stroke:#ffffff;stroke-width:0.5;\"/>\n    <path clip-path=\"url(#pc83dab53b2)\" d=\"M 511.346268 258.936804 \nL 559.174839 258.936804 \nL 559.174839 297.765375 \nL 511.346268 297.765375 \nL 511.346268 258.936804 \n\" style=\"fill:#d2dbe8;stroke:#ffffff;stroke-width:0.5;\"/>\n    <path clip-path=\"url(#pc83dab53b2)\" d=\"M 559.174839 258.936804 \nL 607.003411 258.936804 \nL 607.003411 297.765375 \nL 559.174839 297.765375 \nL 559.174839 258.936804 \n\" style=\"fill:#f4987a;stroke:#ffffff;stroke-width:0.5;\"/>\n    <path clip-path=\"url(#pc83dab53b2)\" d=\"M 607.003411 258.936804 \nL 654.831982 258.936804 \nL 654.831982 297.765375 \nL 607.003411 297.765375 \nL 607.003411 258.936804 \n\" style=\"fill:#da5a49;stroke:#ffffff;stroke-width:0.5;\"/>\n    <path clip-path=\"url(#pc83dab53b2)\" d=\"M 654.831982 258.936804 \nL 702.660554 258.936804 \nL 702.660554 297.765375 \nL 654.831982 297.765375 \nL 654.831982 258.936804 \n\" style=\"fill:#f6a385;stroke:#ffffff;stroke-width:0.5;\"/>\n    <path clip-path=\"url(#pc83dab53b2)\" d=\"M 702.660554 258.936804 \nL 750.489125 258.936804 \nL 750.489125 297.765375 \nL 702.660554 297.765375 \nL 702.660554 258.936804 \n\" style=\"fill:#3b4cc0;stroke:#ffffff;stroke-width:0.5;\"/>\n    <path clip-path=\"url(#pc83dab53b2)\" d=\"M 80.889125 297.765375 \nL 128.717696 297.765375 \nL 128.717696 336.593946 \nL 80.889125 336.593946 \nL 80.889125 297.765375 \n\" style=\"fill:#d2dbe8;stroke:#ffffff;stroke-width:0.5;\"/>\n    <path clip-path=\"url(#pc83dab53b2)\" d=\"M 128.717696 297.765375 \nL 176.546268 297.765375 \nL 176.546268 336.593946 \nL 128.717696 336.593946 \nL 128.717696 297.765375 \n\" style=\"fill:#d2dbe8;stroke:#ffffff;stroke-width:0.5;\"/>\n    <path clip-path=\"url(#pc83dab53b2)\" d=\"M 176.546268 297.765375 \nL 224.374839 297.765375 \nL 224.374839 336.593946 \nL 176.546268 336.593946 \nL 176.546268 297.765375 \n\" style=\"fill:#d2dbe8;stroke:#ffffff;stroke-width:0.5;\"/>\n    <path clip-path=\"url(#pc83dab53b2)\" d=\"M 224.374839 297.765375 \nL 272.203411 297.765375 \nL 272.203411 336.593946 \nL 224.374839 336.593946 \nL 224.374839 297.765375 \n\" style=\"fill:#f7bca1;stroke:#ffffff;stroke-width:0.5;\"/>\n    <path clip-path=\"url(#pc83dab53b2)\" d=\"M 272.203411 297.765375 \nL 320.031982 297.765375 \nL 320.031982 336.593946 \nL 272.203411 336.593946 \nL 272.203411 297.765375 \n\" style=\"fill:#d2dbe8;stroke:#ffffff;stroke-width:0.5;\"/>\n    <path clip-path=\"url(#pc83dab53b2)\" d=\"M 320.031982 297.765375 \nL 367.860554 297.765375 \nL 367.860554 336.593946 \nL 320.031982 336.593946 \nL 320.031982 297.765375 \n\" style=\"fill:#81a4fb;stroke:#ffffff;stroke-width:0.5;\"/>\n    <path clip-path=\"url(#pc83dab53b2)\" d=\"M 367.860554 297.765375 \nL 415.689125 297.765375 \nL 415.689125 336.593946 \nL 367.860554 336.593946 \nL 367.860554 297.765375 \n\" style=\"fill:#6f92f3;stroke:#ffffff;stroke-width:0.5;\"/>\n    <path clip-path=\"url(#pc83dab53b2)\" d=\"M 415.689125 297.765375 \nL 463.517696 297.765375 \nL 463.517696 336.593946 \nL 415.689125 336.593946 \nL 415.689125 297.765375 \n\" style=\"fill:#b40426;stroke:#ffffff;stroke-width:0.5;\"/>\n    <path clip-path=\"url(#pc83dab53b2)\" d=\"M 463.517696 297.765375 \nL 511.346268 297.765375 \nL 511.346268 336.593946 \nL 463.517696 336.593946 \nL 463.517696 297.765375 \n\" style=\"fill:#90b2fe;stroke:#ffffff;stroke-width:0.5;\"/>\n    <path clip-path=\"url(#pc83dab53b2)\" d=\"M 511.346268 297.765375 \nL 559.174839 297.765375 \nL 559.174839 336.593946 \nL 511.346268 336.593946 \nL 511.346268 297.765375 \n\" style=\"fill:#d2dbe8;stroke:#ffffff;stroke-width:0.5;\"/>\n    <path clip-path=\"url(#pc83dab53b2)\" d=\"M 559.174839 297.765375 \nL 607.003411 297.765375 \nL 607.003411 336.593946 \nL 559.174839 336.593946 \nL 559.174839 297.765375 \n\" style=\"fill:#d2dbe8;stroke:#ffffff;stroke-width:0.5;\"/>\n    <path clip-path=\"url(#pc83dab53b2)\" d=\"M 607.003411 297.765375 \nL 654.831982 297.765375 \nL 654.831982 336.593946 \nL 607.003411 336.593946 \nL 607.003411 297.765375 \n\" style=\"fill:#779af7;stroke:#ffffff;stroke-width:0.5;\"/>\n    <path clip-path=\"url(#pc83dab53b2)\" d=\"M 654.831982 297.765375 \nL 702.660554 297.765375 \nL 702.660554 336.593946 \nL 654.831982 336.593946 \nL 654.831982 297.765375 \n\" style=\"fill:#9bbcff;stroke:#ffffff;stroke-width:0.5;\"/>\n    <path clip-path=\"url(#pc83dab53b2)\" d=\"M 702.660554 297.765375 \nL 750.489125 297.765375 \nL 750.489125 336.593946 \nL 702.660554 336.593946 \nL 702.660554 297.765375 \n\" style=\"fill:#f6a385;stroke:#ffffff;stroke-width:0.5;\"/>\n    <path clip-path=\"url(#pc83dab53b2)\" d=\"M 80.889125 336.593946 \nL 128.717696 336.593946 \nL 128.717696 375.422518 \nL 80.889125 375.422518 \nL 80.889125 336.593946 \n\" style=\"fill:#d2dbe8;stroke:#ffffff;stroke-width:0.5;\"/>\n    <path clip-path=\"url(#pc83dab53b2)\" d=\"M 128.717696 336.593946 \nL 176.546268 336.593946 \nL 176.546268 375.422518 \nL 128.717696 375.422518 \nL 128.717696 336.593946 \n\" style=\"fill:#d2dbe8;stroke:#ffffff;stroke-width:0.5;\"/>\n    <path clip-path=\"url(#pc83dab53b2)\" d=\"M 176.546268 336.593946 \nL 224.374839 336.593946 \nL 224.374839 375.422518 \nL 176.546268 375.422518 \nL 176.546268 336.593946 \n\" style=\"fill:#d2dbe8;stroke:#ffffff;stroke-width:0.5;\"/>\n    <path clip-path=\"url(#pc83dab53b2)\" d=\"M 224.374839 336.593946 \nL 272.203411 336.593946 \nL 272.203411 375.422518 \nL 224.374839 375.422518 \nL 224.374839 336.593946 \n\" style=\"fill:#d2dbe8;stroke:#ffffff;stroke-width:0.5;\"/>\n    <path clip-path=\"url(#pc83dab53b2)\" d=\"M 272.203411 336.593946 \nL 320.031982 336.593946 \nL 320.031982 375.422518 \nL 272.203411 375.422518 \nL 272.203411 336.593946 \n\" style=\"fill:#d2dbe8;stroke:#ffffff;stroke-width:0.5;\"/>\n    <path clip-path=\"url(#pc83dab53b2)\" d=\"M 320.031982 336.593946 \nL 367.860554 336.593946 \nL 367.860554 375.422518 \nL 320.031982 375.422518 \nL 320.031982 336.593946 \n\" style=\"fill:#ef886b;stroke:#ffffff;stroke-width:0.5;\"/>\n    <path clip-path=\"url(#pc83dab53b2)\" d=\"M 367.860554 336.593946 \nL 415.689125 336.593946 \nL 415.689125 375.422518 \nL 367.860554 375.422518 \nL 367.860554 336.593946 \n\" style=\"fill:#ec7f63;stroke:#ffffff;stroke-width:0.5;\"/>\n    <path clip-path=\"url(#pc83dab53b2)\" d=\"M 415.689125 336.593946 \nL 463.517696 336.593946 \nL 463.517696 375.422518 \nL 415.689125 375.422518 \nL 415.689125 336.593946 \n\" style=\"fill:#90b2fe;stroke:#ffffff;stroke-width:0.5;\"/>\n    <path clip-path=\"url(#pc83dab53b2)\" d=\"M 463.517696 336.593946 \nL 511.346268 336.593946 \nL 511.346268 375.422518 \nL 463.517696 375.422518 \nL 463.517696 336.593946 \n\" style=\"fill:#b40426;stroke:#ffffff;stroke-width:0.5;\"/>\n    <path clip-path=\"url(#pc83dab53b2)\" d=\"M 511.346268 336.593946 \nL 559.174839 336.593946 \nL 559.174839 375.422518 \nL 511.346268 375.422518 \nL 511.346268 336.593946 \n\" style=\"fill:#d2dbe8;stroke:#ffffff;stroke-width:0.5;\"/>\n    <path clip-path=\"url(#pc83dab53b2)\" d=\"M 559.174839 336.593946 \nL 607.003411 336.593946 \nL 607.003411 375.422518 \nL 559.174839 375.422518 \nL 559.174839 336.593946 \n\" style=\"fill:#f4c5ad;stroke:#ffffff;stroke-width:0.5;\"/>\n    <path clip-path=\"url(#pc83dab53b2)\" d=\"M 607.003411 336.593946 \nL 654.831982 336.593946 \nL 654.831982 375.422518 \nL 607.003411 375.422518 \nL 607.003411 336.593946 \n\" style=\"fill:#f59d7e;stroke:#ffffff;stroke-width:0.5;\"/>\n    <path clip-path=\"url(#pc83dab53b2)\" d=\"M 654.831982 336.593946 \nL 702.660554 336.593946 \nL 702.660554 375.422518 \nL 654.831982 375.422518 \nL 654.831982 336.593946 \n\" style=\"fill:#f5c0a7;stroke:#ffffff;stroke-width:0.5;\"/>\n    <path clip-path=\"url(#pc83dab53b2)\" d=\"M 702.660554 336.593946 \nL 750.489125 336.593946 \nL 750.489125 375.422518 \nL 702.660554 375.422518 \nL 702.660554 336.593946 \n\" style=\"fill:#779af7;stroke:#ffffff;stroke-width:0.5;\"/>\n    <path clip-path=\"url(#pc83dab53b2)\" d=\"M 80.889125 375.422518 \nL 128.717696 375.422518 \nL 128.717696 414.251089 \nL 80.889125 414.251089 \nL 80.889125 375.422518 \n\" style=\"fill:#f39778;stroke:#ffffff;stroke-width:0.5;\"/>\n    <path clip-path=\"url(#pc83dab53b2)\" d=\"M 128.717696 375.422518 \nL 176.546268 375.422518 \nL 176.546268 414.251089 \nL 128.717696 414.251089 \nL 128.717696 375.422518 \n\" style=\"fill:#d2dbe8;stroke:#ffffff;stroke-width:0.5;\"/>\n    <path clip-path=\"url(#pc83dab53b2)\" d=\"M 176.546268 375.422518 \nL 224.374839 375.422518 \nL 224.374839 414.251089 \nL 176.546268 414.251089 \nL 176.546268 375.422518 \n\" style=\"fill:#d2dbe8;stroke:#ffffff;stroke-width:0.5;\"/>\n    <path clip-path=\"url(#pc83dab53b2)\" d=\"M 224.374839 375.422518 \nL 272.203411 375.422518 \nL 272.203411 414.251089 \nL 224.374839 414.251089 \nL 224.374839 375.422518 \n\" style=\"fill:#d2dbe8;stroke:#ffffff;stroke-width:0.5;\"/>\n    <path clip-path=\"url(#pc83dab53b2)\" d=\"M 272.203411 375.422518 \nL 320.031982 375.422518 \nL 320.031982 414.251089 \nL 272.203411 414.251089 \nL 272.203411 375.422518 \n\" style=\"fill:#d2dbe8;stroke:#ffffff;stroke-width:0.5;\"/>\n    <path clip-path=\"url(#pc83dab53b2)\" d=\"M 320.031982 375.422518 \nL 367.860554 375.422518 \nL 367.860554 414.251089 \nL 320.031982 414.251089 \nL 320.031982 375.422518 \n\" style=\"fill:#d2dbe8;stroke:#ffffff;stroke-width:0.5;\"/>\n    <path clip-path=\"url(#pc83dab53b2)\" d=\"M 367.860554 375.422518 \nL 415.689125 375.422518 \nL 415.689125 414.251089 \nL 367.860554 414.251089 \nL 367.860554 375.422518 \n\" style=\"fill:#d2dbe8;stroke:#ffffff;stroke-width:0.5;\"/>\n    <path clip-path=\"url(#pc83dab53b2)\" d=\"M 415.689125 375.422518 \nL 463.517696 375.422518 \nL 463.517696 414.251089 \nL 415.689125 414.251089 \nL 415.689125 375.422518 \n\" style=\"fill:#d2dbe8;stroke:#ffffff;stroke-width:0.5;\"/>\n    <path clip-path=\"url(#pc83dab53b2)\" d=\"M 463.517696 375.422518 \nL 511.346268 375.422518 \nL 511.346268 414.251089 \nL 463.517696 414.251089 \nL 463.517696 375.422518 \n\" style=\"fill:#d2dbe8;stroke:#ffffff;stroke-width:0.5;\"/>\n    <path clip-path=\"url(#pc83dab53b2)\" d=\"M 511.346268 375.422518 \nL 559.174839 375.422518 \nL 559.174839 414.251089 \nL 511.346268 414.251089 \nL 511.346268 375.422518 \n\" style=\"fill:#b40426;stroke:#ffffff;stroke-width:0.5;\"/>\n    <path clip-path=\"url(#pc83dab53b2)\" d=\"M 559.174839 375.422518 \nL 607.003411 375.422518 \nL 607.003411 414.251089 \nL 559.174839 414.251089 \nL 559.174839 375.422518 \n\" style=\"fill:#7396f5;stroke:#ffffff;stroke-width:0.5;\"/>\n    <path clip-path=\"url(#pc83dab53b2)\" d=\"M 607.003411 375.422518 \nL 654.831982 375.422518 \nL 654.831982 414.251089 \nL 607.003411 414.251089 \nL 607.003411 375.422518 \n\" style=\"fill:#85a8fc;stroke:#ffffff;stroke-width:0.5;\"/>\n    <path clip-path=\"url(#pc83dab53b2)\" d=\"M 654.831982 375.422518 \nL 702.660554 375.422518 \nL 702.660554 414.251089 \nL 654.831982 414.251089 \nL 654.831982 375.422518 \n\" style=\"fill:#f5c2aa;stroke:#ffffff;stroke-width:0.5;\"/>\n    <path clip-path=\"url(#pc83dab53b2)\" d=\"M 702.660554 375.422518 \nL 750.489125 375.422518 \nL 750.489125 414.251089 \nL 702.660554 414.251089 \nL 702.660554 375.422518 \n\" style=\"fill:#d2dbe8;stroke:#ffffff;stroke-width:0.5;\"/>\n    <path clip-path=\"url(#pc83dab53b2)\" d=\"M 80.889125 414.251089 \nL 128.717696 414.251089 \nL 128.717696 453.079661 \nL 80.889125 453.079661 \nL 80.889125 414.251089 \n\" style=\"fill:#d2dbe8;stroke:#ffffff;stroke-width:0.5;\"/>\n    <path clip-path=\"url(#pc83dab53b2)\" d=\"M 128.717696 414.251089 \nL 176.546268 414.251089 \nL 176.546268 453.079661 \nL 128.717696 453.079661 \nL 128.717696 414.251089 \n\" style=\"fill:#6c8ff1;stroke:#ffffff;stroke-width:0.5;\"/>\n    <path clip-path=\"url(#pc83dab53b2)\" d=\"M 176.546268 414.251089 \nL 224.374839 414.251089 \nL 224.374839 453.079661 \nL 176.546268 453.079661 \nL 176.546268 414.251089 \n\" style=\"fill:#d2dbe8;stroke:#ffffff;stroke-width:0.5;\"/>\n    <path clip-path=\"url(#pc83dab53b2)\" d=\"M 224.374839 414.251089 \nL 272.203411 414.251089 \nL 272.203411 453.079661 \nL 224.374839 453.079661 \nL 224.374839 414.251089 \n\" style=\"fill:#d2dbe8;stroke:#ffffff;stroke-width:0.5;\"/>\n    <path clip-path=\"url(#pc83dab53b2)\" d=\"M 272.203411 414.251089 \nL 320.031982 414.251089 \nL 320.031982 453.079661 \nL 272.203411 453.079661 \nL 272.203411 414.251089 \n\" style=\"fill:#d2dbe8;stroke:#ffffff;stroke-width:0.5;\"/>\n    <path clip-path=\"url(#pc83dab53b2)\" d=\"M 320.031982 414.251089 \nL 367.860554 414.251089 \nL 367.860554 453.079661 \nL 320.031982 453.079661 \nL 320.031982 414.251089 \n\" style=\"fill:#f7af91;stroke:#ffffff;stroke-width:0.5;\"/>\n    <path clip-path=\"url(#pc83dab53b2)\" d=\"M 367.860554 414.251089 \nL 415.689125 414.251089 \nL 415.689125 453.079661 \nL 367.860554 453.079661 \nL 367.860554 414.251089 \n\" style=\"fill:#f4987a;stroke:#ffffff;stroke-width:0.5;\"/>\n    <path clip-path=\"url(#pc83dab53b2)\" d=\"M 415.689125 414.251089 \nL 463.517696 414.251089 \nL 463.517696 453.079661 \nL 415.689125 453.079661 \nL 415.689125 414.251089 \n\" style=\"fill:#d2dbe8;stroke:#ffffff;stroke-width:0.5;\"/>\n    <path clip-path=\"url(#pc83dab53b2)\" d=\"M 463.517696 414.251089 \nL 511.346268 414.251089 \nL 511.346268 453.079661 \nL 463.517696 453.079661 \nL 463.517696 414.251089 \n\" style=\"fill:#f4c5ad;stroke:#ffffff;stroke-width:0.5;\"/>\n    <path clip-path=\"url(#pc83dab53b2)\" d=\"M 511.346268 414.251089 \nL 559.174839 414.251089 \nL 559.174839 453.079661 \nL 511.346268 453.079661 \nL 511.346268 414.251089 \n\" style=\"fill:#7396f5;stroke:#ffffff;stroke-width:0.5;\"/>\n    <path clip-path=\"url(#pc83dab53b2)\" d=\"M 559.174839 414.251089 \nL 607.003411 414.251089 \nL 607.003411 453.079661 \nL 559.174839 453.079661 \nL 559.174839 414.251089 \n\" style=\"fill:#b40426;stroke:#ffffff;stroke-width:0.5;\"/>\n    <path clip-path=\"url(#pc83dab53b2)\" d=\"M 607.003411 414.251089 \nL 654.831982 414.251089 \nL 654.831982 453.079661 \nL 607.003411 453.079661 \nL 607.003411 414.251089 \n\" style=\"fill:#f29274;stroke:#ffffff;stroke-width:0.5;\"/>\n    <path clip-path=\"url(#pc83dab53b2)\" d=\"M 654.831982 414.251089 \nL 702.660554 414.251089 \nL 702.660554 453.079661 \nL 654.831982 453.079661 \nL 654.831982 414.251089 \n\" style=\"fill:#d2dbe8;stroke:#ffffff;stroke-width:0.5;\"/>\n    <path clip-path=\"url(#pc83dab53b2)\" d=\"M 702.660554 414.251089 \nL 750.489125 414.251089 \nL 750.489125 453.079661 \nL 702.660554 453.079661 \nL 702.660554 414.251089 \n\" style=\"fill:#6180e9;stroke:#ffffff;stroke-width:0.5;\"/>\n    <path clip-path=\"url(#pc83dab53b2)\" d=\"M 80.889125 453.079661 \nL 128.717696 453.079661 \nL 128.717696 491.908232 \nL 80.889125 491.908232 \nL 80.889125 453.079661 \n\" style=\"fill:#d2dbe8;stroke:#ffffff;stroke-width:0.5;\"/>\n    <path clip-path=\"url(#pc83dab53b2)\" d=\"M 128.717696 453.079661 \nL 176.546268 453.079661 \nL 176.546268 491.908232 \nL 128.717696 491.908232 \nL 128.717696 453.079661 \n\" style=\"fill:#90b2fe;stroke:#ffffff;stroke-width:0.5;\"/>\n    <path clip-path=\"url(#pc83dab53b2)\" d=\"M 176.546268 453.079661 \nL 224.374839 453.079661 \nL 224.374839 491.908232 \nL 176.546268 491.908232 \nL 176.546268 453.079661 \n\" style=\"fill:#d2dbe8;stroke:#ffffff;stroke-width:0.5;\"/>\n    <path clip-path=\"url(#pc83dab53b2)\" d=\"M 224.374839 453.079661 \nL 272.203411 453.079661 \nL 272.203411 491.908232 \nL 224.374839 491.908232 \nL 224.374839 453.079661 \n\" style=\"fill:#d2dbe8;stroke:#ffffff;stroke-width:0.5;\"/>\n    <path clip-path=\"url(#pc83dab53b2)\" d=\"M 272.203411 453.079661 \nL 320.031982 453.079661 \nL 320.031982 491.908232 \nL 272.203411 491.908232 \nL 272.203411 453.079661 \n\" style=\"fill:#d2dbe8;stroke:#ffffff;stroke-width:0.5;\"/>\n    <path clip-path=\"url(#pc83dab53b2)\" d=\"M 320.031982 453.079661 \nL 367.860554 453.079661 \nL 367.860554 491.908232 \nL 320.031982 491.908232 \nL 320.031982 453.079661 \n\" style=\"fill:#e67259;stroke:#ffffff;stroke-width:0.5;\"/>\n    <path clip-path=\"url(#pc83dab53b2)\" d=\"M 367.860554 453.079661 \nL 415.689125 453.079661 \nL 415.689125 491.908232 \nL 367.860554 491.908232 \nL 367.860554 453.079661 \n\" style=\"fill:#da5a49;stroke:#ffffff;stroke-width:0.5;\"/>\n    <path clip-path=\"url(#pc83dab53b2)\" d=\"M 415.689125 453.079661 \nL 463.517696 453.079661 \nL 463.517696 491.908232 \nL 415.689125 491.908232 \nL 415.689125 453.079661 \n\" style=\"fill:#779af7;stroke:#ffffff;stroke-width:0.5;\"/>\n    <path clip-path=\"url(#pc83dab53b2)\" d=\"M 463.517696 453.079661 \nL 511.346268 453.079661 \nL 511.346268 491.908232 \nL 463.517696 491.908232 \nL 463.517696 453.079661 \n\" style=\"fill:#f59d7e;stroke:#ffffff;stroke-width:0.5;\"/>\n    <path clip-path=\"url(#pc83dab53b2)\" d=\"M 511.346268 453.079661 \nL 559.174839 453.079661 \nL 559.174839 491.908232 \nL 511.346268 491.908232 \nL 511.346268 453.079661 \n\" style=\"fill:#85a8fc;stroke:#ffffff;stroke-width:0.5;\"/>\n    <path clip-path=\"url(#pc83dab53b2)\" d=\"M 559.174839 453.079661 \nL 607.003411 453.079661 \nL 607.003411 491.908232 \nL 559.174839 491.908232 \nL 559.174839 453.079661 \n\" style=\"fill:#f29274;stroke:#ffffff;stroke-width:0.5;\"/>\n    <path clip-path=\"url(#pc83dab53b2)\" d=\"M 607.003411 453.079661 \nL 654.831982 453.079661 \nL 654.831982 491.908232 \nL 607.003411 491.908232 \nL 607.003411 453.079661 \n\" style=\"fill:#b40426;stroke:#ffffff;stroke-width:0.5;\"/>\n    <path clip-path=\"url(#pc83dab53b2)\" d=\"M 654.831982 453.079661 \nL 702.660554 453.079661 \nL 702.660554 491.908232 \nL 654.831982 491.908232 \nL 654.831982 453.079661 \n\" style=\"fill:#f5c4ac;stroke:#ffffff;stroke-width:0.5;\"/>\n    <path clip-path=\"url(#pc83dab53b2)\" d=\"M 702.660554 453.079661 \nL 750.489125 453.079661 \nL 750.489125 491.908232 \nL 702.660554 491.908232 \nL 702.660554 453.079661 \n\" style=\"fill:#445acc;stroke:#ffffff;stroke-width:0.5;\"/>\n    <path clip-path=\"url(#pc83dab53b2)\" d=\"M 80.889125 491.908232 \nL 128.717696 491.908232 \nL 128.717696 530.736804 \nL 80.889125 530.736804 \nL 80.889125 491.908232 \n\" style=\"fill:#ec8165;stroke:#ffffff;stroke-width:0.5;\"/>\n    <path clip-path=\"url(#pc83dab53b2)\" d=\"M 128.717696 491.908232 \nL 176.546268 491.908232 \nL 176.546268 530.736804 \nL 128.717696 530.736804 \nL 128.717696 491.908232 \n\" style=\"fill:#d2dbe8;stroke:#ffffff;stroke-width:0.5;\"/>\n    <path clip-path=\"url(#pc83dab53b2)\" d=\"M 176.546268 491.908232 \nL 224.374839 491.908232 \nL 224.374839 530.736804 \nL 176.546268 530.736804 \nL 176.546268 491.908232 \n\" style=\"fill:#d2dbe8;stroke:#ffffff;stroke-width:0.5;\"/>\n    <path clip-path=\"url(#pc83dab53b2)\" d=\"M 224.374839 491.908232 \nL 272.203411 491.908232 \nL 272.203411 530.736804 \nL 224.374839 530.736804 \nL 224.374839 491.908232 \n\" style=\"fill:#82a6fb;stroke:#ffffff;stroke-width:0.5;\"/>\n    <path clip-path=\"url(#pc83dab53b2)\" d=\"M 272.203411 491.908232 \nL 320.031982 491.908232 \nL 320.031982 530.736804 \nL 272.203411 530.736804 \nL 272.203411 491.908232 \n\" style=\"fill:#f7b79b;stroke:#ffffff;stroke-width:0.5;\"/>\n    <path clip-path=\"url(#pc83dab53b2)\" d=\"M 320.031982 491.908232 \nL 367.860554 491.908232 \nL 367.860554 530.736804 \nL 320.031982 530.736804 \nL 320.031982 491.908232 \n\" style=\"fill:#f6a283;stroke:#ffffff;stroke-width:0.5;\"/>\n    <path clip-path=\"url(#pc83dab53b2)\" d=\"M 367.860554 491.908232 \nL 415.689125 491.908232 \nL 415.689125 530.736804 \nL 367.860554 530.736804 \nL 367.860554 491.908232 \n\" style=\"fill:#f6a385;stroke:#ffffff;stroke-width:0.5;\"/>\n    <path clip-path=\"url(#pc83dab53b2)\" d=\"M 415.689125 491.908232 \nL 463.517696 491.908232 \nL 463.517696 530.736804 \nL 415.689125 530.736804 \nL 415.689125 491.908232 \n\" style=\"fill:#9bbcff;stroke:#ffffff;stroke-width:0.5;\"/>\n    <path clip-path=\"url(#pc83dab53b2)\" d=\"M 463.517696 491.908232 \nL 511.346268 491.908232 \nL 511.346268 530.736804 \nL 463.517696 530.736804 \nL 463.517696 491.908232 \n\" style=\"fill:#f5c0a7;stroke:#ffffff;stroke-width:0.5;\"/>\n    <path clip-path=\"url(#pc83dab53b2)\" d=\"M 511.346268 491.908232 \nL 559.174839 491.908232 \nL 559.174839 530.736804 \nL 511.346268 530.736804 \nL 511.346268 491.908232 \n\" style=\"fill:#f5c2aa;stroke:#ffffff;stroke-width:0.5;\"/>\n    <path clip-path=\"url(#pc83dab53b2)\" d=\"M 559.174839 491.908232 \nL 607.003411 491.908232 \nL 607.003411 530.736804 \nL 559.174839 530.736804 \nL 559.174839 491.908232 \n\" style=\"fill:#d2dbe8;stroke:#ffffff;stroke-width:0.5;\"/>\n    <path clip-path=\"url(#pc83dab53b2)\" d=\"M 607.003411 491.908232 \nL 654.831982 491.908232 \nL 654.831982 530.736804 \nL 607.003411 530.736804 \nL 607.003411 491.908232 \n\" style=\"fill:#f5c4ac;stroke:#ffffff;stroke-width:0.5;\"/>\n    <path clip-path=\"url(#pc83dab53b2)\" d=\"M 654.831982 491.908232 \nL 702.660554 491.908232 \nL 702.660554 530.736804 \nL 654.831982 530.736804 \nL 654.831982 491.908232 \n\" style=\"fill:#b40426;stroke:#ffffff;stroke-width:0.5;\"/>\n    <path clip-path=\"url(#pc83dab53b2)\" d=\"M 702.660554 491.908232 \nL 750.489125 491.908232 \nL 750.489125 530.736804 \nL 702.660554 530.736804 \nL 702.660554 491.908232 \n\" style=\"fill:#5f7fe8;stroke:#ffffff;stroke-width:0.5;\"/>\n    <path clip-path=\"url(#pc83dab53b2)\" d=\"M 80.889125 530.736804 \nL 128.717696 530.736804 \nL 128.717696 569.565375 \nL 80.889125 569.565375 \nL 80.889125 530.736804 \n\" style=\"fill:#97b8ff;stroke:#ffffff;stroke-width:0.5;\"/>\n    <path clip-path=\"url(#pc83dab53b2)\" d=\"M 128.717696 530.736804 \nL 176.546268 530.736804 \nL 176.546268 569.565375 \nL 128.717696 569.565375 \nL 128.717696 530.736804 \n\" style=\"fill:#f7ad90;stroke:#ffffff;stroke-width:0.5;\"/>\n    <path clip-path=\"url(#pc83dab53b2)\" d=\"M 176.546268 530.736804 \nL 224.374839 530.736804 \nL 224.374839 569.565375 \nL 176.546268 569.565375 \nL 176.546268 530.736804 \n\" style=\"fill:#d2dbe8;stroke:#ffffff;stroke-width:0.5;\"/>\n    <path clip-path=\"url(#pc83dab53b2)\" d=\"M 224.374839 530.736804 \nL 272.203411 530.736804 \nL 272.203411 569.565375 \nL 224.374839 569.565375 \nL 224.374839 530.736804 \n\" style=\"fill:#f59d7e;stroke:#ffffff;stroke-width:0.5;\"/>\n    <path clip-path=\"url(#pc83dab53b2)\" d=\"M 272.203411 530.736804 \nL 320.031982 530.736804 \nL 320.031982 569.565375 \nL 272.203411 569.565375 \nL 272.203411 530.736804 \n\" style=\"fill:#d2dbe8;stroke:#ffffff;stroke-width:0.5;\"/>\n    <path clip-path=\"url(#pc83dab53b2)\" d=\"M 320.031982 530.736804 \nL 367.860554 530.736804 \nL 367.860554 569.565375 \nL 320.031982 569.565375 \nL 320.031982 530.736804 \n\" style=\"fill:#4f69d9;stroke:#ffffff;stroke-width:0.5;\"/>\n    <path clip-path=\"url(#pc83dab53b2)\" d=\"M 367.860554 530.736804 \nL 415.689125 530.736804 \nL 415.689125 569.565375 \nL 367.860554 569.565375 \nL 367.860554 530.736804 \n\" style=\"fill:#3b4cc0;stroke:#ffffff;stroke-width:0.5;\"/>\n    <path clip-path=\"url(#pc83dab53b2)\" d=\"M 415.689125 530.736804 \nL 463.517696 530.736804 \nL 463.517696 569.565375 \nL 415.689125 569.565375 \nL 415.689125 530.736804 \n\" style=\"fill:#f6a385;stroke:#ffffff;stroke-width:0.5;\"/>\n    <path clip-path=\"url(#pc83dab53b2)\" d=\"M 463.517696 530.736804 \nL 511.346268 530.736804 \nL 511.346268 569.565375 \nL 463.517696 569.565375 \nL 463.517696 530.736804 \n\" style=\"fill:#779af7;stroke:#ffffff;stroke-width:0.5;\"/>\n    <path clip-path=\"url(#pc83dab53b2)\" d=\"M 511.346268 530.736804 \nL 559.174839 530.736804 \nL 559.174839 569.565375 \nL 511.346268 569.565375 \nL 511.346268 530.736804 \n\" style=\"fill:#d2dbe8;stroke:#ffffff;stroke-width:0.5;\"/>\n    <path clip-path=\"url(#pc83dab53b2)\" d=\"M 559.174839 530.736804 \nL 607.003411 530.736804 \nL 607.003411 569.565375 \nL 559.174839 569.565375 \nL 559.174839 530.736804 \n\" style=\"fill:#6180e9;stroke:#ffffff;stroke-width:0.5;\"/>\n    <path clip-path=\"url(#pc83dab53b2)\" d=\"M 607.003411 530.736804 \nL 654.831982 530.736804 \nL 654.831982 569.565375 \nL 607.003411 569.565375 \nL 607.003411 530.736804 \n\" style=\"fill:#445acc;stroke:#ffffff;stroke-width:0.5;\"/>\n    <path clip-path=\"url(#pc83dab53b2)\" d=\"M 654.831982 530.736804 \nL 702.660554 530.736804 \nL 702.660554 569.565375 \nL 654.831982 569.565375 \nL 654.831982 530.736804 \n\" style=\"fill:#5f7fe8;stroke:#ffffff;stroke-width:0.5;\"/>\n    <path clip-path=\"url(#pc83dab53b2)\" d=\"M 702.660554 530.736804 \nL 750.489125 530.736804 \nL 750.489125 569.565375 \nL 702.660554 569.565375 \nL 702.660554 530.736804 \n\" style=\"fill:#b40426;stroke:#ffffff;stroke-width:0.5;\"/>\n   </g>\n   <g id=\"text_29\">\n    <!-- 1 -->\n    <defs>\n     <path d=\"M 12.40625 8.296875 \nL 28.515625 8.296875 \nL 28.515625 63.921875 \nL 10.984375 60.40625 \nL 10.984375 69.390625 \nL 28.421875 72.90625 \nL 38.28125 72.90625 \nL 38.28125 8.296875 \nL 54.390625 8.296875 \nL 54.390625 0 \nL 12.40625 0 \nz\n\" id=\"DejaVuSans-49\"/>\n    </defs>\n    <g style=\"fill:#ffffff;\" transform=\"translate(99.458911 50.015411)scale(0.168 -0.168)\">\n     <use xlink:href=\"#DejaVuSans-49\"/>\n    </g>\n   </g>\n   <g id=\"text_30\">\n    <!-- 0 -->\n    <defs>\n     <path d=\"M 31.78125 66.40625 \nQ 24.171875 66.40625 20.328125 58.90625 \nQ 16.5 51.421875 16.5 36.375 \nQ 16.5 21.390625 20.328125 13.890625 \nQ 24.171875 6.390625 31.78125 6.390625 \nQ 39.453125 6.390625 43.28125 13.890625 \nQ 47.125 21.390625 47.125 36.375 \nQ 47.125 51.421875 43.28125 58.90625 \nQ 39.453125 66.40625 31.78125 66.40625 \nz\nM 31.78125 74.21875 \nQ 44.046875 74.21875 50.515625 64.515625 \nQ 56.984375 54.828125 56.984375 36.375 \nQ 56.984375 17.96875 50.515625 8.265625 \nQ 44.046875 -1.421875 31.78125 -1.421875 \nQ 19.53125 -1.421875 13.0625 8.265625 \nQ 6.59375 17.96875 6.59375 36.375 \nQ 6.59375 54.828125 13.0625 64.515625 \nQ 19.53125 74.21875 31.78125 74.21875 \nz\n\" id=\"DejaVuSans-48\"/>\n    </defs>\n    <g style=\"fill:#262626;\" transform=\"translate(147.287482 50.015411)scale(0.168 -0.168)\">\n     <use xlink:href=\"#DejaVuSans-48\"/>\n    </g>\n   </g>\n   <g id=\"text_31\">\n    <!-- 0 -->\n    <g style=\"fill:#262626;\" transform=\"translate(195.116054 50.015411)scale(0.168 -0.168)\">\n     <use xlink:href=\"#DejaVuSans-48\"/>\n    </g>\n   </g>\n   <g id=\"text_32\">\n    <!-- -0.31 -->\n    <defs>\n     <path d=\"M 4.890625 31.390625 \nL 31.203125 31.390625 \nL 31.203125 23.390625 \nL 4.890625 23.390625 \nz\n\" id=\"DejaVuSans-45\"/>\n     <path d=\"M 10.6875 12.40625 \nL 21 12.40625 \nL 21 0 \nL 10.6875 0 \nz\n\" id=\"DejaVuSans-46\"/>\n     <path d=\"M 40.578125 39.3125 \nQ 47.65625 37.796875 51.625 33 \nQ 55.609375 28.21875 55.609375 21.1875 \nQ 55.609375 10.40625 48.1875 4.484375 \nQ 40.765625 -1.421875 27.09375 -1.421875 \nQ 22.515625 -1.421875 17.65625 -0.515625 \nQ 12.796875 0.390625 7.625 2.203125 \nL 7.625 11.71875 \nQ 11.71875 9.328125 16.59375 8.109375 \nQ 21.484375 6.890625 26.8125 6.890625 \nQ 36.078125 6.890625 40.9375 10.546875 \nQ 45.796875 14.203125 45.796875 21.1875 \nQ 45.796875 27.640625 41.28125 31.265625 \nQ 36.765625 34.90625 28.71875 34.90625 \nL 20.21875 34.90625 \nL 20.21875 43.015625 \nL 29.109375 43.015625 \nQ 36.375 43.015625 40.234375 45.921875 \nQ 44.09375 48.828125 44.09375 54.296875 \nQ 44.09375 59.90625 40.109375 62.90625 \nQ 36.140625 65.921875 28.71875 65.921875 \nQ 24.65625 65.921875 20.015625 65.03125 \nQ 15.375 64.15625 9.8125 62.3125 \nL 9.8125 71.09375 \nQ 15.4375 72.65625 20.34375 73.4375 \nQ 25.25 74.21875 29.59375 74.21875 \nQ 40.828125 74.21875 47.359375 69.109375 \nQ 53.90625 64.015625 53.90625 55.328125 \nQ 53.90625 49.265625 50.4375 45.09375 \nQ 46.96875 40.921875 40.578125 39.3125 \nz\n\" id=\"DejaVuSans-51\"/>\n    </defs>\n    <g style=\"fill:#262626;\" transform=\"translate(226.555438 50.015411)scale(0.168 -0.168)\">\n     <use xlink:href=\"#DejaVuSans-45\"/>\n     <use x=\"36.083984\" xlink:href=\"#DejaVuSans-48\"/>\n     <use x=\"99.707031\" xlink:href=\"#DejaVuSans-46\"/>\n     <use x=\"131.494141\" xlink:href=\"#DejaVuSans-51\"/>\n     <use x=\"195.117188\" xlink:href=\"#DejaVuSans-49\"/>\n    </g>\n   </g>\n   <g id=\"text_33\">\n    <!-- 0 -->\n    <g style=\"fill:#262626;\" transform=\"translate(290.773196 50.015411)scale(0.168 -0.168)\">\n     <use xlink:href=\"#DejaVuSans-48\"/>\n    </g>\n   </g>\n   <g id=\"text_34\">\n    <!-- 0 -->\n    <g style=\"fill:#262626;\" transform=\"translate(338.601768 50.015411)scale(0.168 -0.168)\">\n     <use xlink:href=\"#DejaVuSans-48\"/>\n    </g>\n   </g>\n   <g id=\"text_35\">\n    <!-- 0 -->\n    <g style=\"fill:#262626;\" transform=\"translate(386.430339 50.015411)scale(0.168 -0.168)\">\n     <use xlink:href=\"#DejaVuSans-48\"/>\n    </g>\n   </g>\n   <g id=\"text_36\">\n    <!-- 0 -->\n    <g style=\"fill:#262626;\" transform=\"translate(434.258911 50.015411)scale(0.168 -0.168)\">\n     <use xlink:href=\"#DejaVuSans-48\"/>\n    </g>\n   </g>\n   <g id=\"text_37\">\n    <!-- 0 -->\n    <g style=\"fill:#262626;\" transform=\"translate(482.087482 50.015411)scale(0.168 -0.168)\">\n     <use xlink:href=\"#DejaVuSans-48\"/>\n    </g>\n   </g>\n   <g id=\"text_38\">\n    <!-- 0.55 -->\n    <defs>\n     <path d=\"M 10.796875 72.90625 \nL 49.515625 72.90625 \nL 49.515625 64.59375 \nL 19.828125 64.59375 \nL 19.828125 46.734375 \nQ 21.96875 47.46875 24.109375 47.828125 \nQ 26.265625 48.1875 28.421875 48.1875 \nQ 40.625 48.1875 47.75 41.5 \nQ 54.890625 34.8125 54.890625 23.390625 \nQ 54.890625 11.625 47.5625 5.09375 \nQ 40.234375 -1.421875 26.90625 -1.421875 \nQ 22.3125 -1.421875 17.546875 -0.640625 \nQ 12.796875 0.140625 7.71875 1.703125 \nL 7.71875 11.625 \nQ 12.109375 9.234375 16.796875 8.0625 \nQ 21.484375 6.890625 26.703125 6.890625 \nQ 35.15625 6.890625 40.078125 11.328125 \nQ 45.015625 15.765625 45.015625 23.390625 \nQ 45.015625 31 40.078125 35.4375 \nQ 35.15625 39.890625 26.703125 39.890625 \nQ 22.75 39.890625 18.8125 39.015625 \nQ 14.890625 38.140625 10.796875 36.28125 \nz\n\" id=\"DejaVuSans-53\"/>\n    </defs>\n    <g style=\"fill:#262626;\" transform=\"translate(516.557429 50.015411)scale(0.168 -0.168)\">\n     <use xlink:href=\"#DejaVuSans-48\"/>\n     <use x=\"63.623047\" xlink:href=\"#DejaVuSans-46\"/>\n     <use x=\"95.410156\" xlink:href=\"#DejaVuSans-53\"/>\n     <use x=\"159.033203\" xlink:href=\"#DejaVuSans-53\"/>\n    </g>\n   </g>\n   <g id=\"text_39\">\n    <!-- 0 -->\n    <g style=\"fill:#262626;\" transform=\"translate(577.744625 50.015411)scale(0.168 -0.168)\">\n     <use xlink:href=\"#DejaVuSans-48\"/>\n    </g>\n   </g>\n   <g id=\"text_40\">\n    <!-- 0 -->\n    <g style=\"fill:#262626;\" transform=\"translate(625.573196 50.015411)scale(0.168 -0.168)\">\n     <use xlink:href=\"#DejaVuSans-48\"/>\n    </g>\n   </g>\n   <g id=\"text_41\">\n    <!-- 0.64 -->\n    <defs>\n     <path d=\"M 33.015625 40.375 \nQ 26.375 40.375 22.484375 35.828125 \nQ 18.609375 31.296875 18.609375 23.390625 \nQ 18.609375 15.53125 22.484375 10.953125 \nQ 26.375 6.390625 33.015625 6.390625 \nQ 39.65625 6.390625 43.53125 10.953125 \nQ 47.40625 15.53125 47.40625 23.390625 \nQ 47.40625 31.296875 43.53125 35.828125 \nQ 39.65625 40.375 33.015625 40.375 \nz\nM 52.59375 71.296875 \nL 52.59375 62.3125 \nQ 48.875 64.0625 45.09375 64.984375 \nQ 41.3125 65.921875 37.59375 65.921875 \nQ 27.828125 65.921875 22.671875 59.328125 \nQ 17.53125 52.734375 16.796875 39.40625 \nQ 19.671875 43.65625 24.015625 45.921875 \nQ 28.375 48.1875 33.59375 48.1875 \nQ 44.578125 48.1875 50.953125 41.515625 \nQ 57.328125 34.859375 57.328125 23.390625 \nQ 57.328125 12.15625 50.6875 5.359375 \nQ 44.046875 -1.421875 33.015625 -1.421875 \nQ 20.359375 -1.421875 13.671875 8.265625 \nQ 6.984375 17.96875 6.984375 36.375 \nQ 6.984375 53.65625 15.1875 63.9375 \nQ 23.390625 74.21875 37.203125 74.21875 \nQ 40.921875 74.21875 44.703125 73.484375 \nQ 48.484375 72.75 52.59375 71.296875 \nz\n\" id=\"DejaVuSans-54\"/>\n     <path d=\"M 37.796875 64.3125 \nL 12.890625 25.390625 \nL 37.796875 25.390625 \nz\nM 35.203125 72.90625 \nL 47.609375 72.90625 \nL 47.609375 25.390625 \nL 58.015625 25.390625 \nL 58.015625 17.1875 \nL 47.609375 17.1875 \nL 47.609375 0 \nL 37.796875 0 \nL 37.796875 17.1875 \nL 4.890625 17.1875 \nL 4.890625 26.703125 \nz\n\" id=\"DejaVuSans-52\"/>\n    </defs>\n    <g style=\"fill:#ffffff;\" transform=\"translate(660.043143 50.015411)scale(0.168 -0.168)\">\n     <use xlink:href=\"#DejaVuSans-48\"/>\n     <use x=\"63.623047\" xlink:href=\"#DejaVuSans-46\"/>\n     <use x=\"95.410156\" xlink:href=\"#DejaVuSans-54\"/>\n     <use x=\"159.033203\" xlink:href=\"#DejaVuSans-52\"/>\n    </g>\n   </g>\n   <g id=\"text_42\">\n    <!-- -0.33 -->\n    <g style=\"fill:#262626;\" transform=\"translate(704.841152 50.015411)scale(0.168 -0.168)\">\n     <use xlink:href=\"#DejaVuSans-45\"/>\n     <use x=\"36.083984\" xlink:href=\"#DejaVuSans-48\"/>\n     <use x=\"99.707031\" xlink:href=\"#DejaVuSans-46\"/>\n     <use x=\"131.494141\" xlink:href=\"#DejaVuSans-51\"/>\n     <use x=\"195.117188\" xlink:href=\"#DejaVuSans-51\"/>\n    </g>\n   </g>\n   <g id=\"text_43\">\n    <!-- 0 -->\n    <g style=\"fill:#262626;\" transform=\"translate(99.458911 88.843982)scale(0.168 -0.168)\">\n     <use xlink:href=\"#DejaVuSans-48\"/>\n    </g>\n   </g>\n   <g id=\"text_44\">\n    <!-- 1 -->\n    <g style=\"fill:#ffffff;\" transform=\"translate(147.287482 88.843982)scale(0.168 -0.168)\">\n     <use xlink:href=\"#DejaVuSans-49\"/>\n    </g>\n   </g>\n   <g id=\"text_45\">\n    <!-- 0 -->\n    <g style=\"fill:#262626;\" transform=\"translate(195.116054 88.843982)scale(0.168 -0.168)\">\n     <use xlink:href=\"#DejaVuSans-48\"/>\n    </g>\n   </g>\n   <g id=\"text_46\">\n    <!-- 0 -->\n    <g style=\"fill:#262626;\" transform=\"translate(242.944625 88.843982)scale(0.168 -0.168)\">\n     <use xlink:href=\"#DejaVuSans-48\"/>\n    </g>\n   </g>\n   <g id=\"text_47\">\n    <!-- 0 -->\n    <g style=\"fill:#262626;\" transform=\"translate(290.773196 88.843982)scale(0.168 -0.168)\">\n     <use xlink:href=\"#DejaVuSans-48\"/>\n    </g>\n   </g>\n   <g id=\"text_48\">\n    <!-- -0.34 -->\n    <g style=\"fill:#262626;\" transform=\"translate(322.21258 88.843982)scale(0.168 -0.168)\">\n     <use xlink:href=\"#DejaVuSans-45\"/>\n     <use x=\"36.083984\" xlink:href=\"#DejaVuSans-48\"/>\n     <use x=\"99.707031\" xlink:href=\"#DejaVuSans-46\"/>\n     <use x=\"131.494141\" xlink:href=\"#DejaVuSans-51\"/>\n     <use x=\"195.117188\" xlink:href=\"#DejaVuSans-52\"/>\n    </g>\n   </g>\n   <g id=\"text_49\">\n    <!-- -0.41 -->\n    <g style=\"fill:#262626;\" transform=\"translate(370.041152 88.843982)scale(0.168 -0.168)\">\n     <use xlink:href=\"#DejaVuSans-45\"/>\n     <use x=\"36.083984\" xlink:href=\"#DejaVuSans-48\"/>\n     <use x=\"99.707031\" xlink:href=\"#DejaVuSans-46\"/>\n     <use x=\"131.494141\" xlink:href=\"#DejaVuSans-52\"/>\n     <use x=\"195.117188\" xlink:href=\"#DejaVuSans-49\"/>\n    </g>\n   </g>\n   <g id=\"text_50\">\n    <!-- 0 -->\n    <g style=\"fill:#262626;\" transform=\"translate(434.258911 88.843982)scale(0.168 -0.168)\">\n     <use xlink:href=\"#DejaVuSans-48\"/>\n    </g>\n   </g>\n   <g id=\"text_51\">\n    <!-- 0 -->\n    <g style=\"fill:#262626;\" transform=\"translate(482.087482 88.843982)scale(0.168 -0.168)\">\n     <use xlink:href=\"#DejaVuSans-48\"/>\n    </g>\n   </g>\n   <g id=\"text_52\">\n    <!-- 0 -->\n    <g style=\"fill:#262626;\" transform=\"translate(529.916054 88.843982)scale(0.168 -0.168)\">\n     <use xlink:href=\"#DejaVuSans-48\"/>\n    </g>\n   </g>\n   <g id=\"text_53\">\n    <!-- -0.56 -->\n    <g style=\"fill:#ffffff;\" transform=\"translate(561.355438 88.843982)scale(0.168 -0.168)\">\n     <use xlink:href=\"#DejaVuSans-45\"/>\n     <use x=\"36.083984\" xlink:href=\"#DejaVuSans-48\"/>\n     <use x=\"99.707031\" xlink:href=\"#DejaVuSans-46\"/>\n     <use x=\"131.494141\" xlink:href=\"#DejaVuSans-53\"/>\n     <use x=\"195.117188\" xlink:href=\"#DejaVuSans-54\"/>\n    </g>\n   </g>\n   <g id=\"text_54\">\n    <!-- -0.37 -->\n    <defs>\n     <path d=\"M 8.203125 72.90625 \nL 55.078125 72.90625 \nL 55.078125 68.703125 \nL 28.609375 0 \nL 18.3125 0 \nL 43.21875 64.59375 \nL 8.203125 64.59375 \nz\n\" id=\"DejaVuSans-55\"/>\n    </defs>\n    <g style=\"fill:#262626;\" transform=\"translate(609.184009 88.843982)scale(0.168 -0.168)\">\n     <use xlink:href=\"#DejaVuSans-45\"/>\n     <use x=\"36.083984\" xlink:href=\"#DejaVuSans-48\"/>\n     <use x=\"99.707031\" xlink:href=\"#DejaVuSans-46\"/>\n     <use x=\"131.494141\" xlink:href=\"#DejaVuSans-51\"/>\n     <use x=\"195.117188\" xlink:href=\"#DejaVuSans-55\"/>\n    </g>\n   </g>\n   <g id=\"text_55\">\n    <!-- 0 -->\n    <g style=\"fill:#262626;\" transform=\"translate(673.401768 88.843982)scale(0.168 -0.168)\">\n     <use xlink:href=\"#DejaVuSans-48\"/>\n    </g>\n   </g>\n   <g id=\"text_56\">\n    <!-- 0.44 -->\n    <g style=\"fill:#262626;\" transform=\"translate(707.871714 88.843982)scale(0.168 -0.168)\">\n     <use xlink:href=\"#DejaVuSans-48\"/>\n     <use x=\"63.623047\" xlink:href=\"#DejaVuSans-46\"/>\n     <use x=\"95.410156\" xlink:href=\"#DejaVuSans-52\"/>\n     <use x=\"159.033203\" xlink:href=\"#DejaVuSans-52\"/>\n    </g>\n   </g>\n   <g id=\"text_57\">\n    <!-- 0 -->\n    <g style=\"fill:#262626;\" transform=\"translate(99.458911 127.672554)scale(0.168 -0.168)\">\n     <use xlink:href=\"#DejaVuSans-48\"/>\n    </g>\n   </g>\n   <g id=\"text_58\">\n    <!-- 0 -->\n    <g style=\"fill:#262626;\" transform=\"translate(147.287482 127.672554)scale(0.168 -0.168)\">\n     <use xlink:href=\"#DejaVuSans-48\"/>\n    </g>\n   </g>\n   <g id=\"text_59\">\n    <!-- 1 -->\n    <g style=\"fill:#ffffff;\" transform=\"translate(195.116054 127.672554)scale(0.168 -0.168)\">\n     <use xlink:href=\"#DejaVuSans-49\"/>\n    </g>\n   </g>\n   <g id=\"text_60\">\n    <!-- 0.44 -->\n    <g style=\"fill:#262626;\" transform=\"translate(229.586 127.672554)scale(0.168 -0.168)\">\n     <use xlink:href=\"#DejaVuSans-48\"/>\n     <use x=\"63.623047\" xlink:href=\"#DejaVuSans-46\"/>\n     <use x=\"95.410156\" xlink:href=\"#DejaVuSans-52\"/>\n     <use x=\"159.033203\" xlink:href=\"#DejaVuSans-52\"/>\n    </g>\n   </g>\n   <g id=\"text_61\">\n    <!-- 0 -->\n    <g style=\"fill:#262626;\" transform=\"translate(290.773196 127.672554)scale(0.168 -0.168)\">\n     <use xlink:href=\"#DejaVuSans-48\"/>\n    </g>\n   </g>\n   <g id=\"text_62\">\n    <!-- 0 -->\n    <g style=\"fill:#262626;\" transform=\"translate(338.601768 127.672554)scale(0.168 -0.168)\">\n     <use xlink:href=\"#DejaVuSans-48\"/>\n    </g>\n   </g>\n   <g id=\"text_63\">\n    <!-- 0 -->\n    <g style=\"fill:#262626;\" transform=\"translate(386.430339 127.672554)scale(0.168 -0.168)\">\n     <use xlink:href=\"#DejaVuSans-48\"/>\n    </g>\n   </g>\n   <g id=\"text_64\">\n    <!-- 0 -->\n    <g style=\"fill:#262626;\" transform=\"translate(434.258911 127.672554)scale(0.168 -0.168)\">\n     <use xlink:href=\"#DejaVuSans-48\"/>\n    </g>\n   </g>\n   <g id=\"text_65\">\n    <!-- 0 -->\n    <g style=\"fill:#262626;\" transform=\"translate(482.087482 127.672554)scale(0.168 -0.168)\">\n     <use xlink:href=\"#DejaVuSans-48\"/>\n    </g>\n   </g>\n   <g id=\"text_66\">\n    <!-- 0 -->\n    <g style=\"fill:#262626;\" transform=\"translate(529.916054 127.672554)scale(0.168 -0.168)\">\n     <use xlink:href=\"#DejaVuSans-48\"/>\n    </g>\n   </g>\n   <g id=\"text_67\">\n    <!-- 0 -->\n    <g style=\"fill:#262626;\" transform=\"translate(577.744625 127.672554)scale(0.168 -0.168)\">\n     <use xlink:href=\"#DejaVuSans-48\"/>\n    </g>\n   </g>\n   <g id=\"text_68\">\n    <!-- 0 -->\n    <g style=\"fill:#262626;\" transform=\"translate(625.573196 127.672554)scale(0.168 -0.168)\">\n     <use xlink:href=\"#DejaVuSans-48\"/>\n    </g>\n   </g>\n   <g id=\"text_69\">\n    <!-- 0 -->\n    <g style=\"fill:#262626;\" transform=\"translate(673.401768 127.672554)scale(0.168 -0.168)\">\n     <use xlink:href=\"#DejaVuSans-48\"/>\n    </g>\n   </g>\n   <g id=\"text_70\">\n    <!-- 0 -->\n    <g style=\"fill:#262626;\" transform=\"translate(721.230339 127.672554)scale(0.168 -0.168)\">\n     <use xlink:href=\"#DejaVuSans-48\"/>\n    </g>\n   </g>\n   <g id=\"text_71\">\n    <!-- -0.31 -->\n    <g style=\"fill:#262626;\" transform=\"translate(83.069723 166.501125)scale(0.168 -0.168)\">\n     <use xlink:href=\"#DejaVuSans-45\"/>\n     <use x=\"36.083984\" xlink:href=\"#DejaVuSans-48\"/>\n     <use x=\"99.707031\" xlink:href=\"#DejaVuSans-46\"/>\n     <use x=\"131.494141\" xlink:href=\"#DejaVuSans-51\"/>\n     <use x=\"195.117188\" xlink:href=\"#DejaVuSans-49\"/>\n    </g>\n   </g>\n   <g id=\"text_72\">\n    <!-- 0 -->\n    <g style=\"fill:#262626;\" transform=\"translate(147.287482 166.501125)scale(0.168 -0.168)\">\n     <use xlink:href=\"#DejaVuSans-48\"/>\n    </g>\n   </g>\n   <g id=\"text_73\">\n    <!-- 0.44 -->\n    <g style=\"fill:#262626;\" transform=\"translate(181.757429 166.501125)scale(0.168 -0.168)\">\n     <use xlink:href=\"#DejaVuSans-48\"/>\n     <use x=\"63.623047\" xlink:href=\"#DejaVuSans-46\"/>\n     <use x=\"95.410156\" xlink:href=\"#DejaVuSans-52\"/>\n     <use x=\"159.033203\" xlink:href=\"#DejaVuSans-52\"/>\n    </g>\n   </g>\n   <g id=\"text_74\">\n    <!-- 1 -->\n    <g style=\"fill:#ffffff;\" transform=\"translate(242.944625 166.501125)scale(0.168 -0.168)\">\n     <use xlink:href=\"#DejaVuSans-49\"/>\n    </g>\n   </g>\n   <g id=\"text_75\">\n    <!-- 0 -->\n    <g style=\"fill:#262626;\" transform=\"translate(290.773196 166.501125)scale(0.168 -0.168)\">\n     <use xlink:href=\"#DejaVuSans-48\"/>\n    </g>\n   </g>\n   <g id=\"text_76\">\n    <!-- -0.32 -->\n    <defs>\n     <path d=\"M 19.1875 8.296875 \nL 53.609375 8.296875 \nL 53.609375 0 \nL 7.328125 0 \nL 7.328125 8.296875 \nQ 12.9375 14.109375 22.625 23.890625 \nQ 32.328125 33.6875 34.8125 36.53125 \nQ 39.546875 41.84375 41.421875 45.53125 \nQ 43.3125 49.21875 43.3125 52.78125 \nQ 43.3125 58.59375 39.234375 62.25 \nQ 35.15625 65.921875 28.609375 65.921875 \nQ 23.96875 65.921875 18.8125 64.3125 \nQ 13.671875 62.703125 7.8125 59.421875 \nL 7.8125 69.390625 \nQ 13.765625 71.78125 18.9375 73 \nQ 24.125 74.21875 28.421875 74.21875 \nQ 39.75 74.21875 46.484375 68.546875 \nQ 53.21875 62.890625 53.21875 53.421875 \nQ 53.21875 48.921875 51.53125 44.890625 \nQ 49.859375 40.875 45.40625 35.40625 \nQ 44.1875 33.984375 37.640625 27.21875 \nQ 31.109375 20.453125 19.1875 8.296875 \nz\n\" id=\"DejaVuSans-50\"/>\n    </defs>\n    <g style=\"fill:#262626;\" transform=\"translate(322.21258 166.501125)scale(0.168 -0.168)\">\n     <use xlink:href=\"#DejaVuSans-45\"/>\n     <use x=\"36.083984\" xlink:href=\"#DejaVuSans-48\"/>\n     <use x=\"99.707031\" xlink:href=\"#DejaVuSans-46\"/>\n     <use x=\"131.494141\" xlink:href=\"#DejaVuSans-51\"/>\n     <use x=\"195.117188\" xlink:href=\"#DejaVuSans-50\"/>\n    </g>\n   </g>\n   <g id=\"text_77\">\n    <!-- -0.35 -->\n    <g style=\"fill:#262626;\" transform=\"translate(370.041152 166.501125)scale(0.168 -0.168)\">\n     <use xlink:href=\"#DejaVuSans-45\"/>\n     <use x=\"36.083984\" xlink:href=\"#DejaVuSans-48\"/>\n     <use x=\"99.707031\" xlink:href=\"#DejaVuSans-46\"/>\n     <use x=\"131.494141\" xlink:href=\"#DejaVuSans-51\"/>\n     <use x=\"195.117188\" xlink:href=\"#DejaVuSans-53\"/>\n    </g>\n   </g>\n   <g id=\"text_78\">\n    <!-- 0.36 -->\n    <g style=\"fill:#262626;\" transform=\"translate(420.900286 166.501125)scale(0.168 -0.168)\">\n     <use xlink:href=\"#DejaVuSans-48\"/>\n     <use x=\"63.623047\" xlink:href=\"#DejaVuSans-46\"/>\n     <use x=\"95.410156\" xlink:href=\"#DejaVuSans-51\"/>\n     <use x=\"159.033203\" xlink:href=\"#DejaVuSans-54\"/>\n    </g>\n   </g>\n   <g id=\"text_79\">\n    <!-- 0 -->\n    <g style=\"fill:#262626;\" transform=\"translate(482.087482 166.501125)scale(0.168 -0.168)\">\n     <use xlink:href=\"#DejaVuSans-48\"/>\n    </g>\n   </g>\n   <g id=\"text_80\">\n    <!-- 0 -->\n    <g style=\"fill:#262626;\" transform=\"translate(529.916054 166.501125)scale(0.168 -0.168)\">\n     <use xlink:href=\"#DejaVuSans-48\"/>\n    </g>\n   </g>\n   <g id=\"text_81\">\n    <!-- 0 -->\n    <g style=\"fill:#262626;\" transform=\"translate(577.744625 166.501125)scale(0.168 -0.168)\">\n     <use xlink:href=\"#DejaVuSans-48\"/>\n    </g>\n   </g>\n   <g id=\"text_82\">\n    <!-- 0 -->\n    <g style=\"fill:#262626;\" transform=\"translate(625.573196 166.501125)scale(0.168 -0.168)\">\n     <use xlink:href=\"#DejaVuSans-48\"/>\n    </g>\n   </g>\n   <g id=\"text_83\">\n    <!-- -0.44 -->\n    <g style=\"fill:#ffffff;\" transform=\"translate(657.01258 166.501125)scale(0.168 -0.168)\">\n     <use xlink:href=\"#DejaVuSans-45\"/>\n     <use x=\"36.083984\" xlink:href=\"#DejaVuSans-48\"/>\n     <use x=\"99.707031\" xlink:href=\"#DejaVuSans-46\"/>\n     <use x=\"131.494141\" xlink:href=\"#DejaVuSans-52\"/>\n     <use x=\"195.117188\" xlink:href=\"#DejaVuSans-52\"/>\n    </g>\n   </g>\n   <g id=\"text_84\">\n    <!-- 0.52 -->\n    <g style=\"fill:#262626;\" transform=\"translate(707.871714 166.501125)scale(0.168 -0.168)\">\n     <use xlink:href=\"#DejaVuSans-48\"/>\n     <use x=\"63.623047\" xlink:href=\"#DejaVuSans-46\"/>\n     <use x=\"95.410156\" xlink:href=\"#DejaVuSans-53\"/>\n     <use x=\"159.033203\" xlink:href=\"#DejaVuSans-50\"/>\n    </g>\n   </g>\n   <g id=\"text_85\">\n    <!-- 0 -->\n    <g style=\"fill:#262626;\" transform=\"translate(99.458911 205.329696)scale(0.168 -0.168)\">\n     <use xlink:href=\"#DejaVuSans-48\"/>\n    </g>\n   </g>\n   <g id=\"text_86\">\n    <!-- 0 -->\n    <g style=\"fill:#262626;\" transform=\"translate(147.287482 205.329696)scale(0.168 -0.168)\">\n     <use xlink:href=\"#DejaVuSans-48\"/>\n    </g>\n   </g>\n   <g id=\"text_87\">\n    <!-- 0 -->\n    <g style=\"fill:#262626;\" transform=\"translate(195.116054 205.329696)scale(0.168 -0.168)\">\n     <use xlink:href=\"#DejaVuSans-48\"/>\n    </g>\n   </g>\n   <g id=\"text_88\">\n    <!-- 0 -->\n    <g style=\"fill:#262626;\" transform=\"translate(242.944625 205.329696)scale(0.168 -0.168)\">\n     <use xlink:href=\"#DejaVuSans-48\"/>\n    </g>\n   </g>\n   <g id=\"text_89\">\n    <!-- 1 -->\n    <g style=\"fill:#ffffff;\" transform=\"translate(290.773196 205.329696)scale(0.168 -0.168)\">\n     <use xlink:href=\"#DejaVuSans-49\"/>\n    </g>\n   </g>\n   <g id=\"text_90\">\n    <!-- 0 -->\n    <g style=\"fill:#262626;\" transform=\"translate(338.601768 205.329696)scale(0.168 -0.168)\">\n     <use xlink:href=\"#DejaVuSans-48\"/>\n    </g>\n   </g>\n   <g id=\"text_91\">\n    <!-- 0 -->\n    <g style=\"fill:#262626;\" transform=\"translate(386.430339 205.329696)scale(0.168 -0.168)\">\n     <use xlink:href=\"#DejaVuSans-48\"/>\n    </g>\n   </g>\n   <g id=\"text_92\">\n    <!-- 0 -->\n    <g style=\"fill:#262626;\" transform=\"translate(434.258911 205.329696)scale(0.168 -0.168)\">\n     <use xlink:href=\"#DejaVuSans-48\"/>\n    </g>\n   </g>\n   <g id=\"text_93\">\n    <!-- 0 -->\n    <g style=\"fill:#262626;\" transform=\"translate(482.087482 205.329696)scale(0.168 -0.168)\">\n     <use xlink:href=\"#DejaVuSans-48\"/>\n    </g>\n   </g>\n   <g id=\"text_94\">\n    <!-- 0 -->\n    <g style=\"fill:#262626;\" transform=\"translate(529.916054 205.329696)scale(0.168 -0.168)\">\n     <use xlink:href=\"#DejaVuSans-48\"/>\n    </g>\n   </g>\n   <g id=\"text_95\">\n    <!-- 0 -->\n    <g style=\"fill:#262626;\" transform=\"translate(577.744625 205.329696)scale(0.168 -0.168)\">\n     <use xlink:href=\"#DejaVuSans-48\"/>\n    </g>\n   </g>\n   <g id=\"text_96\">\n    <!-- 0 -->\n    <g style=\"fill:#262626;\" transform=\"translate(625.573196 205.329696)scale(0.168 -0.168)\">\n     <use xlink:href=\"#DejaVuSans-48\"/>\n    </g>\n   </g>\n   <g id=\"text_97\">\n    <!-- 0.39 -->\n    <defs>\n     <path d=\"M 10.984375 1.515625 \nL 10.984375 10.5 \nQ 14.703125 8.734375 18.5 7.8125 \nQ 22.3125 6.890625 25.984375 6.890625 \nQ 35.75 6.890625 40.890625 13.453125 \nQ 46.046875 20.015625 46.78125 33.40625 \nQ 43.953125 29.203125 39.59375 26.953125 \nQ 35.25 24.703125 29.984375 24.703125 \nQ 19.046875 24.703125 12.671875 31.3125 \nQ 6.296875 37.9375 6.296875 49.421875 \nQ 6.296875 60.640625 12.9375 67.421875 \nQ 19.578125 74.21875 30.609375 74.21875 \nQ 43.265625 74.21875 49.921875 64.515625 \nQ 56.59375 54.828125 56.59375 36.375 \nQ 56.59375 19.140625 48.40625 8.859375 \nQ 40.234375 -1.421875 26.421875 -1.421875 \nQ 22.703125 -1.421875 18.890625 -0.6875 \nQ 15.09375 0.046875 10.984375 1.515625 \nz\nM 30.609375 32.421875 \nQ 37.25 32.421875 41.125 36.953125 \nQ 45.015625 41.5 45.015625 49.421875 \nQ 45.015625 57.28125 41.125 61.84375 \nQ 37.25 66.40625 30.609375 66.40625 \nQ 23.96875 66.40625 20.09375 61.84375 \nQ 16.21875 57.28125 16.21875 49.421875 \nQ 16.21875 41.5 20.09375 36.953125 \nQ 23.96875 32.421875 30.609375 32.421875 \nz\n\" id=\"DejaVuSans-57\"/>\n    </defs>\n    <g style=\"fill:#262626;\" transform=\"translate(660.043143 205.329696)scale(0.168 -0.168)\">\n     <use xlink:href=\"#DejaVuSans-48\"/>\n     <use x=\"63.623047\" xlink:href=\"#DejaVuSans-46\"/>\n     <use x=\"95.410156\" xlink:href=\"#DejaVuSans-51\"/>\n     <use x=\"159.033203\" xlink:href=\"#DejaVuSans-57\"/>\n    </g>\n   </g>\n   <g id=\"text_98\">\n    <!-- 0 -->\n    <g style=\"fill:#262626;\" transform=\"translate(721.230339 205.329696)scale(0.168 -0.168)\">\n     <use xlink:href=\"#DejaVuSans-48\"/>\n    </g>\n   </g>\n   <g id=\"text_99\">\n    <!-- 0 -->\n    <g style=\"fill:#262626;\" transform=\"translate(99.458911 244.158268)scale(0.168 -0.168)\">\n     <use xlink:href=\"#DejaVuSans-48\"/>\n    </g>\n   </g>\n   <g id=\"text_100\">\n    <!-- -0.34 -->\n    <g style=\"fill:#262626;\" transform=\"translate(130.898295 244.158268)scale(0.168 -0.168)\">\n     <use xlink:href=\"#DejaVuSans-45\"/>\n     <use x=\"36.083984\" xlink:href=\"#DejaVuSans-48\"/>\n     <use x=\"99.707031\" xlink:href=\"#DejaVuSans-46\"/>\n     <use x=\"131.494141\" xlink:href=\"#DejaVuSans-51\"/>\n     <use x=\"195.117188\" xlink:href=\"#DejaVuSans-52\"/>\n    </g>\n   </g>\n   <g id=\"text_101\">\n    <!-- 0 -->\n    <g style=\"fill:#262626;\" transform=\"translate(195.116054 244.158268)scale(0.168 -0.168)\">\n     <use xlink:href=\"#DejaVuSans-48\"/>\n    </g>\n   </g>\n   <g id=\"text_102\">\n    <!-- -0.32 -->\n    <g style=\"fill:#262626;\" transform=\"translate(226.555438 244.158268)scale(0.168 -0.168)\">\n     <use xlink:href=\"#DejaVuSans-45\"/>\n     <use x=\"36.083984\" xlink:href=\"#DejaVuSans-48\"/>\n     <use x=\"99.707031\" xlink:href=\"#DejaVuSans-46\"/>\n     <use x=\"131.494141\" xlink:href=\"#DejaVuSans-51\"/>\n     <use x=\"195.117188\" xlink:href=\"#DejaVuSans-50\"/>\n    </g>\n   </g>\n   <g id=\"text_103\">\n    <!-- 0 -->\n    <g style=\"fill:#262626;\" transform=\"translate(290.773196 244.158268)scale(0.168 -0.168)\">\n     <use xlink:href=\"#DejaVuSans-48\"/>\n    </g>\n   </g>\n   <g id=\"text_104\">\n    <!-- 1 -->\n    <g style=\"fill:#ffffff;\" transform=\"translate(338.601768 244.158268)scale(0.168 -0.168)\">\n     <use xlink:href=\"#DejaVuSans-49\"/>\n    </g>\n   </g>\n   <g id=\"text_105\">\n    <!-- 0.86 -->\n    <defs>\n     <path d=\"M 31.78125 34.625 \nQ 24.75 34.625 20.71875 30.859375 \nQ 16.703125 27.09375 16.703125 20.515625 \nQ 16.703125 13.921875 20.71875 10.15625 \nQ 24.75 6.390625 31.78125 6.390625 \nQ 38.8125 6.390625 42.859375 10.171875 \nQ 46.921875 13.96875 46.921875 20.515625 \nQ 46.921875 27.09375 42.890625 30.859375 \nQ 38.875 34.625 31.78125 34.625 \nz\nM 21.921875 38.8125 \nQ 15.578125 40.375 12.03125 44.71875 \nQ 8.5 49.078125 8.5 55.328125 \nQ 8.5 64.0625 14.71875 69.140625 \nQ 20.953125 74.21875 31.78125 74.21875 \nQ 42.671875 74.21875 48.875 69.140625 \nQ 55.078125 64.0625 55.078125 55.328125 \nQ 55.078125 49.078125 51.53125 44.71875 \nQ 48 40.375 41.703125 38.8125 \nQ 48.828125 37.15625 52.796875 32.3125 \nQ 56.78125 27.484375 56.78125 20.515625 \nQ 56.78125 9.90625 50.3125 4.234375 \nQ 43.84375 -1.421875 31.78125 -1.421875 \nQ 19.734375 -1.421875 13.25 4.234375 \nQ 6.78125 9.90625 6.78125 20.515625 \nQ 6.78125 27.484375 10.78125 32.3125 \nQ 14.796875 37.15625 21.921875 38.8125 \nz\nM 18.3125 54.390625 \nQ 18.3125 48.734375 21.84375 45.5625 \nQ 25.390625 42.390625 31.78125 42.390625 \nQ 38.140625 42.390625 41.71875 45.5625 \nQ 45.3125 48.734375 45.3125 54.390625 \nQ 45.3125 60.0625 41.71875 63.234375 \nQ 38.140625 66.40625 31.78125 66.40625 \nQ 25.390625 66.40625 21.84375 63.234375 \nQ 18.3125 60.0625 18.3125 54.390625 \nz\n\" id=\"DejaVuSans-56\"/>\n    </defs>\n    <g style=\"fill:#ffffff;\" transform=\"translate(373.071714 244.158268)scale(0.168 -0.168)\">\n     <use xlink:href=\"#DejaVuSans-48\"/>\n     <use x=\"63.623047\" xlink:href=\"#DejaVuSans-46\"/>\n     <use x=\"95.410156\" xlink:href=\"#DejaVuSans-56\"/>\n     <use x=\"159.033203\" xlink:href=\"#DejaVuSans-54\"/>\n    </g>\n   </g>\n   <g id=\"text_106\">\n    <!-- -0.45 -->\n    <g style=\"fill:#ffffff;\" transform=\"translate(417.869723 244.158268)scale(0.168 -0.168)\">\n     <use xlink:href=\"#DejaVuSans-45\"/>\n     <use x=\"36.083984\" xlink:href=\"#DejaVuSans-48\"/>\n     <use x=\"99.707031\" xlink:href=\"#DejaVuSans-46\"/>\n     <use x=\"131.494141\" xlink:href=\"#DejaVuSans-52\"/>\n     <use x=\"195.117188\" xlink:href=\"#DejaVuSans-53\"/>\n    </g>\n   </g>\n   <g id=\"text_107\">\n    <!-- 0.61 -->\n    <g style=\"fill:#ffffff;\" transform=\"translate(468.728857 244.158268)scale(0.168 -0.168)\">\n     <use xlink:href=\"#DejaVuSans-48\"/>\n     <use x=\"63.623047\" xlink:href=\"#DejaVuSans-46\"/>\n     <use x=\"95.410156\" xlink:href=\"#DejaVuSans-54\"/>\n     <use x=\"159.033203\" xlink:href=\"#DejaVuSans-49\"/>\n    </g>\n   </g>\n   <g id=\"text_108\">\n    <!-- 0 -->\n    <g style=\"fill:#262626;\" transform=\"translate(529.916054 244.158268)scale(0.168 -0.168)\">\n     <use xlink:href=\"#DejaVuSans-48\"/>\n    </g>\n   </g>\n   <g id=\"text_109\">\n    <!-- 0.43 -->\n    <g style=\"fill:#262626;\" transform=\"translate(564.386 244.158268)scale(0.168 -0.168)\">\n     <use xlink:href=\"#DejaVuSans-48\"/>\n     <use x=\"63.623047\" xlink:href=\"#DejaVuSans-46\"/>\n     <use x=\"95.410156\" xlink:href=\"#DejaVuSans-52\"/>\n     <use x=\"159.033203\" xlink:href=\"#DejaVuSans-51\"/>\n    </g>\n   </g>\n   <g id=\"text_110\">\n    <!-- 0.7 -->\n    <g style=\"fill:#ffffff;\" transform=\"translate(617.559071 244.158268)scale(0.168 -0.168)\">\n     <use xlink:href=\"#DejaVuSans-48\"/>\n     <use x=\"63.623047\" xlink:href=\"#DejaVuSans-46\"/>\n     <use x=\"95.410156\" xlink:href=\"#DejaVuSans-55\"/>\n    </g>\n   </g>\n   <g id=\"text_111\">\n    <!-- 0.5 -->\n    <g style=\"fill:#262626;\" transform=\"translate(665.387643 244.158268)scale(0.168 -0.168)\">\n     <use xlink:href=\"#DejaVuSans-48\"/>\n     <use x=\"63.623047\" xlink:href=\"#DejaVuSans-46\"/>\n     <use x=\"95.410156\" xlink:href=\"#DejaVuSans-53\"/>\n    </g>\n   </g>\n   <g id=\"text_112\">\n    <!-- -0.72 -->\n    <g style=\"fill:#ffffff;\" transform=\"translate(704.841152 244.158268)scale(0.168 -0.168)\">\n     <use xlink:href=\"#DejaVuSans-45\"/>\n     <use x=\"36.083984\" xlink:href=\"#DejaVuSans-48\"/>\n     <use x=\"99.707031\" xlink:href=\"#DejaVuSans-46\"/>\n     <use x=\"131.494141\" xlink:href=\"#DejaVuSans-55\"/>\n     <use x=\"195.117188\" xlink:href=\"#DejaVuSans-50\"/>\n    </g>\n   </g>\n   <g id=\"text_113\">\n    <!-- 0 -->\n    <g style=\"fill:#262626;\" transform=\"translate(99.458911 282.986839)scale(0.168 -0.168)\">\n     <use xlink:href=\"#DejaVuSans-48\"/>\n    </g>\n   </g>\n   <g id=\"text_114\">\n    <!-- -0.41 -->\n    <g style=\"fill:#262626;\" transform=\"translate(130.898295 282.986839)scale(0.168 -0.168)\">\n     <use xlink:href=\"#DejaVuSans-45\"/>\n     <use x=\"36.083984\" xlink:href=\"#DejaVuSans-48\"/>\n     <use x=\"99.707031\" xlink:href=\"#DejaVuSans-46\"/>\n     <use x=\"131.494141\" xlink:href=\"#DejaVuSans-52\"/>\n     <use x=\"195.117188\" xlink:href=\"#DejaVuSans-49\"/>\n    </g>\n   </g>\n   <g id=\"text_115\">\n    <!-- 0 -->\n    <g style=\"fill:#262626;\" transform=\"translate(195.116054 282.986839)scale(0.168 -0.168)\">\n     <use xlink:href=\"#DejaVuSans-48\"/>\n    </g>\n   </g>\n   <g id=\"text_116\">\n    <!-- -0.35 -->\n    <g style=\"fill:#262626;\" transform=\"translate(226.555438 282.986839)scale(0.168 -0.168)\">\n     <use xlink:href=\"#DejaVuSans-45\"/>\n     <use x=\"36.083984\" xlink:href=\"#DejaVuSans-48\"/>\n     <use x=\"99.707031\" xlink:href=\"#DejaVuSans-46\"/>\n     <use x=\"131.494141\" xlink:href=\"#DejaVuSans-51\"/>\n     <use x=\"195.117188\" xlink:href=\"#DejaVuSans-53\"/>\n    </g>\n   </g>\n   <g id=\"text_117\">\n    <!-- 0 -->\n    <g style=\"fill:#262626;\" transform=\"translate(290.773196 282.986839)scale(0.168 -0.168)\">\n     <use xlink:href=\"#DejaVuSans-48\"/>\n    </g>\n   </g>\n   <g id=\"text_118\">\n    <!-- 0.86 -->\n    <g style=\"fill:#ffffff;\" transform=\"translate(325.243143 282.986839)scale(0.168 -0.168)\">\n     <use xlink:href=\"#DejaVuSans-48\"/>\n     <use x=\"63.623047\" xlink:href=\"#DejaVuSans-46\"/>\n     <use x=\"95.410156\" xlink:href=\"#DejaVuSans-56\"/>\n     <use x=\"159.033203\" xlink:href=\"#DejaVuSans-54\"/>\n    </g>\n   </g>\n   <g id=\"text_119\">\n    <!-- 1 -->\n    <g style=\"fill:#ffffff;\" transform=\"translate(386.430339 282.986839)scale(0.168 -0.168)\">\n     <use xlink:href=\"#DejaVuSans-49\"/>\n    </g>\n   </g>\n   <g id=\"text_120\">\n    <!-- -0.54 -->\n    <g style=\"fill:#ffffff;\" transform=\"translate(417.869723 282.986839)scale(0.168 -0.168)\">\n     <use xlink:href=\"#DejaVuSans-45\"/>\n     <use x=\"36.083984\" xlink:href=\"#DejaVuSans-48\"/>\n     <use x=\"99.707031\" xlink:href=\"#DejaVuSans-46\"/>\n     <use x=\"131.494141\" xlink:href=\"#DejaVuSans-53\"/>\n     <use x=\"195.117188\" xlink:href=\"#DejaVuSans-52\"/>\n    </g>\n   </g>\n   <g id=\"text_121\">\n    <!-- 0.65 -->\n    <g style=\"fill:#ffffff;\" transform=\"translate(468.728857 282.986839)scale(0.168 -0.168)\">\n     <use xlink:href=\"#DejaVuSans-48\"/>\n     <use x=\"63.623047\" xlink:href=\"#DejaVuSans-46\"/>\n     <use x=\"95.410156\" xlink:href=\"#DejaVuSans-54\"/>\n     <use x=\"159.033203\" xlink:href=\"#DejaVuSans-53\"/>\n    </g>\n   </g>\n   <g id=\"text_122\">\n    <!-- 0 -->\n    <g style=\"fill:#262626;\" transform=\"translate(529.916054 282.986839)scale(0.168 -0.168)\">\n     <use xlink:href=\"#DejaVuSans-48\"/>\n    </g>\n   </g>\n   <g id=\"text_123\">\n    <!-- 0.54 -->\n    <g style=\"fill:#262626;\" transform=\"translate(564.386 282.986839)scale(0.168 -0.168)\">\n     <use xlink:href=\"#DejaVuSans-48\"/>\n     <use x=\"63.623047\" xlink:href=\"#DejaVuSans-46\"/>\n     <use x=\"95.410156\" xlink:href=\"#DejaVuSans-53\"/>\n     <use x=\"159.033203\" xlink:href=\"#DejaVuSans-52\"/>\n    </g>\n   </g>\n   <g id=\"text_124\">\n    <!-- 0.79 -->\n    <g style=\"fill:#ffffff;\" transform=\"translate(612.214571 282.986839)scale(0.168 -0.168)\">\n     <use xlink:href=\"#DejaVuSans-48\"/>\n     <use x=\"63.623047\" xlink:href=\"#DejaVuSans-46\"/>\n     <use x=\"95.410156\" xlink:href=\"#DejaVuSans-55\"/>\n     <use x=\"159.033203\" xlink:href=\"#DejaVuSans-57\"/>\n    </g>\n   </g>\n   <g id=\"text_125\">\n    <!-- 0.49 -->\n    <g style=\"fill:#262626;\" transform=\"translate(660.043143 282.986839)scale(0.168 -0.168)\">\n     <use xlink:href=\"#DejaVuSans-48\"/>\n     <use x=\"63.623047\" xlink:href=\"#DejaVuSans-46\"/>\n     <use x=\"95.410156\" xlink:href=\"#DejaVuSans-52\"/>\n     <use x=\"159.033203\" xlink:href=\"#DejaVuSans-57\"/>\n    </g>\n   </g>\n   <g id=\"text_126\">\n    <!-- -0.85 -->\n    <g style=\"fill:#ffffff;\" transform=\"translate(704.841152 282.986839)scale(0.168 -0.168)\">\n     <use xlink:href=\"#DejaVuSans-45\"/>\n     <use x=\"36.083984\" xlink:href=\"#DejaVuSans-48\"/>\n     <use x=\"99.707031\" xlink:href=\"#DejaVuSans-46\"/>\n     <use x=\"131.494141\" xlink:href=\"#DejaVuSans-56\"/>\n     <use x=\"195.117188\" xlink:href=\"#DejaVuSans-53\"/>\n    </g>\n   </g>\n   <g id=\"text_127\">\n    <!-- 0 -->\n    <g style=\"fill:#262626;\" transform=\"translate(99.458911 321.815411)scale(0.168 -0.168)\">\n     <use xlink:href=\"#DejaVuSans-48\"/>\n    </g>\n   </g>\n   <g id=\"text_128\">\n    <!-- 0 -->\n    <g style=\"fill:#262626;\" transform=\"translate(147.287482 321.815411)scale(0.168 -0.168)\">\n     <use xlink:href=\"#DejaVuSans-48\"/>\n    </g>\n   </g>\n   <g id=\"text_129\">\n    <!-- 0 -->\n    <g style=\"fill:#262626;\" transform=\"translate(195.116054 321.815411)scale(0.168 -0.168)\">\n     <use xlink:href=\"#DejaVuSans-48\"/>\n    </g>\n   </g>\n   <g id=\"text_130\">\n    <!-- 0.36 -->\n    <g style=\"fill:#262626;\" transform=\"translate(229.586 321.815411)scale(0.168 -0.168)\">\n     <use xlink:href=\"#DejaVuSans-48\"/>\n     <use x=\"63.623047\" xlink:href=\"#DejaVuSans-46\"/>\n     <use x=\"95.410156\" xlink:href=\"#DejaVuSans-51\"/>\n     <use x=\"159.033203\" xlink:href=\"#DejaVuSans-54\"/>\n    </g>\n   </g>\n   <g id=\"text_131\">\n    <!-- 0 -->\n    <g style=\"fill:#262626;\" transform=\"translate(290.773196 321.815411)scale(0.168 -0.168)\">\n     <use xlink:href=\"#DejaVuSans-48\"/>\n    </g>\n   </g>\n   <g id=\"text_132\">\n    <!-- -0.45 -->\n    <g style=\"fill:#ffffff;\" transform=\"translate(322.21258 321.815411)scale(0.168 -0.168)\">\n     <use xlink:href=\"#DejaVuSans-45\"/>\n     <use x=\"36.083984\" xlink:href=\"#DejaVuSans-48\"/>\n     <use x=\"99.707031\" xlink:href=\"#DejaVuSans-46\"/>\n     <use x=\"131.494141\" xlink:href=\"#DejaVuSans-52\"/>\n     <use x=\"195.117188\" xlink:href=\"#DejaVuSans-53\"/>\n    </g>\n   </g>\n   <g id=\"text_133\">\n    <!-- -0.54 -->\n    <g style=\"fill:#ffffff;\" transform=\"translate(370.041152 321.815411)scale(0.168 -0.168)\">\n     <use xlink:href=\"#DejaVuSans-45\"/>\n     <use x=\"36.083984\" xlink:href=\"#DejaVuSans-48\"/>\n     <use x=\"99.707031\" xlink:href=\"#DejaVuSans-46\"/>\n     <use x=\"131.494141\" xlink:href=\"#DejaVuSans-53\"/>\n     <use x=\"195.117188\" xlink:href=\"#DejaVuSans-52\"/>\n    </g>\n   </g>\n   <g id=\"text_134\">\n    <!-- 1 -->\n    <g style=\"fill:#ffffff;\" transform=\"translate(434.258911 321.815411)scale(0.168 -0.168)\">\n     <use xlink:href=\"#DejaVuSans-49\"/>\n    </g>\n   </g>\n   <g id=\"text_135\">\n    <!-- -0.37 -->\n    <g style=\"fill:#262626;\" transform=\"translate(465.698295 321.815411)scale(0.168 -0.168)\">\n     <use xlink:href=\"#DejaVuSans-45\"/>\n     <use x=\"36.083984\" xlink:href=\"#DejaVuSans-48\"/>\n     <use x=\"99.707031\" xlink:href=\"#DejaVuSans-46\"/>\n     <use x=\"131.494141\" xlink:href=\"#DejaVuSans-51\"/>\n     <use x=\"195.117188\" xlink:href=\"#DejaVuSans-55\"/>\n    </g>\n   </g>\n   <g id=\"text_136\">\n    <!-- 0 -->\n    <g style=\"fill:#262626;\" transform=\"translate(529.916054 321.815411)scale(0.168 -0.168)\">\n     <use xlink:href=\"#DejaVuSans-48\"/>\n    </g>\n   </g>\n   <g id=\"text_137\">\n    <!-- 0 -->\n    <g style=\"fill:#262626;\" transform=\"translate(577.744625 321.815411)scale(0.168 -0.168)\">\n     <use xlink:href=\"#DejaVuSans-48\"/>\n    </g>\n   </g>\n   <g id=\"text_138\">\n    <!-- -0.5 -->\n    <g style=\"fill:#ffffff;\" transform=\"translate(614.528509 321.815411)scale(0.168 -0.168)\">\n     <use xlink:href=\"#DejaVuSans-45\"/>\n     <use x=\"36.083984\" xlink:href=\"#DejaVuSans-48\"/>\n     <use x=\"99.707031\" xlink:href=\"#DejaVuSans-46\"/>\n     <use x=\"131.494141\" xlink:href=\"#DejaVuSans-53\"/>\n    </g>\n   </g>\n   <g id=\"text_139\">\n    <!-- -0.31 -->\n    <g style=\"fill:#262626;\" transform=\"translate(657.01258 321.815411)scale(0.168 -0.168)\">\n     <use xlink:href=\"#DejaVuSans-45\"/>\n     <use x=\"36.083984\" xlink:href=\"#DejaVuSans-48\"/>\n     <use x=\"99.707031\" xlink:href=\"#DejaVuSans-46\"/>\n     <use x=\"131.494141\" xlink:href=\"#DejaVuSans-51\"/>\n     <use x=\"195.117188\" xlink:href=\"#DejaVuSans-49\"/>\n    </g>\n   </g>\n   <g id=\"text_140\">\n    <!-- 0.49 -->\n    <g style=\"fill:#262626;\" transform=\"translate(707.871714 321.815411)scale(0.168 -0.168)\">\n     <use xlink:href=\"#DejaVuSans-48\"/>\n     <use x=\"63.623047\" xlink:href=\"#DejaVuSans-46\"/>\n     <use x=\"95.410156\" xlink:href=\"#DejaVuSans-52\"/>\n     <use x=\"159.033203\" xlink:href=\"#DejaVuSans-57\"/>\n    </g>\n   </g>\n   <g id=\"text_141\">\n    <!-- 0 -->\n    <g style=\"fill:#262626;\" transform=\"translate(99.458911 360.643982)scale(0.168 -0.168)\">\n     <use xlink:href=\"#DejaVuSans-48\"/>\n    </g>\n   </g>\n   <g id=\"text_142\">\n    <!-- 0 -->\n    <g style=\"fill:#262626;\" transform=\"translate(147.287482 360.643982)scale(0.168 -0.168)\">\n     <use xlink:href=\"#DejaVuSans-48\"/>\n    </g>\n   </g>\n   <g id=\"text_143\">\n    <!-- 0 -->\n    <g style=\"fill:#262626;\" transform=\"translate(195.116054 360.643982)scale(0.168 -0.168)\">\n     <use xlink:href=\"#DejaVuSans-48\"/>\n    </g>\n   </g>\n   <g id=\"text_144\">\n    <!-- 0 -->\n    <g style=\"fill:#262626;\" transform=\"translate(242.944625 360.643982)scale(0.168 -0.168)\">\n     <use xlink:href=\"#DejaVuSans-48\"/>\n    </g>\n   </g>\n   <g id=\"text_145\">\n    <!-- 0 -->\n    <g style=\"fill:#262626;\" transform=\"translate(290.773196 360.643982)scale(0.168 -0.168)\">\n     <use xlink:href=\"#DejaVuSans-48\"/>\n    </g>\n   </g>\n   <g id=\"text_146\">\n    <!-- 0.61 -->\n    <g style=\"fill:#ffffff;\" transform=\"translate(325.243143 360.643982)scale(0.168 -0.168)\">\n     <use xlink:href=\"#DejaVuSans-48\"/>\n     <use x=\"63.623047\" xlink:href=\"#DejaVuSans-46\"/>\n     <use x=\"95.410156\" xlink:href=\"#DejaVuSans-54\"/>\n     <use x=\"159.033203\" xlink:href=\"#DejaVuSans-49\"/>\n    </g>\n   </g>\n   <g id=\"text_147\">\n    <!-- 0.65 -->\n    <g style=\"fill:#ffffff;\" transform=\"translate(373.071714 360.643982)scale(0.168 -0.168)\">\n     <use xlink:href=\"#DejaVuSans-48\"/>\n     <use x=\"63.623047\" xlink:href=\"#DejaVuSans-46\"/>\n     <use x=\"95.410156\" xlink:href=\"#DejaVuSans-54\"/>\n     <use x=\"159.033203\" xlink:href=\"#DejaVuSans-53\"/>\n    </g>\n   </g>\n   <g id=\"text_148\">\n    <!-- -0.37 -->\n    <g style=\"fill:#262626;\" transform=\"translate(417.869723 360.643982)scale(0.168 -0.168)\">\n     <use xlink:href=\"#DejaVuSans-45\"/>\n     <use x=\"36.083984\" xlink:href=\"#DejaVuSans-48\"/>\n     <use x=\"99.707031\" xlink:href=\"#DejaVuSans-46\"/>\n     <use x=\"131.494141\" xlink:href=\"#DejaVuSans-51\"/>\n     <use x=\"195.117188\" xlink:href=\"#DejaVuSans-55\"/>\n    </g>\n   </g>\n   <g id=\"text_149\">\n    <!-- 1 -->\n    <g style=\"fill:#ffffff;\" transform=\"translate(482.087482 360.643982)scale(0.168 -0.168)\">\n     <use xlink:href=\"#DejaVuSans-49\"/>\n    </g>\n   </g>\n   <g id=\"text_150\">\n    <!-- 0 -->\n    <g style=\"fill:#262626;\" transform=\"translate(529.916054 360.643982)scale(0.168 -0.168)\">\n     <use xlink:href=\"#DejaVuSans-48\"/>\n    </g>\n   </g>\n   <g id=\"text_151\">\n    <!-- 0.3 -->\n    <g style=\"fill:#262626;\" transform=\"translate(569.7305 360.643982)scale(0.168 -0.168)\">\n     <use xlink:href=\"#DejaVuSans-48\"/>\n     <use x=\"63.623047\" xlink:href=\"#DejaVuSans-46\"/>\n     <use x=\"95.410156\" xlink:href=\"#DejaVuSans-51\"/>\n    </g>\n   </g>\n   <g id=\"text_152\">\n    <!-- 0.52 -->\n    <g style=\"fill:#262626;\" transform=\"translate(612.214571 360.643982)scale(0.168 -0.168)\">\n     <use xlink:href=\"#DejaVuSans-48\"/>\n     <use x=\"63.623047\" xlink:href=\"#DejaVuSans-46\"/>\n     <use x=\"95.410156\" xlink:href=\"#DejaVuSans-53\"/>\n     <use x=\"159.033203\" xlink:href=\"#DejaVuSans-50\"/>\n    </g>\n   </g>\n   <g id=\"text_153\">\n    <!-- 0.33 -->\n    <g style=\"fill:#262626;\" transform=\"translate(660.043143 360.643982)scale(0.168 -0.168)\">\n     <use xlink:href=\"#DejaVuSans-48\"/>\n     <use x=\"63.623047\" xlink:href=\"#DejaVuSans-46\"/>\n     <use x=\"95.410156\" xlink:href=\"#DejaVuSans-51\"/>\n     <use x=\"159.033203\" xlink:href=\"#DejaVuSans-51\"/>\n    </g>\n   </g>\n   <g id=\"text_154\">\n    <!-- -0.5 -->\n    <g style=\"fill:#ffffff;\" transform=\"translate(710.185652 360.643982)scale(0.168 -0.168)\">\n     <use xlink:href=\"#DejaVuSans-45\"/>\n     <use x=\"36.083984\" xlink:href=\"#DejaVuSans-48\"/>\n     <use x=\"99.707031\" xlink:href=\"#DejaVuSans-46\"/>\n     <use x=\"131.494141\" xlink:href=\"#DejaVuSans-53\"/>\n    </g>\n   </g>\n   <g id=\"text_155\">\n    <!-- 0.55 -->\n    <g style=\"fill:#262626;\" transform=\"translate(86.100286 399.472554)scale(0.168 -0.168)\">\n     <use xlink:href=\"#DejaVuSans-48\"/>\n     <use x=\"63.623047\" xlink:href=\"#DejaVuSans-46\"/>\n     <use x=\"95.410156\" xlink:href=\"#DejaVuSans-53\"/>\n     <use x=\"159.033203\" xlink:href=\"#DejaVuSans-53\"/>\n    </g>\n   </g>\n   <g id=\"text_156\">\n    <!-- 0 -->\n    <g style=\"fill:#262626;\" transform=\"translate(147.287482 399.472554)scale(0.168 -0.168)\">\n     <use xlink:href=\"#DejaVuSans-48\"/>\n    </g>\n   </g>\n   <g id=\"text_157\">\n    <!-- 0 -->\n    <g style=\"fill:#262626;\" transform=\"translate(195.116054 399.472554)scale(0.168 -0.168)\">\n     <use xlink:href=\"#DejaVuSans-48\"/>\n    </g>\n   </g>\n   <g id=\"text_158\">\n    <!-- 0 -->\n    <g style=\"fill:#262626;\" transform=\"translate(242.944625 399.472554)scale(0.168 -0.168)\">\n     <use xlink:href=\"#DejaVuSans-48\"/>\n    </g>\n   </g>\n   <g id=\"text_159\">\n    <!-- 0 -->\n    <g style=\"fill:#262626;\" transform=\"translate(290.773196 399.472554)scale(0.168 -0.168)\">\n     <use xlink:href=\"#DejaVuSans-48\"/>\n    </g>\n   </g>\n   <g id=\"text_160\">\n    <!-- 0 -->\n    <g style=\"fill:#262626;\" transform=\"translate(338.601768 399.472554)scale(0.168 -0.168)\">\n     <use xlink:href=\"#DejaVuSans-48\"/>\n    </g>\n   </g>\n   <g id=\"text_161\">\n    <!-- 0 -->\n    <g style=\"fill:#262626;\" transform=\"translate(386.430339 399.472554)scale(0.168 -0.168)\">\n     <use xlink:href=\"#DejaVuSans-48\"/>\n    </g>\n   </g>\n   <g id=\"text_162\">\n    <!-- 0 -->\n    <g style=\"fill:#262626;\" transform=\"translate(434.258911 399.472554)scale(0.168 -0.168)\">\n     <use xlink:href=\"#DejaVuSans-48\"/>\n    </g>\n   </g>\n   <g id=\"text_163\">\n    <!-- 0 -->\n    <g style=\"fill:#262626;\" transform=\"translate(482.087482 399.472554)scale(0.168 -0.168)\">\n     <use xlink:href=\"#DejaVuSans-48\"/>\n    </g>\n   </g>\n   <g id=\"text_164\">\n    <!-- 1 -->\n    <g style=\"fill:#ffffff;\" transform=\"translate(529.916054 399.472554)scale(0.168 -0.168)\">\n     <use xlink:href=\"#DejaVuSans-49\"/>\n    </g>\n   </g>\n   <g id=\"text_165\">\n    <!-- -0.52 -->\n    <g style=\"fill:#ffffff;\" transform=\"translate(561.355438 399.472554)scale(0.168 -0.168)\">\n     <use xlink:href=\"#DejaVuSans-45\"/>\n     <use x=\"36.083984\" xlink:href=\"#DejaVuSans-48\"/>\n     <use x=\"99.707031\" xlink:href=\"#DejaVuSans-46\"/>\n     <use x=\"131.494141\" xlink:href=\"#DejaVuSans-53\"/>\n     <use x=\"195.117188\" xlink:href=\"#DejaVuSans-50\"/>\n    </g>\n   </g>\n   <g id=\"text_166\">\n    <!-- -0.43 -->\n    <g style=\"fill:#ffffff;\" transform=\"translate(609.184009 399.472554)scale(0.168 -0.168)\">\n     <use xlink:href=\"#DejaVuSans-45\"/>\n     <use x=\"36.083984\" xlink:href=\"#DejaVuSans-48\"/>\n     <use x=\"99.707031\" xlink:href=\"#DejaVuSans-46\"/>\n     <use x=\"131.494141\" xlink:href=\"#DejaVuSans-52\"/>\n     <use x=\"195.117188\" xlink:href=\"#DejaVuSans-51\"/>\n    </g>\n   </g>\n   <g id=\"text_167\">\n    <!-- 0.32 -->\n    <g style=\"fill:#262626;\" transform=\"translate(660.043143 399.472554)scale(0.168 -0.168)\">\n     <use xlink:href=\"#DejaVuSans-48\"/>\n     <use x=\"63.623047\" xlink:href=\"#DejaVuSans-46\"/>\n     <use x=\"95.410156\" xlink:href=\"#DejaVuSans-51\"/>\n     <use x=\"159.033203\" xlink:href=\"#DejaVuSans-50\"/>\n    </g>\n   </g>\n   <g id=\"text_168\">\n    <!-- 0 -->\n    <g style=\"fill:#262626;\" transform=\"translate(721.230339 399.472554)scale(0.168 -0.168)\">\n     <use xlink:href=\"#DejaVuSans-48\"/>\n    </g>\n   </g>\n   <g id=\"text_169\">\n    <!-- 0 -->\n    <g style=\"fill:#262626;\" transform=\"translate(99.458911 438.301125)scale(0.168 -0.168)\">\n     <use xlink:href=\"#DejaVuSans-48\"/>\n    </g>\n   </g>\n   <g id=\"text_170\">\n    <!-- -0.56 -->\n    <g style=\"fill:#ffffff;\" transform=\"translate(130.898295 438.301125)scale(0.168 -0.168)\">\n     <use xlink:href=\"#DejaVuSans-45\"/>\n     <use x=\"36.083984\" xlink:href=\"#DejaVuSans-48\"/>\n     <use x=\"99.707031\" xlink:href=\"#DejaVuSans-46\"/>\n     <use x=\"131.494141\" xlink:href=\"#DejaVuSans-53\"/>\n     <use x=\"195.117188\" xlink:href=\"#DejaVuSans-54\"/>\n    </g>\n   </g>\n   <g id=\"text_171\">\n    <!-- 0 -->\n    <g style=\"fill:#262626;\" transform=\"translate(195.116054 438.301125)scale(0.168 -0.168)\">\n     <use xlink:href=\"#DejaVuSans-48\"/>\n    </g>\n   </g>\n   <g id=\"text_172\">\n    <!-- 0 -->\n    <g style=\"fill:#262626;\" transform=\"translate(242.944625 438.301125)scale(0.168 -0.168)\">\n     <use xlink:href=\"#DejaVuSans-48\"/>\n    </g>\n   </g>\n   <g id=\"text_173\">\n    <!-- 0 -->\n    <g style=\"fill:#262626;\" transform=\"translate(290.773196 438.301125)scale(0.168 -0.168)\">\n     <use xlink:href=\"#DejaVuSans-48\"/>\n    </g>\n   </g>\n   <g id=\"text_174\">\n    <!-- 0.43 -->\n    <g style=\"fill:#262626;\" transform=\"translate(325.243143 438.301125)scale(0.168 -0.168)\">\n     <use xlink:href=\"#DejaVuSans-48\"/>\n     <use x=\"63.623047\" xlink:href=\"#DejaVuSans-46\"/>\n     <use x=\"95.410156\" xlink:href=\"#DejaVuSans-52\"/>\n     <use x=\"159.033203\" xlink:href=\"#DejaVuSans-51\"/>\n    </g>\n   </g>\n   <g id=\"text_175\">\n    <!-- 0.54 -->\n    <g style=\"fill:#262626;\" transform=\"translate(373.071714 438.301125)scale(0.168 -0.168)\">\n     <use xlink:href=\"#DejaVuSans-48\"/>\n     <use x=\"63.623047\" xlink:href=\"#DejaVuSans-46\"/>\n     <use x=\"95.410156\" xlink:href=\"#DejaVuSans-53\"/>\n     <use x=\"159.033203\" xlink:href=\"#DejaVuSans-52\"/>\n    </g>\n   </g>\n   <g id=\"text_176\">\n    <!-- 0 -->\n    <g style=\"fill:#262626;\" transform=\"translate(434.258911 438.301125)scale(0.168 -0.168)\">\n     <use xlink:href=\"#DejaVuSans-48\"/>\n    </g>\n   </g>\n   <g id=\"text_177\">\n    <!-- 0.3 -->\n    <g style=\"fill:#262626;\" transform=\"translate(474.073357 438.301125)scale(0.168 -0.168)\">\n     <use xlink:href=\"#DejaVuSans-48\"/>\n     <use x=\"63.623047\" xlink:href=\"#DejaVuSans-46\"/>\n     <use x=\"95.410156\" xlink:href=\"#DejaVuSans-51\"/>\n    </g>\n   </g>\n   <g id=\"text_178\">\n    <!-- -0.52 -->\n    <g style=\"fill:#ffffff;\" transform=\"translate(513.526866 438.301125)scale(0.168 -0.168)\">\n     <use xlink:href=\"#DejaVuSans-45\"/>\n     <use x=\"36.083984\" xlink:href=\"#DejaVuSans-48\"/>\n     <use x=\"99.707031\" xlink:href=\"#DejaVuSans-46\"/>\n     <use x=\"131.494141\" xlink:href=\"#DejaVuSans-53\"/>\n     <use x=\"195.117188\" xlink:href=\"#DejaVuSans-50\"/>\n    </g>\n   </g>\n   <g id=\"text_179\">\n    <!-- 1 -->\n    <g style=\"fill:#ffffff;\" transform=\"translate(577.744625 438.301125)scale(0.168 -0.168)\">\n     <use xlink:href=\"#DejaVuSans-49\"/>\n    </g>\n   </g>\n   <g id=\"text_180\">\n    <!-- 0.57 -->\n    <g style=\"fill:#ffffff;\" transform=\"translate(612.214571 438.301125)scale(0.168 -0.168)\">\n     <use xlink:href=\"#DejaVuSans-48\"/>\n     <use x=\"63.623047\" xlink:href=\"#DejaVuSans-46\"/>\n     <use x=\"95.410156\" xlink:href=\"#DejaVuSans-53\"/>\n     <use x=\"159.033203\" xlink:href=\"#DejaVuSans-55\"/>\n    </g>\n   </g>\n   <g id=\"text_181\">\n    <!-- 0 -->\n    <g style=\"fill:#262626;\" transform=\"translate(673.401768 438.301125)scale(0.168 -0.168)\">\n     <use xlink:href=\"#DejaVuSans-48\"/>\n    </g>\n   </g>\n   <g id=\"text_182\">\n    <!-- -0.62 -->\n    <g style=\"fill:#ffffff;\" transform=\"translate(704.841152 438.301125)scale(0.168 -0.168)\">\n     <use xlink:href=\"#DejaVuSans-45\"/>\n     <use x=\"36.083984\" xlink:href=\"#DejaVuSans-48\"/>\n     <use x=\"99.707031\" xlink:href=\"#DejaVuSans-46\"/>\n     <use x=\"131.494141\" xlink:href=\"#DejaVuSans-54\"/>\n     <use x=\"195.117188\" xlink:href=\"#DejaVuSans-50\"/>\n    </g>\n   </g>\n   <g id=\"text_183\">\n    <!-- 0 -->\n    <g style=\"fill:#262626;\" transform=\"translate(99.458911 477.129696)scale(0.168 -0.168)\">\n     <use xlink:href=\"#DejaVuSans-48\"/>\n    </g>\n   </g>\n   <g id=\"text_184\">\n    <!-- -0.37 -->\n    <g style=\"fill:#262626;\" transform=\"translate(130.898295 477.129696)scale(0.168 -0.168)\">\n     <use xlink:href=\"#DejaVuSans-45\"/>\n     <use x=\"36.083984\" xlink:href=\"#DejaVuSans-48\"/>\n     <use x=\"99.707031\" xlink:href=\"#DejaVuSans-46\"/>\n     <use x=\"131.494141\" xlink:href=\"#DejaVuSans-51\"/>\n     <use x=\"195.117188\" xlink:href=\"#DejaVuSans-55\"/>\n    </g>\n   </g>\n   <g id=\"text_185\">\n    <!-- 0 -->\n    <g style=\"fill:#262626;\" transform=\"translate(195.116054 477.129696)scale(0.168 -0.168)\">\n     <use xlink:href=\"#DejaVuSans-48\"/>\n    </g>\n   </g>\n   <g id=\"text_186\">\n    <!-- 0 -->\n    <g style=\"fill:#262626;\" transform=\"translate(242.944625 477.129696)scale(0.168 -0.168)\">\n     <use xlink:href=\"#DejaVuSans-48\"/>\n    </g>\n   </g>\n   <g id=\"text_187\">\n    <!-- 0 -->\n    <g style=\"fill:#262626;\" transform=\"translate(290.773196 477.129696)scale(0.168 -0.168)\">\n     <use xlink:href=\"#DejaVuSans-48\"/>\n    </g>\n   </g>\n   <g id=\"text_188\">\n    <!-- 0.7 -->\n    <g style=\"fill:#ffffff;\" transform=\"translate(330.587643 477.129696)scale(0.168 -0.168)\">\n     <use xlink:href=\"#DejaVuSans-48\"/>\n     <use x=\"63.623047\" xlink:href=\"#DejaVuSans-46\"/>\n     <use x=\"95.410156\" xlink:href=\"#DejaVuSans-55\"/>\n    </g>\n   </g>\n   <g id=\"text_189\">\n    <!-- 0.79 -->\n    <g style=\"fill:#ffffff;\" transform=\"translate(373.071714 477.129696)scale(0.168 -0.168)\">\n     <use xlink:href=\"#DejaVuSans-48\"/>\n     <use x=\"63.623047\" xlink:href=\"#DejaVuSans-46\"/>\n     <use x=\"95.410156\" xlink:href=\"#DejaVuSans-55\"/>\n     <use x=\"159.033203\" xlink:href=\"#DejaVuSans-57\"/>\n    </g>\n   </g>\n   <g id=\"text_190\">\n    <!-- -0.5 -->\n    <g style=\"fill:#ffffff;\" transform=\"translate(423.214223 477.129696)scale(0.168 -0.168)\">\n     <use xlink:href=\"#DejaVuSans-45\"/>\n     <use x=\"36.083984\" xlink:href=\"#DejaVuSans-48\"/>\n     <use x=\"99.707031\" xlink:href=\"#DejaVuSans-46\"/>\n     <use x=\"131.494141\" xlink:href=\"#DejaVuSans-53\"/>\n    </g>\n   </g>\n   <g id=\"text_191\">\n    <!-- 0.52 -->\n    <g style=\"fill:#262626;\" transform=\"translate(468.728857 477.129696)scale(0.168 -0.168)\">\n     <use xlink:href=\"#DejaVuSans-48\"/>\n     <use x=\"63.623047\" xlink:href=\"#DejaVuSans-46\"/>\n     <use x=\"95.410156\" xlink:href=\"#DejaVuSans-53\"/>\n     <use x=\"159.033203\" xlink:href=\"#DejaVuSans-50\"/>\n    </g>\n   </g>\n   <g id=\"text_192\">\n    <!-- -0.43 -->\n    <g style=\"fill:#ffffff;\" transform=\"translate(513.526866 477.129696)scale(0.168 -0.168)\">\n     <use xlink:href=\"#DejaVuSans-45\"/>\n     <use x=\"36.083984\" xlink:href=\"#DejaVuSans-48\"/>\n     <use x=\"99.707031\" xlink:href=\"#DejaVuSans-46\"/>\n     <use x=\"131.494141\" xlink:href=\"#DejaVuSans-52\"/>\n     <use x=\"195.117188\" xlink:href=\"#DejaVuSans-51\"/>\n    </g>\n   </g>\n   <g id=\"text_193\">\n    <!-- 0.57 -->\n    <g style=\"fill:#ffffff;\" transform=\"translate(564.386 477.129696)scale(0.168 -0.168)\">\n     <use xlink:href=\"#DejaVuSans-48\"/>\n     <use x=\"63.623047\" xlink:href=\"#DejaVuSans-46\"/>\n     <use x=\"95.410156\" xlink:href=\"#DejaVuSans-53\"/>\n     <use x=\"159.033203\" xlink:href=\"#DejaVuSans-55\"/>\n    </g>\n   </g>\n   <g id=\"text_194\">\n    <!-- 1 -->\n    <g style=\"fill:#ffffff;\" transform=\"translate(625.573196 477.129696)scale(0.168 -0.168)\">\n     <use xlink:href=\"#DejaVuSans-49\"/>\n    </g>\n   </g>\n   <g id=\"text_195\">\n    <!-- 0.31 -->\n    <g style=\"fill:#262626;\" transform=\"translate(660.043143 477.129696)scale(0.168 -0.168)\">\n     <use xlink:href=\"#DejaVuSans-48\"/>\n     <use x=\"63.623047\" xlink:href=\"#DejaVuSans-46\"/>\n     <use x=\"95.410156\" xlink:href=\"#DejaVuSans-51\"/>\n     <use x=\"159.033203\" xlink:href=\"#DejaVuSans-49\"/>\n    </g>\n   </g>\n   <g id=\"text_196\">\n    <!-- -0.79 -->\n    <g style=\"fill:#ffffff;\" transform=\"translate(704.841152 477.129696)scale(0.168 -0.168)\">\n     <use xlink:href=\"#DejaVuSans-45\"/>\n     <use x=\"36.083984\" xlink:href=\"#DejaVuSans-48\"/>\n     <use x=\"99.707031\" xlink:href=\"#DejaVuSans-46\"/>\n     <use x=\"131.494141\" xlink:href=\"#DejaVuSans-55\"/>\n     <use x=\"195.117188\" xlink:href=\"#DejaVuSans-57\"/>\n    </g>\n   </g>\n   <g id=\"text_197\">\n    <!-- 0.64 -->\n    <g style=\"fill:#ffffff;\" transform=\"translate(86.100286 515.958268)scale(0.168 -0.168)\">\n     <use xlink:href=\"#DejaVuSans-48\"/>\n     <use x=\"63.623047\" xlink:href=\"#DejaVuSans-46\"/>\n     <use x=\"95.410156\" xlink:href=\"#DejaVuSans-54\"/>\n     <use x=\"159.033203\" xlink:href=\"#DejaVuSans-52\"/>\n    </g>\n   </g>\n   <g id=\"text_198\">\n    <!-- 0 -->\n    <g style=\"fill:#262626;\" transform=\"translate(147.287482 515.958268)scale(0.168 -0.168)\">\n     <use xlink:href=\"#DejaVuSans-48\"/>\n    </g>\n   </g>\n   <g id=\"text_199\">\n    <!-- 0 -->\n    <g style=\"fill:#262626;\" transform=\"translate(195.116054 515.958268)scale(0.168 -0.168)\">\n     <use xlink:href=\"#DejaVuSans-48\"/>\n    </g>\n   </g>\n   <g id=\"text_200\">\n    <!-- -0.44 -->\n    <g style=\"fill:#ffffff;\" transform=\"translate(226.555438 515.958268)scale(0.168 -0.168)\">\n     <use xlink:href=\"#DejaVuSans-45\"/>\n     <use x=\"36.083984\" xlink:href=\"#DejaVuSans-48\"/>\n     <use x=\"99.707031\" xlink:href=\"#DejaVuSans-46\"/>\n     <use x=\"131.494141\" xlink:href=\"#DejaVuSans-52\"/>\n     <use x=\"195.117188\" xlink:href=\"#DejaVuSans-52\"/>\n    </g>\n   </g>\n   <g id=\"text_201\">\n    <!-- 0.39 -->\n    <g style=\"fill:#262626;\" transform=\"translate(277.414571 515.958268)scale(0.168 -0.168)\">\n     <use xlink:href=\"#DejaVuSans-48\"/>\n     <use x=\"63.623047\" xlink:href=\"#DejaVuSans-46\"/>\n     <use x=\"95.410156\" xlink:href=\"#DejaVuSans-51\"/>\n     <use x=\"159.033203\" xlink:href=\"#DejaVuSans-57\"/>\n    </g>\n   </g>\n   <g id=\"text_202\">\n    <!-- 0.5 -->\n    <g style=\"fill:#262626;\" transform=\"translate(330.587643 515.958268)scale(0.168 -0.168)\">\n     <use xlink:href=\"#DejaVuSans-48\"/>\n     <use x=\"63.623047\" xlink:href=\"#DejaVuSans-46\"/>\n     <use x=\"95.410156\" xlink:href=\"#DejaVuSans-53\"/>\n    </g>\n   </g>\n   <g id=\"text_203\">\n    <!-- 0.49 -->\n    <g style=\"fill:#262626;\" transform=\"translate(373.071714 515.958268)scale(0.168 -0.168)\">\n     <use xlink:href=\"#DejaVuSans-48\"/>\n     <use x=\"63.623047\" xlink:href=\"#DejaVuSans-46\"/>\n     <use x=\"95.410156\" xlink:href=\"#DejaVuSans-52\"/>\n     <use x=\"159.033203\" xlink:href=\"#DejaVuSans-57\"/>\n    </g>\n   </g>\n   <g id=\"text_204\">\n    <!-- -0.31 -->\n    <g style=\"fill:#262626;\" transform=\"translate(417.869723 515.958268)scale(0.168 -0.168)\">\n     <use xlink:href=\"#DejaVuSans-45\"/>\n     <use x=\"36.083984\" xlink:href=\"#DejaVuSans-48\"/>\n     <use x=\"99.707031\" xlink:href=\"#DejaVuSans-46\"/>\n     <use x=\"131.494141\" xlink:href=\"#DejaVuSans-51\"/>\n     <use x=\"195.117188\" xlink:href=\"#DejaVuSans-49\"/>\n    </g>\n   </g>\n   <g id=\"text_205\">\n    <!-- 0.33 -->\n    <g style=\"fill:#262626;\" transform=\"translate(468.728857 515.958268)scale(0.168 -0.168)\">\n     <use xlink:href=\"#DejaVuSans-48\"/>\n     <use x=\"63.623047\" xlink:href=\"#DejaVuSans-46\"/>\n     <use x=\"95.410156\" xlink:href=\"#DejaVuSans-51\"/>\n     <use x=\"159.033203\" xlink:href=\"#DejaVuSans-51\"/>\n    </g>\n   </g>\n   <g id=\"text_206\">\n    <!-- 0.32 -->\n    <g style=\"fill:#262626;\" transform=\"translate(516.557429 515.958268)scale(0.168 -0.168)\">\n     <use xlink:href=\"#DejaVuSans-48\"/>\n     <use x=\"63.623047\" xlink:href=\"#DejaVuSans-46\"/>\n     <use x=\"95.410156\" xlink:href=\"#DejaVuSans-51\"/>\n     <use x=\"159.033203\" xlink:href=\"#DejaVuSans-50\"/>\n    </g>\n   </g>\n   <g id=\"text_207\">\n    <!-- 0 -->\n    <g style=\"fill:#262626;\" transform=\"translate(577.744625 515.958268)scale(0.168 -0.168)\">\n     <use xlink:href=\"#DejaVuSans-48\"/>\n    </g>\n   </g>\n   <g id=\"text_208\">\n    <!-- 0.31 -->\n    <g style=\"fill:#262626;\" transform=\"translate(612.214571 515.958268)scale(0.168 -0.168)\">\n     <use xlink:href=\"#DejaVuSans-48\"/>\n     <use x=\"63.623047\" xlink:href=\"#DejaVuSans-46\"/>\n     <use x=\"95.410156\" xlink:href=\"#DejaVuSans-51\"/>\n     <use x=\"159.033203\" xlink:href=\"#DejaVuSans-49\"/>\n    </g>\n   </g>\n   <g id=\"text_209\">\n    <!-- 1 -->\n    <g style=\"fill:#ffffff;\" transform=\"translate(673.401768 515.958268)scale(0.168 -0.168)\">\n     <use xlink:href=\"#DejaVuSans-49\"/>\n    </g>\n   </g>\n   <g id=\"text_210\">\n    <!-- -0.63 -->\n    <g style=\"fill:#ffffff;\" transform=\"translate(704.841152 515.958268)scale(0.168 -0.168)\">\n     <use xlink:href=\"#DejaVuSans-45\"/>\n     <use x=\"36.083984\" xlink:href=\"#DejaVuSans-48\"/>\n     <use x=\"99.707031\" xlink:href=\"#DejaVuSans-46\"/>\n     <use x=\"131.494141\" xlink:href=\"#DejaVuSans-54\"/>\n     <use x=\"195.117188\" xlink:href=\"#DejaVuSans-51\"/>\n    </g>\n   </g>\n   <g id=\"text_211\">\n    <!-- -0.33 -->\n    <g style=\"fill:#262626;\" transform=\"translate(83.069723 554.786839)scale(0.168 -0.168)\">\n     <use xlink:href=\"#DejaVuSans-45\"/>\n     <use x=\"36.083984\" xlink:href=\"#DejaVuSans-48\"/>\n     <use x=\"99.707031\" xlink:href=\"#DejaVuSans-46\"/>\n     <use x=\"131.494141\" xlink:href=\"#DejaVuSans-51\"/>\n     <use x=\"195.117188\" xlink:href=\"#DejaVuSans-51\"/>\n    </g>\n   </g>\n   <g id=\"text_212\">\n    <!-- 0.44 -->\n    <g style=\"fill:#262626;\" transform=\"translate(133.928857 554.786839)scale(0.168 -0.168)\">\n     <use xlink:href=\"#DejaVuSans-48\"/>\n     <use x=\"63.623047\" xlink:href=\"#DejaVuSans-46\"/>\n     <use x=\"95.410156\" xlink:href=\"#DejaVuSans-52\"/>\n     <use x=\"159.033203\" xlink:href=\"#DejaVuSans-52\"/>\n    </g>\n   </g>\n   <g id=\"text_213\">\n    <!-- 0 -->\n    <g style=\"fill:#262626;\" transform=\"translate(195.116054 554.786839)scale(0.168 -0.168)\">\n     <use xlink:href=\"#DejaVuSans-48\"/>\n    </g>\n   </g>\n   <g id=\"text_214\">\n    <!-- 0.52 -->\n    <g style=\"fill:#262626;\" transform=\"translate(229.586 554.786839)scale(0.168 -0.168)\">\n     <use xlink:href=\"#DejaVuSans-48\"/>\n     <use x=\"63.623047\" xlink:href=\"#DejaVuSans-46\"/>\n     <use x=\"95.410156\" xlink:href=\"#DejaVuSans-53\"/>\n     <use x=\"159.033203\" xlink:href=\"#DejaVuSans-50\"/>\n    </g>\n   </g>\n   <g id=\"text_215\">\n    <!-- 0 -->\n    <g style=\"fill:#262626;\" transform=\"translate(290.773196 554.786839)scale(0.168 -0.168)\">\n     <use xlink:href=\"#DejaVuSans-48\"/>\n    </g>\n   </g>\n   <g id=\"text_216\">\n    <!-- -0.72 -->\n    <g style=\"fill:#ffffff;\" transform=\"translate(322.21258 554.786839)scale(0.168 -0.168)\">\n     <use xlink:href=\"#DejaVuSans-45\"/>\n     <use x=\"36.083984\" xlink:href=\"#DejaVuSans-48\"/>\n     <use x=\"99.707031\" xlink:href=\"#DejaVuSans-46\"/>\n     <use x=\"131.494141\" xlink:href=\"#DejaVuSans-55\"/>\n     <use x=\"195.117188\" xlink:href=\"#DejaVuSans-50\"/>\n    </g>\n   </g>\n   <g id=\"text_217\">\n    <!-- -0.85 -->\n    <g style=\"fill:#ffffff;\" transform=\"translate(370.041152 554.786839)scale(0.168 -0.168)\">\n     <use xlink:href=\"#DejaVuSans-45\"/>\n     <use x=\"36.083984\" xlink:href=\"#DejaVuSans-48\"/>\n     <use x=\"99.707031\" xlink:href=\"#DejaVuSans-46\"/>\n     <use x=\"131.494141\" xlink:href=\"#DejaVuSans-56\"/>\n     <use x=\"195.117188\" xlink:href=\"#DejaVuSans-53\"/>\n    </g>\n   </g>\n   <g id=\"text_218\">\n    <!-- 0.49 -->\n    <g style=\"fill:#262626;\" transform=\"translate(420.900286 554.786839)scale(0.168 -0.168)\">\n     <use xlink:href=\"#DejaVuSans-48\"/>\n     <use x=\"63.623047\" xlink:href=\"#DejaVuSans-46\"/>\n     <use x=\"95.410156\" xlink:href=\"#DejaVuSans-52\"/>\n     <use x=\"159.033203\" xlink:href=\"#DejaVuSans-57\"/>\n    </g>\n   </g>\n   <g id=\"text_219\">\n    <!-- -0.5 -->\n    <g style=\"fill:#ffffff;\" transform=\"translate(471.042795 554.786839)scale(0.168 -0.168)\">\n     <use xlink:href=\"#DejaVuSans-45\"/>\n     <use x=\"36.083984\" xlink:href=\"#DejaVuSans-48\"/>\n     <use x=\"99.707031\" xlink:href=\"#DejaVuSans-46\"/>\n     <use x=\"131.494141\" xlink:href=\"#DejaVuSans-53\"/>\n    </g>\n   </g>\n   <g id=\"text_220\">\n    <!-- 0 -->\n    <g style=\"fill:#262626;\" transform=\"translate(529.916054 554.786839)scale(0.168 -0.168)\">\n     <use xlink:href=\"#DejaVuSans-48\"/>\n    </g>\n   </g>\n   <g id=\"text_221\">\n    <!-- -0.62 -->\n    <g style=\"fill:#ffffff;\" transform=\"translate(561.355438 554.786839)scale(0.168 -0.168)\">\n     <use xlink:href=\"#DejaVuSans-45\"/>\n     <use x=\"36.083984\" xlink:href=\"#DejaVuSans-48\"/>\n     <use x=\"99.707031\" xlink:href=\"#DejaVuSans-46\"/>\n     <use x=\"131.494141\" xlink:href=\"#DejaVuSans-54\"/>\n     <use x=\"195.117188\" xlink:href=\"#DejaVuSans-50\"/>\n    </g>\n   </g>\n   <g id=\"text_222\">\n    <!-- -0.79 -->\n    <g style=\"fill:#ffffff;\" transform=\"translate(609.184009 554.786839)scale(0.168 -0.168)\">\n     <use xlink:href=\"#DejaVuSans-45\"/>\n     <use x=\"36.083984\" xlink:href=\"#DejaVuSans-48\"/>\n     <use x=\"99.707031\" xlink:href=\"#DejaVuSans-46\"/>\n     <use x=\"131.494141\" xlink:href=\"#DejaVuSans-55\"/>\n     <use x=\"195.117188\" xlink:href=\"#DejaVuSans-57\"/>\n    </g>\n   </g>\n   <g id=\"text_223\">\n    <!-- -0.63 -->\n    <g style=\"fill:#ffffff;\" transform=\"translate(657.01258 554.786839)scale(0.168 -0.168)\">\n     <use xlink:href=\"#DejaVuSans-45\"/>\n     <use x=\"36.083984\" xlink:href=\"#DejaVuSans-48\"/>\n     <use x=\"99.707031\" xlink:href=\"#DejaVuSans-46\"/>\n     <use x=\"131.494141\" xlink:href=\"#DejaVuSans-54\"/>\n     <use x=\"195.117188\" xlink:href=\"#DejaVuSans-51\"/>\n    </g>\n   </g>\n   <g id=\"text_224\">\n    <!-- 1 -->\n    <g style=\"fill:#ffffff;\" transform=\"translate(721.230339 554.786839)scale(0.168 -0.168)\">\n     <use xlink:href=\"#DejaVuSans-49\"/>\n    </g>\n   </g>\n   <g id=\"text_225\">\n    <!-- Correlation matrix -->\n    <defs>\n     <path d=\"M 30.609375 48.390625 \nQ 23.390625 48.390625 19.1875 42.75 \nQ 14.984375 37.109375 14.984375 27.296875 \nQ 14.984375 17.484375 19.15625 11.84375 \nQ 23.34375 6.203125 30.609375 6.203125 \nQ 37.796875 6.203125 41.984375 11.859375 \nQ 46.1875 17.53125 46.1875 27.296875 \nQ 46.1875 37.015625 41.984375 42.703125 \nQ 37.796875 48.390625 30.609375 48.390625 \nz\nM 30.609375 56 \nQ 42.328125 56 49.015625 48.375 \nQ 55.71875 40.765625 55.71875 27.296875 \nQ 55.71875 13.875 49.015625 6.21875 \nQ 42.328125 -1.421875 30.609375 -1.421875 \nQ 18.84375 -1.421875 12.171875 6.21875 \nQ 5.515625 13.875 5.515625 27.296875 \nQ 5.515625 40.765625 12.171875 48.375 \nQ 18.84375 56 30.609375 56 \nz\n\" id=\"DejaVuSans-111\"/>\n     <path d=\"M 9.421875 75.984375 \nL 18.40625 75.984375 \nL 18.40625 0 \nL 9.421875 0 \nz\n\" id=\"DejaVuSans-108\"/>\n     <path d=\"M 9.421875 54.6875 \nL 18.40625 54.6875 \nL 18.40625 0 \nL 9.421875 0 \nz\nM 9.421875 75.984375 \nL 18.40625 75.984375 \nL 18.40625 64.59375 \nL 9.421875 64.59375 \nz\n\" id=\"DejaVuSans-105\"/>\n     <path d=\"M 54.890625 33.015625 \nL 54.890625 0 \nL 45.90625 0 \nL 45.90625 32.71875 \nQ 45.90625 40.484375 42.875 44.328125 \nQ 39.84375 48.1875 33.796875 48.1875 \nQ 26.515625 48.1875 22.3125 43.546875 \nQ 18.109375 38.921875 18.109375 30.90625 \nL 18.109375 0 \nL 9.078125 0 \nL 9.078125 54.6875 \nL 18.109375 54.6875 \nL 18.109375 46.1875 \nQ 21.34375 51.125 25.703125 53.5625 \nQ 30.078125 56 35.796875 56 \nQ 45.21875 56 50.046875 50.171875 \nQ 54.890625 44.34375 54.890625 33.015625 \nz\n\" id=\"DejaVuSans-110\"/>\n     <path id=\"DejaVuSans-32\"/>\n     <path d=\"M 52 44.1875 \nQ 55.375 50.25 60.0625 53.125 \nQ 64.75 56 71.09375 56 \nQ 79.640625 56 84.28125 50.015625 \nQ 88.921875 44.046875 88.921875 33.015625 \nL 88.921875 0 \nL 79.890625 0 \nL 79.890625 32.71875 \nQ 79.890625 40.578125 77.09375 44.375 \nQ 74.3125 48.1875 68.609375 48.1875 \nQ 61.625 48.1875 57.5625 43.546875 \nQ 53.515625 38.921875 53.515625 30.90625 \nL 53.515625 0 \nL 44.484375 0 \nL 44.484375 32.71875 \nQ 44.484375 40.625 41.703125 44.40625 \nQ 38.921875 48.1875 33.109375 48.1875 \nQ 26.21875 48.1875 22.15625 43.53125 \nQ 18.109375 38.875 18.109375 30.90625 \nL 18.109375 0 \nL 9.078125 0 \nL 9.078125 54.6875 \nL 18.109375 54.6875 \nL 18.109375 46.1875 \nQ 21.1875 51.21875 25.484375 53.609375 \nQ 29.78125 56 35.6875 56 \nQ 41.65625 56 45.828125 52.96875 \nQ 50 49.953125 52 44.1875 \nz\n\" id=\"DejaVuSans-109\"/>\n     <path d=\"M 54.890625 54.6875 \nL 35.109375 28.078125 \nL 55.90625 0 \nL 45.3125 0 \nL 29.390625 21.484375 \nL 13.484375 0 \nL 2.875 0 \nL 24.125 28.609375 \nL 4.6875 54.6875 \nL 15.28125 54.6875 \nL 29.78125 35.203125 \nL 44.28125 54.6875 \nz\n\" id=\"DejaVuSans-120\"/>\n    </defs>\n    <g style=\"fill:#262626;\" transform=\"translate(339.322625 19.965375)scale(0.168 -0.168)\">\n     <use xlink:href=\"#DejaVuSans-67\"/>\n     <use x=\"69.824219\" xlink:href=\"#DejaVuSans-111\"/>\n     <use x=\"131.005859\" xlink:href=\"#DejaVuSans-114\"/>\n     <use x=\"170.369141\" xlink:href=\"#DejaVuSans-114\"/>\n     <use x=\"209.232422\" xlink:href=\"#DejaVuSans-101\"/>\n     <use x=\"270.755859\" xlink:href=\"#DejaVuSans-108\"/>\n     <use x=\"298.539062\" xlink:href=\"#DejaVuSans-97\"/>\n     <use x=\"359.818359\" xlink:href=\"#DejaVuSans-116\"/>\n     <use x=\"399.027344\" xlink:href=\"#DejaVuSans-105\"/>\n     <use x=\"426.810547\" xlink:href=\"#DejaVuSans-111\"/>\n     <use x=\"487.992188\" xlink:href=\"#DejaVuSans-110\"/>\n     <use x=\"551.371094\" xlink:href=\"#DejaVuSans-32\"/>\n     <use x=\"583.158203\" xlink:href=\"#DejaVuSans-109\"/>\n     <use x=\"680.570312\" xlink:href=\"#DejaVuSans-97\"/>\n     <use x=\"741.849609\" xlink:href=\"#DejaVuSans-116\"/>\n     <use x=\"781.058594\" xlink:href=\"#DejaVuSans-114\"/>\n     <use x=\"822.171875\" xlink:href=\"#DejaVuSans-105\"/>\n     <use x=\"849.955078\" xlink:href=\"#DejaVuSans-120\"/>\n    </g>\n   </g>\n  </g>\n  <g id=\"axes_2\">\n   <g id=\"patch_3\">\n    <path clip-path=\"url(#pbd93d75748)\" d=\"M 792.339125 569.565375 \nL 792.339125 567.441937 \nL 792.339125 28.088813 \nL 792.339125 25.965375 \nL 819.519125 25.965375 \nL 819.519125 28.088813 \nL 819.519125 567.441937 \nL 819.519125 569.565375 \nz\n\" style=\"fill:#eaeaf2;stroke:#eaeaf2;stroke-linejoin:miter;stroke-width:0.01;\"/>\n   </g>\n   <g id=\"matplotlib.axis_3\"/>\n   <g id=\"matplotlib.axis_4\">\n    <g id=\"ytick_15\">\n     <g id=\"line2d_1\">\n      <defs>\n       <path d=\"M 0 0 \nL 6 0 \n\" id=\"m0a43964b83\" style=\"stroke:#262626;stroke-width:1.25;\"/>\n      </defs>\n      <g>\n       <use style=\"fill:#262626;stroke:#262626;stroke-width:1.25;\" x=\"819.519125\" xlink:href=\"#m0a43964b83\" y=\"540.181591\"/>\n      </g>\n     </g>\n     <g id=\"text_226\">\n      <!-- −0.75 -->\n      <defs>\n       <path d=\"M 10.59375 35.5 \nL 73.1875 35.5 \nL 73.1875 27.203125 \nL 10.59375 27.203125 \nz\n\" id=\"DejaVuSans-8722\"/>\n      </defs>\n      <g style=\"fill:#262626;\" transform=\"translate(829.019125 546.032388)scale(0.154 -0.154)\">\n       <use xlink:href=\"#DejaVuSans-8722\"/>\n       <use x=\"83.789062\" xlink:href=\"#DejaVuSans-48\"/>\n       <use x=\"147.412109\" xlink:href=\"#DejaVuSans-46\"/>\n       <use x=\"179.199219\" xlink:href=\"#DejaVuSans-55\"/>\n       <use x=\"242.822266\" xlink:href=\"#DejaVuSans-53\"/>\n      </g>\n     </g>\n    </g>\n    <g id=\"ytick_16\">\n     <g id=\"line2d_2\">\n      <g>\n       <use style=\"fill:#262626;stroke:#262626;stroke-width:1.25;\" x=\"819.519125\" xlink:href=\"#m0a43964b83\" y=\"466.722132\"/>\n      </g>\n     </g>\n     <g id=\"text_227\">\n      <!-- −0.50 -->\n      <g style=\"fill:#262626;\" transform=\"translate(829.019125 472.572929)scale(0.154 -0.154)\">\n       <use xlink:href=\"#DejaVuSans-8722\"/>\n       <use x=\"83.789062\" xlink:href=\"#DejaVuSans-48\"/>\n       <use x=\"147.412109\" xlink:href=\"#DejaVuSans-46\"/>\n       <use x=\"179.199219\" xlink:href=\"#DejaVuSans-53\"/>\n       <use x=\"242.822266\" xlink:href=\"#DejaVuSans-48\"/>\n      </g>\n     </g>\n    </g>\n    <g id=\"ytick_17\">\n     <g id=\"line2d_3\">\n      <g>\n       <use style=\"fill:#262626;stroke:#262626;stroke-width:1.25;\" x=\"819.519125\" xlink:href=\"#m0a43964b83\" y=\"393.262672\"/>\n      </g>\n     </g>\n     <g id=\"text_228\">\n      <!-- −0.25 -->\n      <g style=\"fill:#262626;\" transform=\"translate(829.019125 399.113469)scale(0.154 -0.154)\">\n       <use xlink:href=\"#DejaVuSans-8722\"/>\n       <use x=\"83.789062\" xlink:href=\"#DejaVuSans-48\"/>\n       <use x=\"147.412109\" xlink:href=\"#DejaVuSans-46\"/>\n       <use x=\"179.199219\" xlink:href=\"#DejaVuSans-50\"/>\n       <use x=\"242.822266\" xlink:href=\"#DejaVuSans-53\"/>\n      </g>\n     </g>\n    </g>\n    <g id=\"ytick_18\">\n     <g id=\"line2d_4\">\n      <g>\n       <use style=\"fill:#262626;stroke:#262626;stroke-width:1.25;\" x=\"819.519125\" xlink:href=\"#m0a43964b83\" y=\"319.803213\"/>\n      </g>\n     </g>\n     <g id=\"text_229\">\n      <!-- 0.00 -->\n      <g style=\"fill:#262626;\" transform=\"translate(829.019125 325.65401)scale(0.154 -0.154)\">\n       <use xlink:href=\"#DejaVuSans-48\"/>\n       <use x=\"63.623047\" xlink:href=\"#DejaVuSans-46\"/>\n       <use x=\"95.410156\" xlink:href=\"#DejaVuSans-48\"/>\n       <use x=\"159.033203\" xlink:href=\"#DejaVuSans-48\"/>\n      </g>\n     </g>\n    </g>\n    <g id=\"ytick_19\">\n     <g id=\"line2d_5\">\n      <g>\n       <use style=\"fill:#262626;stroke:#262626;stroke-width:1.25;\" x=\"819.519125\" xlink:href=\"#m0a43964b83\" y=\"246.343753\"/>\n      </g>\n     </g>\n     <g id=\"text_230\">\n      <!-- 0.25 -->\n      <g style=\"fill:#262626;\" transform=\"translate(829.019125 252.19455)scale(0.154 -0.154)\">\n       <use xlink:href=\"#DejaVuSans-48\"/>\n       <use x=\"63.623047\" xlink:href=\"#DejaVuSans-46\"/>\n       <use x=\"95.410156\" xlink:href=\"#DejaVuSans-50\"/>\n       <use x=\"159.033203\" xlink:href=\"#DejaVuSans-53\"/>\n      </g>\n     </g>\n    </g>\n    <g id=\"ytick_20\">\n     <g id=\"line2d_6\">\n      <g>\n       <use style=\"fill:#262626;stroke:#262626;stroke-width:1.25;\" x=\"819.519125\" xlink:href=\"#m0a43964b83\" y=\"172.884294\"/>\n      </g>\n     </g>\n     <g id=\"text_231\">\n      <!-- 0.50 -->\n      <g style=\"fill:#262626;\" transform=\"translate(829.019125 178.735091)scale(0.154 -0.154)\">\n       <use xlink:href=\"#DejaVuSans-48\"/>\n       <use x=\"63.623047\" xlink:href=\"#DejaVuSans-46\"/>\n       <use x=\"95.410156\" xlink:href=\"#DejaVuSans-53\"/>\n       <use x=\"159.033203\" xlink:href=\"#DejaVuSans-48\"/>\n      </g>\n     </g>\n    </g>\n    <g id=\"ytick_21\">\n     <g id=\"line2d_7\">\n      <g>\n       <use style=\"fill:#262626;stroke:#262626;stroke-width:1.25;\" x=\"819.519125\" xlink:href=\"#m0a43964b83\" y=\"99.424834\"/>\n      </g>\n     </g>\n     <g id=\"text_232\">\n      <!-- 0.75 -->\n      <g style=\"fill:#262626;\" transform=\"translate(829.019125 105.275631)scale(0.154 -0.154)\">\n       <use xlink:href=\"#DejaVuSans-48\"/>\n       <use x=\"63.623047\" xlink:href=\"#DejaVuSans-46\"/>\n       <use x=\"95.410156\" xlink:href=\"#DejaVuSans-55\"/>\n       <use x=\"159.033203\" xlink:href=\"#DejaVuSans-53\"/>\n      </g>\n     </g>\n    </g>\n    <g id=\"ytick_22\">\n     <g id=\"line2d_8\">\n      <g>\n       <use style=\"fill:#262626;stroke:#262626;stroke-width:1.25;\" x=\"819.519125\" xlink:href=\"#m0a43964b83\" y=\"25.965375\"/>\n      </g>\n     </g>\n     <g id=\"text_233\">\n      <!-- 1.00 -->\n      <g style=\"fill:#262626;\" transform=\"translate(829.019125 31.816172)scale(0.154 -0.154)\">\n       <use xlink:href=\"#DejaVuSans-49\"/>\n       <use x=\"63.623047\" xlink:href=\"#DejaVuSans-46\"/>\n       <use x=\"95.410156\" xlink:href=\"#DejaVuSans-48\"/>\n       <use x=\"159.033203\" xlink:href=\"#DejaVuSans-48\"/>\n      </g>\n     </g>\n    </g>\n   </g>\n   <image height=\"543\" id=\"imageb2a205474a\" transform=\"scale(1 -1)translate(0 -543)\" width=\"28\" x=\"792\" xlink:href=\"data:image/png;base64,\niVBORw0KGgoAAAANSUhEUgAAABwAAAIfCAYAAABjBrwTAAAABHNCSVQICAgIfAhkiAAAAqhJREFUeJztnIFtxDAMA+3AW3WFDt29vo27xMFByLsFBJmkpHyBzq/vnz0OsuZ1naw3zlYbY6x5zaMFH+hwhmuoaXAKgn/la5gefHOIo4Y460rPoabBaegwPRYFGl7562mma5jv0vgOvWlw8k3T0GH88C74FcMTA8ZJ8/6CDcE3FjBPnInpHeZrWNBhvEvjt4WmwSkI/uEG1ZCnoEOPKJontsXZggULOP6mKTgxGkbb2YK6FKdi0pwt6Inx/oINX08Fo+1sQTXEKTgxCs7Egll6tmDDAk6/afJN03BE6VIYXYrToGH6mahpcAq+nhxtNHaIkz+8GzSM7zBeQ58Ux1jgPNHh0f9LpUt5Klx6tuATLg3PoabBKeiwYHiP8ODrUhzPRJx8lz4QC0cbjMHHaRje5hDGHOLkbwtjgVMQi/zh7QKmMYc4aohTsIBPV9Q0OAYfRw1x1BDHL+D3FzQWOHaI09ChOYSxQ5z8Dn1SnDXHfbSgwxtnzR3fYX4Od3wO1RDGBYyjaXAqNMzvUJeyqCFOfg79PsRZI900DcF3eMOYQ5wCDeMX8BrpGhoLnIL1FB8LRxuOJwZOwSyN11DT4BSMtoL1dKdrGD/azCGOGr6/YP6TNsTC9QRjDnEaNCzIYXiHxgKnIhbxGqYHf41bDVmcNDj5k8ZY4BSMtq2GMOYQZ23XE4wnxvsLFpimIPjx68kTg8YTA2ftfA3TZ+kTo03TsBh8HIc3jocwTsERFX8IG3wcFzCOwxvHQxjHHOLkd+how8k3jRri+KcgHF2Ko4bvL1hhmvwOw2NRoOH9l96hLqWxQ5z8Dg0+Tr5pKtZTfofmkMUc4uRraPBx1o6PhcGnUUOctf/iJ40uhWlYwOlPuu7f9A73J71DNaRRQ5y1P+knRryGBh/nH0fHWigLQRTXAAAAAElFTkSuQmCC\" y=\"-26\"/>\n   <g id=\"patch_4\">\n    <path d=\"M 792.339125 569.565375 \nL 792.339125 567.441937 \nL 792.339125 28.088813 \nL 792.339125 25.965375 \nL 819.519125 25.965375 \nL 819.519125 28.088813 \nL 819.519125 567.441937 \nL 819.519125 569.565375 \nz\n\" style=\"fill:none;\"/>\n   </g>\n  </g>\n </g>\n <defs>\n  <clipPath id=\"pc83dab53b2\">\n   <rect height=\"543.6\" width=\"669.6\" x=\"80.889125\" y=\"25.965375\"/>\n  </clipPath>\n  <clipPath id=\"pbd93d75748\">\n   <rect height=\"543.6\" width=\"27.18\" x=\"792.339125\" y=\"25.965375\"/>\n  </clipPath>\n </defs>\n</svg>\n"
          },
          "metadata": {
            "tags": []
          }
        }
      ]
    },
    {
      "cell_type": "markdown",
      "metadata": {
        "id": "SeT13v0rr7Uu"
      },
      "source": [
        "**9).** Создайте список high_corr из признаков, корреляция которых с полем target по абсолютному значению превышает 0.5 (причем, само поле target не должно входить в этот список)."
      ]
    },
    {
      "cell_type": "code",
      "metadata": {
        "colab": {
          "base_uri": "https://localhost:8080/",
          "height": 111
        },
        "id": "h86EXU-_r9Wv",
        "outputId": "2e2cc6ea-a5eb-452a-af1b-c1d7816afc49"
      },
      "source": [
        "high_corr = X_corr.loc[(abs(X_corr['target'] > 0.5 ))]\n",
        "high_corr.drop('target', axis=1, inplace=True)\n",
        "high_corr"
      ],
      "execution_count": 162,
      "outputs": [
        {
          "output_type": "execute_result",
          "data": {
            "text/html": [
              "<div>\n",
              "<style scoped>\n",
              "    .dataframe tbody tr th:only-of-type {\n",
              "        vertical-align: middle;\n",
              "    }\n",
              "\n",
              "    .dataframe tbody tr th {\n",
              "        vertical-align: top;\n",
              "    }\n",
              "\n",
              "    .dataframe thead th {\n",
              "        text-align: right;\n",
              "    }\n",
              "</style>\n",
              "<table border=\"1\" class=\"dataframe\">\n",
              "  <thead>\n",
              "    <tr style=\"text-align: right;\">\n",
              "      <th></th>\n",
              "      <th>CRIM</th>\n",
              "      <th>ZN</th>\n",
              "      <th>INDUS</th>\n",
              "      <th>CHAS</th>\n",
              "      <th>NOX</th>\n",
              "      <th>RM</th>\n",
              "      <th>AGE</th>\n",
              "      <th>DIS</th>\n",
              "      <th>RAD</th>\n",
              "      <th>TAX</th>\n",
              "      <th>PTRATIO</th>\n",
              "      <th>B</th>\n",
              "      <th>LSTAT</th>\n",
              "    </tr>\n",
              "  </thead>\n",
              "  <tbody>\n",
              "    <tr>\n",
              "      <th>CHAS</th>\n",
              "      <td>-0.31</td>\n",
              "      <td>0.00</td>\n",
              "      <td>0.44</td>\n",
              "      <td>1.00</td>\n",
              "      <td>0.0</td>\n",
              "      <td>-0.32</td>\n",
              "      <td>-0.35</td>\n",
              "      <td>0.36</td>\n",
              "      <td>0.0</td>\n",
              "      <td>0.0</td>\n",
              "      <td>0.00</td>\n",
              "      <td>0.00</td>\n",
              "      <td>-0.44</td>\n",
              "    </tr>\n",
              "    <tr>\n",
              "      <th>target</th>\n",
              "      <td>-0.33</td>\n",
              "      <td>0.44</td>\n",
              "      <td>0.00</td>\n",
              "      <td>0.52</td>\n",
              "      <td>0.0</td>\n",
              "      <td>-0.72</td>\n",
              "      <td>-0.85</td>\n",
              "      <td>0.49</td>\n",
              "      <td>-0.5</td>\n",
              "      <td>0.0</td>\n",
              "      <td>-0.62</td>\n",
              "      <td>-0.79</td>\n",
              "      <td>-0.63</td>\n",
              "    </tr>\n",
              "  </tbody>\n",
              "</table>\n",
              "</div>"
            ],
            "text/plain": [
              "        CRIM    ZN  INDUS  CHAS  NOX  ...  RAD  TAX  PTRATIO     B  LSTAT\n",
              "CHAS   -0.31  0.00   0.44  1.00  0.0  ...  0.0  0.0     0.00  0.00  -0.44\n",
              "target -0.33  0.44   0.00  0.52  0.0  ... -0.5  0.0    -0.62 -0.79  -0.63\n",
              "\n",
              "[2 rows x 13 columns]"
            ]
          },
          "metadata": {
            "tags": []
          },
          "execution_count": 162
        }
      ]
    },
    {
      "cell_type": "markdown",
      "metadata": {
        "id": "NS6NpkjHtwhd"
      },
      "source": [
        "**10).** Удалите из датафрейма X поле с целевой переменной. Для всех признаков, названия которых содержатся в списке high_corr, вычислите квадрат их значений и добавьте в датафрейм X соответствующие поля с суффиксом '_2', добавленного к первоначальному названию признака. Итоговый датафрейм должен содержать все поля, которые, были в нем изначально, а также поля с признаками из списка high_corr, возведенными в квадрат. Выведите описание полей датафрейма X с помощью метода describe."
      ]
    },
    {
      "cell_type": "code",
      "metadata": {
        "id": "PgLovluPuD0H"
      },
      "source": [
        "high_corr.drop('target', axis=1, inplace=True)"
      ],
      "execution_count": null,
      "outputs": []
    },
    {
      "cell_type": "code",
      "metadata": {
        "colab": {
          "base_uri": "https://localhost:8080/"
        },
        "id": "jqm7Txsiun9o",
        "outputId": "e431b56c-8e00-48c4-cbbd-86e1e43623fe"
      },
      "source": [
        "cols = high_corr.keys()\n",
        "cols"
      ],
      "execution_count": 166,
      "outputs": [
        {
          "output_type": "execute_result",
          "data": {
            "text/plain": [
              "Index(['CRIM', 'ZN', 'INDUS', 'CHAS', 'NOX', 'RM', 'AGE', 'DIS', 'RAD', 'TAX',\n",
              "       'PTRATIO', 'B', 'LSTAT'],\n",
              "      dtype='object')"
            ]
          },
          "metadata": {
            "tags": []
          },
          "execution_count": 166
        }
      ]
    },
    {
      "cell_type": "code",
      "metadata": {
        "colab": {
          "base_uri": "https://localhost:8080/",
          "height": 111
        },
        "id": "lkYQBxi4uQEM",
        "outputId": "0dab24e3-d31b-424b-8ac0-eaabf7400d65"
      },
      "source": [
        "for i in cols:\n",
        "  high_corr[f'{i}_2'] = high_corr[f'{i}'] ** 2\n",
        "high_corr"
      ],
      "execution_count": 169,
      "outputs": [
        {
          "output_type": "execute_result",
          "data": {
            "text/html": [
              "<div>\n",
              "<style scoped>\n",
              "    .dataframe tbody tr th:only-of-type {\n",
              "        vertical-align: middle;\n",
              "    }\n",
              "\n",
              "    .dataframe tbody tr th {\n",
              "        vertical-align: top;\n",
              "    }\n",
              "\n",
              "    .dataframe thead th {\n",
              "        text-align: right;\n",
              "    }\n",
              "</style>\n",
              "<table border=\"1\" class=\"dataframe\">\n",
              "  <thead>\n",
              "    <tr style=\"text-align: right;\">\n",
              "      <th></th>\n",
              "      <th>CRIM</th>\n",
              "      <th>ZN</th>\n",
              "      <th>INDUS</th>\n",
              "      <th>CHAS</th>\n",
              "      <th>NOX</th>\n",
              "      <th>RM</th>\n",
              "      <th>AGE</th>\n",
              "      <th>DIS</th>\n",
              "      <th>RAD</th>\n",
              "      <th>TAX</th>\n",
              "      <th>PTRATIO</th>\n",
              "      <th>B</th>\n",
              "      <th>LSTAT</th>\n",
              "      <th>CRIM_2</th>\n",
              "      <th>ZN_2</th>\n",
              "      <th>INDUS_2</th>\n",
              "      <th>CHAS_2</th>\n",
              "      <th>NOX_2</th>\n",
              "      <th>RM_2</th>\n",
              "      <th>AGE_2</th>\n",
              "      <th>DIS_2</th>\n",
              "      <th>RAD_2</th>\n",
              "      <th>TAX_2</th>\n",
              "      <th>PTRATIO_2</th>\n",
              "      <th>B_2</th>\n",
              "      <th>LSTAT_2</th>\n",
              "    </tr>\n",
              "  </thead>\n",
              "  <tbody>\n",
              "    <tr>\n",
              "      <th>CHAS</th>\n",
              "      <td>-0.31</td>\n",
              "      <td>0.00</td>\n",
              "      <td>0.44</td>\n",
              "      <td>1.00</td>\n",
              "      <td>0.0</td>\n",
              "      <td>-0.32</td>\n",
              "      <td>-0.35</td>\n",
              "      <td>0.36</td>\n",
              "      <td>0.0</td>\n",
              "      <td>0.0</td>\n",
              "      <td>0.00</td>\n",
              "      <td>0.00</td>\n",
              "      <td>-0.44</td>\n",
              "      <td>0.0961</td>\n",
              "      <td>0.0000</td>\n",
              "      <td>0.1936</td>\n",
              "      <td>1.0000</td>\n",
              "      <td>0.0</td>\n",
              "      <td>0.1024</td>\n",
              "      <td>0.1225</td>\n",
              "      <td>0.1296</td>\n",
              "      <td>0.00</td>\n",
              "      <td>0.0</td>\n",
              "      <td>0.0000</td>\n",
              "      <td>0.0000</td>\n",
              "      <td>0.1936</td>\n",
              "    </tr>\n",
              "    <tr>\n",
              "      <th>target</th>\n",
              "      <td>-0.33</td>\n",
              "      <td>0.44</td>\n",
              "      <td>0.00</td>\n",
              "      <td>0.52</td>\n",
              "      <td>0.0</td>\n",
              "      <td>-0.72</td>\n",
              "      <td>-0.85</td>\n",
              "      <td>0.49</td>\n",
              "      <td>-0.5</td>\n",
              "      <td>0.0</td>\n",
              "      <td>-0.62</td>\n",
              "      <td>-0.79</td>\n",
              "      <td>-0.63</td>\n",
              "      <td>0.1089</td>\n",
              "      <td>0.1936</td>\n",
              "      <td>0.0000</td>\n",
              "      <td>0.2704</td>\n",
              "      <td>0.0</td>\n",
              "      <td>0.5184</td>\n",
              "      <td>0.7225</td>\n",
              "      <td>0.2401</td>\n",
              "      <td>0.25</td>\n",
              "      <td>0.0</td>\n",
              "      <td>0.3844</td>\n",
              "      <td>0.6241</td>\n",
              "      <td>0.3969</td>\n",
              "    </tr>\n",
              "  </tbody>\n",
              "</table>\n",
              "</div>"
            ],
            "text/plain": [
              "        CRIM    ZN  INDUS  CHAS  NOX  ...  RAD_2  TAX_2  PTRATIO_2     B_2  LSTAT_2\n",
              "CHAS   -0.31  0.00   0.44  1.00  0.0  ...   0.00    0.0     0.0000  0.0000   0.1936\n",
              "target -0.33  0.44   0.00  0.52  0.0  ...   0.25    0.0     0.3844  0.6241   0.3969\n",
              "\n",
              "[2 rows x 26 columns]"
            ]
          },
          "metadata": {
            "tags": []
          },
          "execution_count": 169
        }
      ]
    }
  ]
}